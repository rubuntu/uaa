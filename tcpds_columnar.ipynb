{
  "nbformat": 4,
  "nbformat_minor": 0,
  "metadata": {
    "colab": {
      "provenance": [],
      "authorship_tag": "ABX9TyNpqwJYbrKgZ5ovA4v80uBf",
      "include_colab_link": true
    },
    "kernelspec": {
      "name": "python3",
      "display_name": "Python 3"
    },
    "language_info": {
      "name": "python"
    }
  },
  "cells": [
    {
      "cell_type": "markdown",
      "metadata": {
        "id": "view-in-github",
        "colab_type": "text"
      },
      "source": [
        "<a href=\"https://colab.research.google.com/github/rubuntu/uaa-417-sistemas-de-gestion-de-bases-de-datos-avanzados/blob/main/tcpds_columnar.ipynb\" target=\"_parent\"><img src=\"https://colab.research.google.com/assets/colab-badge.svg\" alt=\"Open In Colab\"/></a>"
      ]
    },
    {
      "cell_type": "code",
      "source": [
        "!lsb_release -a"
      ],
      "metadata": {
        "colab": {
          "base_uri": "https://localhost:8080/"
        },
        "id": "QICINXDof10x",
        "outputId": "2e733c08-98e1-45e7-be2f-67aaf0457d8f"
      },
      "execution_count": 1,
      "outputs": [
        {
          "output_type": "stream",
          "name": "stdout",
          "text": [
            "No LSB modules are available.\n",
            "Distributor ID:\tUbuntu\n",
            "Description:\tUbuntu 22.04.3 LTS\n",
            "Release:\t22.04\n",
            "Codename:\tjammy\n"
          ]
        }
      ]
    },
    {
      "cell_type": "code",
      "source": [
        "# Agregar el repositorio oficial de PostgreSQL 13\n",
        "!sudo sh -c 'echo \"deb http://apt.postgresql.org/pub/repos/apt/ jammy-pgdg main\" > /etc/apt/sources.list.d/pgdg.list'\n",
        "\n",
        "# Importar la clave del repositorio\n",
        "!wget --quiet -O - https://www.postgresql.org/media/keys/ACCC4CF8.asc | sudo apt-key add -\n",
        "\n",
        "# Actualizar el índice de los paquetes\n",
        "!sudo apt-get update\n"
      ],
      "metadata": {
        "colab": {
          "base_uri": "https://localhost:8080/"
        },
        "id": "zCtbbIzfgNfK",
        "outputId": "120e3688-01d3-4178-ca19-c7c89e68dc94"
      },
      "execution_count": 2,
      "outputs": [
        {
          "output_type": "stream",
          "name": "stdout",
          "text": [
            "Warning: apt-key is deprecated. Manage keyring files in trusted.gpg.d instead (see apt-key(8)).\n",
            "OK\n",
            "Get:1 https://cloud.r-project.org/bin/linux/ubuntu jammy-cran40/ InRelease [3,626 B]\n",
            "Get:2 https://developer.download.nvidia.com/compute/cuda/repos/ubuntu2204/x86_64  InRelease [1,581 B]\n",
            "Get:3 http://security.ubuntu.com/ubuntu jammy-security InRelease [129 kB]\n",
            "Hit:4 http://archive.ubuntu.com/ubuntu jammy InRelease\n",
            "Get:5 http://archive.ubuntu.com/ubuntu jammy-updates InRelease [128 kB]\n",
            "Get:6 http://apt.postgresql.org/pub/repos/apt jammy-pgdg InRelease [129 kB]\n",
            "Ign:7 https://r2u.stat.illinois.edu/ubuntu jammy InRelease\n",
            "Get:8 https://developer.download.nvidia.com/compute/cuda/repos/ubuntu2204/x86_64  Packages [1,027 kB]\n",
            "Get:9 https://r2u.stat.illinois.edu/ubuntu jammy Release [5,713 B]\n",
            "Get:10 https://r2u.stat.illinois.edu/ubuntu jammy Release.gpg [793 B]\n",
            "Get:11 https://ppa.launchpadcontent.net/deadsnakes/ppa/ubuntu jammy InRelease [18.1 kB]\n",
            "Hit:12 http://archive.ubuntu.com/ubuntu jammy-backports InRelease\n",
            "Get:13 https://ppa.launchpadcontent.net/graphics-drivers/ppa/ubuntu jammy InRelease [24.3 kB]\n",
            "Hit:14 https://ppa.launchpadcontent.net/ubuntugis/ppa/ubuntu jammy InRelease\n",
            "Get:15 http://security.ubuntu.com/ubuntu jammy-security/main amd64 Packages [2,318 kB]\n",
            "Get:16 https://r2u.stat.illinois.edu/ubuntu jammy/main all Packages [8,361 kB]\n",
            "Get:17 http://apt.postgresql.org/pub/repos/apt jammy-pgdg/main amd64 Packages [576 kB]\n",
            "Get:18 http://security.ubuntu.com/ubuntu jammy-security/universe amd64 Packages [1,159 kB]\n",
            "Get:19 http://archive.ubuntu.com/ubuntu jammy-updates/universe amd64 Packages [1,447 kB]\n",
            "Get:20 https://ppa.launchpadcontent.net/deadsnakes/ppa/ubuntu jammy/main amd64 Packages [27.8 kB]\n",
            "Get:21 http://archive.ubuntu.com/ubuntu jammy-updates/main amd64 Packages [2,596 kB]\n",
            "Get:22 https://r2u.stat.illinois.edu/ubuntu jammy/main amd64 Packages [2,592 kB]\n",
            "Get:23 https://ppa.launchpadcontent.net/graphics-drivers/ppa/ubuntu jammy/main amd64 Packages [54.3 kB]\n",
            "Fetched 20.6 MB in 6s (3,449 kB/s)\n",
            "Reading package lists... Done\n",
            "W: Skipping acquire of configured file 'main/source/Sources' as repository 'https://r2u.stat.illinois.edu/ubuntu jammy InRelease' does not seem to provide it (sources.list entry misspelt?)\n",
            "W: http://apt.postgresql.org/pub/repos/apt/dists/jammy-pgdg/InRelease: Key is stored in legacy trusted.gpg keyring (/etc/apt/trusted.gpg), see the DEPRECATION section in apt-key(8) for details.\n"
          ]
        }
      ]
    },
    {
      "cell_type": "code",
      "source": [
        "# Instalar PostgreSQL 13 y dependencias necesarias\n",
        "!sudo apt-get install -y postgresql-13 postgresql-client-13 postgresql-server-dev-13 gcc make libprotobuf-c-dev protobuf-c-compiler bison flex\n"
      ],
      "metadata": {
        "colab": {
          "base_uri": "https://localhost:8080/"
        },
        "id": "yFYN_p-rgP3I",
        "outputId": "5912aaa1-0333-4465-b929-40489189d1ee"
      },
      "execution_count": 3,
      "outputs": [
        {
          "output_type": "stream",
          "name": "stdout",
          "text": [
            "Reading package lists... Done\n",
            "Building dependency tree... Done\n",
            "Reading state information... Done\n",
            "gcc is already the newest version (4:11.2.0-1ubuntu1).\n",
            "gcc set to manually installed.\n",
            "make is already the newest version (4.3-4.1build1).\n",
            "make set to manually installed.\n",
            "The following additional packages will be installed:\n",
            "  clang-15 libclang-common-15-dev libclang-cpp15 libclang1-15\n",
            "  libcommon-sense-perl libffi-dev libfl-dev libfl2 libjson-perl\n",
            "  libjson-xs-perl libpfm4 libprotobuf-c1 libtypes-serialiser-perl libz3-4\n",
            "  libz3-dev llvm-15 llvm-15-dev llvm-15-linker-tools llvm-15-runtime\n",
            "  llvm-15-tools logrotate netbase postgresql-client-common postgresql-common\n",
            "  python3-pygments python3-yaml ssl-cert sysstat\n",
            "Suggested packages:\n",
            "  bison-doc clang-15-doc wasi-libc flex-doc llvm-15-doc bsd-mailx | mailx\n",
            "  postgresql-doc-13 python-pygments-doc ttf-bitstream-vera isag\n",
            "The following NEW packages will be installed:\n",
            "  bison clang-15 flex libclang-common-15-dev libclang-cpp15 libclang1-15\n",
            "  libcommon-sense-perl libffi-dev libfl-dev libfl2 libjson-perl\n",
            "  libjson-xs-perl libpfm4 libprotobuf-c-dev libprotobuf-c1\n",
            "  libtypes-serialiser-perl libz3-4 libz3-dev llvm-15 llvm-15-dev\n",
            "  llvm-15-linker-tools llvm-15-runtime llvm-15-tools logrotate netbase\n",
            "  postgresql-13 postgresql-client-13 postgresql-client-common\n",
            "  postgresql-common postgresql-server-dev-13 protobuf-c-compiler\n",
            "  python3-pygments python3-yaml ssl-cert sysstat\n",
            "0 upgraded, 35 newly installed, 0 to remove and 56 not upgraded.\n",
            "Need to get 110 MB of archives.\n",
            "After this operation, 619 MB of additional disk space will be used.\n",
            "Get:1 http://archive.ubuntu.com/ubuntu jammy/main amd64 flex amd64 2.6.4-8build2 [307 kB]\n",
            "Get:2 http://apt.postgresql.org/pub/repos/apt jammy-pgdg/main amd64 postgresql-client-common all 264.pgdg22.04+1 [95.0 kB]\n",
            "Get:3 http://apt.postgresql.org/pub/repos/apt jammy-pgdg/main amd64 postgresql-common all 264.pgdg22.04+1 [241 kB]\n",
            "Get:4 http://apt.postgresql.org/pub/repos/apt jammy-pgdg/main amd64 postgresql-client-13 amd64 13.16-1.pgdg22.04+1 [1,510 kB]\n",
            "Get:5 http://archive.ubuntu.com/ubuntu jammy/main amd64 libjson-perl all 4.04000-1 [81.8 kB]\n",
            "Get:6 http://archive.ubuntu.com/ubuntu jammy/main amd64 netbase all 6.3 [12.9 kB]\n",
            "Get:7 http://archive.ubuntu.com/ubuntu jammy/main amd64 ssl-cert all 1.1.2 [17.4 kB]\n",
            "Get:8 http://archive.ubuntu.com/ubuntu jammy-updates/main amd64 logrotate amd64 3.19.0-1ubuntu1.1 [54.3 kB]\n",
            "Get:9 http://archive.ubuntu.com/ubuntu jammy/main amd64 python3-yaml amd64 5.4.1-1ubuntu1 [129 kB]\n",
            "Get:10 http://archive.ubuntu.com/ubuntu jammy/main amd64 bison amd64 2:3.8.2+dfsg-1build1 [748 kB]\n",
            "Get:11 http://apt.postgresql.org/pub/repos/apt jammy-pgdg/main amd64 postgresql-13 amd64 13.16-1.pgdg22.04+1 [15.8 MB]\n",
            "Get:12 http://archive.ubuntu.com/ubuntu jammy-updates/main amd64 libclang-cpp15 amd64 1:15.0.7-0ubuntu0.22.04.3 [12.6 MB]\n",
            "Get:13 http://archive.ubuntu.com/ubuntu jammy-updates/main amd64 libclang-common-15-dev amd64 1:15.0.7-0ubuntu0.22.04.3 [5,988 kB]\n",
            "Get:14 http://apt.postgresql.org/pub/repos/apt jammy-pgdg/main amd64 postgresql-server-dev-13 amd64 13.16-1.pgdg22.04+1 [1,044 kB]\n",
            "Get:15 http://archive.ubuntu.com/ubuntu jammy-updates/main amd64 llvm-15-linker-tools amd64 1:15.0.7-0ubuntu0.22.04.3 [1,358 kB]\n",
            "Get:16 http://archive.ubuntu.com/ubuntu jammy-updates/main amd64 libclang1-15 amd64 1:15.0.7-0ubuntu0.22.04.3 [7,012 kB]\n",
            "Get:17 http://archive.ubuntu.com/ubuntu jammy-updates/main amd64 clang-15 amd64 1:15.0.7-0ubuntu0.22.04.3 [83.2 kB]\n",
            "Get:18 http://archive.ubuntu.com/ubuntu jammy/main amd64 libcommon-sense-perl amd64 3.75-2build1 [21.1 kB]\n",
            "Get:19 http://archive.ubuntu.com/ubuntu jammy/main amd64 libfl2 amd64 2.6.4-8build2 [10.7 kB]\n",
            "Get:20 http://archive.ubuntu.com/ubuntu jammy/main amd64 libfl-dev amd64 2.6.4-8build2 [6,236 B]\n",
            "Get:21 http://archive.ubuntu.com/ubuntu jammy/main amd64 libtypes-serialiser-perl all 1.01-1 [11.6 kB]\n",
            "Get:22 http://archive.ubuntu.com/ubuntu jammy/main amd64 libjson-xs-perl amd64 4.030-1build3 [87.2 kB]\n",
            "Get:23 http://archive.ubuntu.com/ubuntu jammy-updates/main amd64 libprotobuf-c1 amd64 1.3.3-1ubuntu2.1 [20.3 kB]\n",
            "Get:24 http://archive.ubuntu.com/ubuntu jammy-updates/main amd64 libprotobuf-c-dev amd64 1.3.3-1ubuntu2.1 [26.9 kB]\n",
            "Get:25 http://archive.ubuntu.com/ubuntu jammy-updates/main amd64 llvm-15-runtime amd64 1:15.0.7-0ubuntu0.22.04.3 [504 kB]\n",
            "Get:26 http://archive.ubuntu.com/ubuntu jammy-updates/main amd64 libpfm4 amd64 4.11.1+git32-gd0b85fb-1ubuntu0.1 [345 kB]\n",
            "Get:27 http://archive.ubuntu.com/ubuntu jammy-updates/main amd64 llvm-15 amd64 1:15.0.7-0ubuntu0.22.04.3 [13.3 MB]\n",
            "Get:28 http://archive.ubuntu.com/ubuntu jammy/main amd64 libffi-dev amd64 3.4.2-4 [63.7 kB]\n",
            "Get:29 http://archive.ubuntu.com/ubuntu jammy/main amd64 python3-pygments all 2.11.2+dfsg-2 [750 kB]\n",
            "Get:30 http://archive.ubuntu.com/ubuntu jammy-updates/main amd64 llvm-15-tools amd64 1:15.0.7-0ubuntu0.22.04.3 [439 kB]\n",
            "Get:31 http://archive.ubuntu.com/ubuntu jammy/universe amd64 libz3-4 amd64 4.8.12-1 [5,766 kB]\n",
            "Get:32 http://archive.ubuntu.com/ubuntu jammy/universe amd64 libz3-dev amd64 4.8.12-1 [72.2 kB]\n",
            "Get:33 http://archive.ubuntu.com/ubuntu jammy-updates/main amd64 llvm-15-dev amd64 1:15.0.7-0ubuntu0.22.04.3 [41.2 MB]\n",
            "Get:34 http://archive.ubuntu.com/ubuntu jammy-updates/main amd64 protobuf-c-compiler amd64 1.3.3-1ubuntu2.1 [56.7 kB]\n",
            "Get:35 http://archive.ubuntu.com/ubuntu jammy-updates/main amd64 sysstat amd64 12.5.2-2ubuntu0.2 [487 kB]\n",
            "Fetched 110 MB in 9s (12.0 MB/s)\n",
            "debconf: unable to initialize frontend: Dialog\n",
            "debconf: (No usable dialog-like program is installed, so the dialog based frontend cannot be used. at /usr/share/perl5/Debconf/FrontEnd/Dialog.pm line 78, <> line 35.)\n",
            "debconf: falling back to frontend: Readline\n",
            "debconf: unable to initialize frontend: Readline\n",
            "debconf: (This frontend requires a controlling tty.)\n",
            "debconf: falling back to frontend: Teletype\n",
            "dpkg-preconfigure: unable to re-open stdin: \n",
            "Selecting previously unselected package flex.\n",
            "(Reading database ... 123614 files and directories currently installed.)\n",
            "Preparing to unpack .../00-flex_2.6.4-8build2_amd64.deb ...\n",
            "Unpacking flex (2.6.4-8build2) ...\n",
            "Selecting previously unselected package libjson-perl.\n",
            "Preparing to unpack .../01-libjson-perl_4.04000-1_all.deb ...\n",
            "Unpacking libjson-perl (4.04000-1) ...\n",
            "Selecting previously unselected package netbase.\n",
            "Preparing to unpack .../02-netbase_6.3_all.deb ...\n",
            "Unpacking netbase (6.3) ...\n",
            "Selecting previously unselected package postgresql-client-common.\n",
            "Preparing to unpack .../03-postgresql-client-common_264.pgdg22.04+1_all.deb ...\n",
            "Unpacking postgresql-client-common (264.pgdg22.04+1) ...\n",
            "Selecting previously unselected package ssl-cert.\n",
            "Preparing to unpack .../04-ssl-cert_1.1.2_all.deb ...\n",
            "Unpacking ssl-cert (1.1.2) ...\n",
            "Selecting previously unselected package postgresql-common.\n",
            "Preparing to unpack .../05-postgresql-common_264.pgdg22.04+1_all.deb ...\n",
            "Adding 'diversion of /usr/bin/pg_config to /usr/bin/pg_config.libpq-dev by postgresql-common'\n",
            "Unpacking postgresql-common (264.pgdg22.04+1) ...\n",
            "Selecting previously unselected package logrotate.\n",
            "Preparing to unpack .../06-logrotate_3.19.0-1ubuntu1.1_amd64.deb ...\n",
            "Unpacking logrotate (3.19.0-1ubuntu1.1) ...\n",
            "Selecting previously unselected package python3-yaml.\n",
            "Preparing to unpack .../07-python3-yaml_5.4.1-1ubuntu1_amd64.deb ...\n",
            "Unpacking python3-yaml (5.4.1-1ubuntu1) ...\n",
            "Selecting previously unselected package bison.\n",
            "Preparing to unpack .../08-bison_2%3a3.8.2+dfsg-1build1_amd64.deb ...\n",
            "Unpacking bison (2:3.8.2+dfsg-1build1) ...\n",
            "Selecting previously unselected package libclang-cpp15.\n",
            "Preparing to unpack .../09-libclang-cpp15_1%3a15.0.7-0ubuntu0.22.04.3_amd64.deb ...\n",
            "Unpacking libclang-cpp15 (1:15.0.7-0ubuntu0.22.04.3) ...\n",
            "Selecting previously unselected package libclang-common-15-dev.\n",
            "Preparing to unpack .../10-libclang-common-15-dev_1%3a15.0.7-0ubuntu0.22.04.3_amd64.deb ...\n",
            "Unpacking libclang-common-15-dev (1:15.0.7-0ubuntu0.22.04.3) ...\n",
            "Selecting previously unselected package llvm-15-linker-tools.\n",
            "Preparing to unpack .../11-llvm-15-linker-tools_1%3a15.0.7-0ubuntu0.22.04.3_amd64.deb ...\n",
            "Unpacking llvm-15-linker-tools (1:15.0.7-0ubuntu0.22.04.3) ...\n",
            "Selecting previously unselected package libclang1-15.\n",
            "Preparing to unpack .../12-libclang1-15_1%3a15.0.7-0ubuntu0.22.04.3_amd64.deb ...\n",
            "Unpacking libclang1-15 (1:15.0.7-0ubuntu0.22.04.3) ...\n",
            "Selecting previously unselected package clang-15.\n",
            "Preparing to unpack .../13-clang-15_1%3a15.0.7-0ubuntu0.22.04.3_amd64.deb ...\n",
            "Unpacking clang-15 (1:15.0.7-0ubuntu0.22.04.3) ...\n",
            "Selecting previously unselected package libcommon-sense-perl:amd64.\n",
            "Preparing to unpack .../14-libcommon-sense-perl_3.75-2build1_amd64.deb ...\n",
            "Unpacking libcommon-sense-perl:amd64 (3.75-2build1) ...\n",
            "Selecting previously unselected package libfl2:amd64.\n",
            "Preparing to unpack .../15-libfl2_2.6.4-8build2_amd64.deb ...\n",
            "Unpacking libfl2:amd64 (2.6.4-8build2) ...\n",
            "Selecting previously unselected package libfl-dev:amd64.\n",
            "Preparing to unpack .../16-libfl-dev_2.6.4-8build2_amd64.deb ...\n",
            "Unpacking libfl-dev:amd64 (2.6.4-8build2) ...\n",
            "Selecting previously unselected package libtypes-serialiser-perl.\n",
            "Preparing to unpack .../17-libtypes-serialiser-perl_1.01-1_all.deb ...\n",
            "Unpacking libtypes-serialiser-perl (1.01-1) ...\n",
            "Selecting previously unselected package libjson-xs-perl.\n",
            "Preparing to unpack .../18-libjson-xs-perl_4.030-1build3_amd64.deb ...\n",
            "Unpacking libjson-xs-perl (4.030-1build3) ...\n",
            "Selecting previously unselected package libprotobuf-c1:amd64.\n",
            "Preparing to unpack .../19-libprotobuf-c1_1.3.3-1ubuntu2.1_amd64.deb ...\n",
            "Unpacking libprotobuf-c1:amd64 (1.3.3-1ubuntu2.1) ...\n",
            "Selecting previously unselected package libprotobuf-c-dev:amd64.\n",
            "Preparing to unpack .../20-libprotobuf-c-dev_1.3.3-1ubuntu2.1_amd64.deb ...\n",
            "Unpacking libprotobuf-c-dev:amd64 (1.3.3-1ubuntu2.1) ...\n",
            "Selecting previously unselected package llvm-15-runtime.\n",
            "Preparing to unpack .../21-llvm-15-runtime_1%3a15.0.7-0ubuntu0.22.04.3_amd64.deb ...\n",
            "Unpacking llvm-15-runtime (1:15.0.7-0ubuntu0.22.04.3) ...\n",
            "Selecting previously unselected package libpfm4:amd64.\n",
            "Preparing to unpack .../22-libpfm4_4.11.1+git32-gd0b85fb-1ubuntu0.1_amd64.deb ...\n",
            "Unpacking libpfm4:amd64 (4.11.1+git32-gd0b85fb-1ubuntu0.1) ...\n",
            "Selecting previously unselected package llvm-15.\n",
            "Preparing to unpack .../23-llvm-15_1%3a15.0.7-0ubuntu0.22.04.3_amd64.deb ...\n",
            "Unpacking llvm-15 (1:15.0.7-0ubuntu0.22.04.3) ...\n",
            "Selecting previously unselected package libffi-dev:amd64.\n",
            "Preparing to unpack .../24-libffi-dev_3.4.2-4_amd64.deb ...\n",
            "Unpacking libffi-dev:amd64 (3.4.2-4) ...\n",
            "Selecting previously unselected package python3-pygments.\n",
            "Preparing to unpack .../25-python3-pygments_2.11.2+dfsg-2_all.deb ...\n",
            "Unpacking python3-pygments (2.11.2+dfsg-2) ...\n",
            "Selecting previously unselected package llvm-15-tools.\n",
            "Preparing to unpack .../26-llvm-15-tools_1%3a15.0.7-0ubuntu0.22.04.3_amd64.deb ...\n",
            "Unpacking llvm-15-tools (1:15.0.7-0ubuntu0.22.04.3) ...\n",
            "Selecting previously unselected package libz3-4:amd64.\n",
            "Preparing to unpack .../27-libz3-4_4.8.12-1_amd64.deb ...\n",
            "Unpacking libz3-4:amd64 (4.8.12-1) ...\n",
            "Selecting previously unselected package libz3-dev:amd64.\n",
            "Preparing to unpack .../28-libz3-dev_4.8.12-1_amd64.deb ...\n",
            "Unpacking libz3-dev:amd64 (4.8.12-1) ...\n",
            "Selecting previously unselected package llvm-15-dev.\n",
            "Preparing to unpack .../29-llvm-15-dev_1%3a15.0.7-0ubuntu0.22.04.3_amd64.deb ...\n",
            "Unpacking llvm-15-dev (1:15.0.7-0ubuntu0.22.04.3) ...\n",
            "Selecting previously unselected package postgresql-client-13.\n",
            "Preparing to unpack .../30-postgresql-client-13_13.16-1.pgdg22.04+1_amd64.deb ...\n",
            "Unpacking postgresql-client-13 (13.16-1.pgdg22.04+1) ...\n",
            "Selecting previously unselected package postgresql-13.\n",
            "Preparing to unpack .../31-postgresql-13_13.16-1.pgdg22.04+1_amd64.deb ...\n",
            "Unpacking postgresql-13 (13.16-1.pgdg22.04+1) ...\n",
            "Selecting previously unselected package postgresql-server-dev-13.\n",
            "Preparing to unpack .../32-postgresql-server-dev-13_13.16-1.pgdg22.04+1_amd64.deb ...\n",
            "Unpacking postgresql-server-dev-13 (13.16-1.pgdg22.04+1) ...\n",
            "Selecting previously unselected package protobuf-c-compiler.\n",
            "Preparing to unpack .../33-protobuf-c-compiler_1.3.3-1ubuntu2.1_amd64.deb ...\n",
            "Unpacking protobuf-c-compiler (1.3.3-1ubuntu2.1) ...\n",
            "Selecting previously unselected package sysstat.\n",
            "Preparing to unpack .../34-sysstat_12.5.2-2ubuntu0.2_amd64.deb ...\n",
            "Unpacking sysstat (12.5.2-2ubuntu0.2) ...\n",
            "Setting up logrotate (3.19.0-1ubuntu1.1) ...\n",
            "Created symlink /etc/systemd/system/timers.target.wants/logrotate.timer → /lib/systemd/system/logrotate.timer.\n",
            "Setting up flex (2.6.4-8build2) ...\n",
            "Setting up libclang-common-15-dev (1:15.0.7-0ubuntu0.22.04.3) ...\n",
            "Setting up llvm-15-linker-tools (1:15.0.7-0ubuntu0.22.04.3) ...\n",
            "Setting up libcommon-sense-perl:amd64 (3.75-2build1) ...\n",
            "Setting up python3-yaml (5.4.1-1ubuntu1) ...\n",
            "Setting up libclang1-15 (1:15.0.7-0ubuntu0.22.04.3) ...\n",
            "Setting up libffi-dev:amd64 (3.4.2-4) ...\n",
            "Setting up libprotobuf-c1:amd64 (1.3.3-1ubuntu2.1) ...\n",
            "Setting up libprotobuf-c-dev:amd64 (1.3.3-1ubuntu2.1) ...\n",
            "Setting up protobuf-c-compiler (1.3.3-1ubuntu2.1) ...\n",
            "Setting up python3-pygments (2.11.2+dfsg-2) ...\n",
            "Setting up libz3-4:amd64 (4.8.12-1) ...\n",
            "Setting up libpfm4:amd64 (4.11.1+git32-gd0b85fb-1ubuntu0.1) ...\n",
            "Setting up ssl-cert (1.1.2) ...\n",
            "debconf: unable to initialize frontend: Dialog\n",
            "debconf: (No usable dialog-like program is installed, so the dialog based frontend cannot be used. at /usr/share/perl5/Debconf/FrontEnd/Dialog.pm line 78.)\n",
            "debconf: falling back to frontend: Readline\n",
            "Setting up libfl2:amd64 (2.6.4-8build2) ...\n",
            "Setting up libclang-cpp15 (1:15.0.7-0ubuntu0.22.04.3) ...\n",
            "Setting up llvm-15-runtime (1:15.0.7-0ubuntu0.22.04.3) ...\n",
            "Setting up libtypes-serialiser-perl (1.01-1) ...\n",
            "Setting up libjson-perl (4.04000-1) ...\n",
            "Setting up bison (2:3.8.2+dfsg-1build1) ...\n",
            "update-alternatives: using /usr/bin/bison.yacc to provide /usr/bin/yacc (yacc) in auto mode\n",
            "Setting up netbase (6.3) ...\n",
            "Setting up sysstat (12.5.2-2ubuntu0.2) ...\n",
            "debconf: unable to initialize frontend: Dialog\n",
            "debconf: (No usable dialog-like program is installed, so the dialog based frontend cannot be used. at /usr/share/perl5/Debconf/FrontEnd/Dialog.pm line 78.)\n",
            "debconf: falling back to frontend: Readline\n",
            "\n",
            "Creating config file /etc/default/sysstat with new version\n",
            "update-alternatives: using /usr/bin/sar.sysstat to provide /usr/bin/sar (sar) in auto mode\n",
            "Created symlink /etc/systemd/system/sysstat.service.wants/sysstat-collect.timer → /lib/systemd/system/sysstat-collect.timer.\n",
            "Created symlink /etc/systemd/system/sysstat.service.wants/sysstat-summary.timer → /lib/systemd/system/sysstat-summary.timer.\n",
            "Created symlink /etc/systemd/system/multi-user.target.wants/sysstat.service → /lib/systemd/system/sysstat.service.\n",
            "Setting up postgresql-client-common (264.pgdg22.04+1) ...\n",
            "Setting up libjson-xs-perl (4.030-1build3) ...\n",
            "Setting up libz3-dev:amd64 (4.8.12-1) ...\n",
            "Setting up llvm-15 (1:15.0.7-0ubuntu0.22.04.3) ...\n",
            "Setting up clang-15 (1:15.0.7-0ubuntu0.22.04.3) ...\n",
            "Setting up libfl-dev:amd64 (2.6.4-8build2) ...\n",
            "Setting up postgresql-client-13 (13.16-1.pgdg22.04+1) ...\n",
            "update-alternatives: using /usr/share/postgresql/13/man/man1/psql.1.gz to provide /usr/share/man/man1/psql.1.gz (psql.1.gz) in auto mode\n",
            "Setting up llvm-15-tools (1:15.0.7-0ubuntu0.22.04.3) ...\n",
            "Setting up postgresql-common (264.pgdg22.04+1) ...\n",
            "debconf: unable to initialize frontend: Dialog\n",
            "debconf: (No usable dialog-like program is installed, so the dialog based frontend cannot be used. at /usr/share/perl5/Debconf/FrontEnd/Dialog.pm line 78.)\n",
            "debconf: falling back to frontend: Readline\n",
            "Adding user postgres to group ssl-cert\n",
            "\n",
            "Creating config file /etc/postgresql-common/createcluster.conf with new version\n",
            "Building PostgreSQL dictionaries from installed myspell/hunspell packages...\n",
            "Removing obsolete dictionary files:\n",
            "'/etc/apt/trusted.gpg.d/apt.postgresql.org.gpg' -> '/usr/share/postgresql-common/pgdg/apt.postgresql.org.gpg'\n",
            "invoke-rc.d: could not determine current runlevel\n",
            "invoke-rc.d: policy-rc.d denied execution of start.\n",
            "Created symlink /etc/systemd/system/multi-user.target.wants/postgresql.service → /lib/systemd/system/postgresql.service.\n",
            "Setting up postgresql-13 (13.16-1.pgdg22.04+1) ...\n",
            "debconf: unable to initialize frontend: Dialog\n",
            "debconf: (No usable dialog-like program is installed, so the dialog based frontend cannot be used. at /usr/share/perl5/Debconf/FrontEnd/Dialog.pm line 78.)\n",
            "debconf: falling back to frontend: Readline\n",
            "Creating new PostgreSQL cluster 13/main ...\n",
            "/usr/lib/postgresql/13/bin/initdb -D /var/lib/postgresql/13/main --auth-local peer --auth-host md5\n",
            "The files belonging to this database system will be owned by user \"postgres\".\n",
            "This user must also own the server process.\n",
            "\n",
            "The database cluster will be initialized with locale \"en_US.UTF-8\".\n",
            "The default database encoding has accordingly been set to \"UTF8\".\n",
            "The default text search configuration will be set to \"english\".\n",
            "\n",
            "Data page checksums are disabled.\n",
            "\n",
            "fixing permissions on existing directory /var/lib/postgresql/13/main ... ok\n",
            "creating subdirectories ... ok\n",
            "selecting dynamic shared memory implementation ... posix\n",
            "selecting default max_connections ... 100\n",
            "selecting default shared_buffers ... 128MB\n",
            "selecting default time zone ... Etc/UTC\n",
            "creating configuration files ... ok\n",
            "running bootstrap script ... ok\n",
            "performing post-bootstrap initialization ... ok\n",
            "syncing data to disk ... ok\n",
            "\n",
            "Success. You can now start the database server using:\n",
            "\n",
            "    pg_ctlcluster 13 main start\n",
            "\n",
            "invoke-rc.d: could not determine current runlevel\n",
            "invoke-rc.d: policy-rc.d denied execution of start.\n",
            "Setting up llvm-15-dev (1:15.0.7-0ubuntu0.22.04.3) ...\n",
            "Setting up postgresql-server-dev-13 (13.16-1.pgdg22.04+1) ...\n",
            "Processing triggers for man-db (2.10.2-1) ...\n",
            "Processing triggers for libc-bin (2.35-0ubuntu3.4) ...\n",
            "/sbin/ldconfig.real: /usr/local/lib/libtbb.so.12 is not a symbolic link\n",
            "\n",
            "/sbin/ldconfig.real: /usr/local/lib/libtbbbind_2_5.so.3 is not a symbolic link\n",
            "\n",
            "/sbin/ldconfig.real: /usr/local/lib/libtbbmalloc_proxy.so.2 is not a symbolic link\n",
            "\n",
            "/sbin/ldconfig.real: /usr/local/lib/libur_adapter_level_zero.so.0 is not a symbolic link\n",
            "\n",
            "/sbin/ldconfig.real: /usr/local/lib/libur_adapter_opencl.so.0 is not a symbolic link\n",
            "\n",
            "/sbin/ldconfig.real: /usr/local/lib/libur_loader.so.0 is not a symbolic link\n",
            "\n",
            "/sbin/ldconfig.real: /usr/local/lib/libtbbmalloc.so.2 is not a symbolic link\n",
            "\n",
            "/sbin/ldconfig.real: /usr/local/lib/libtbbbind_2_0.so.3 is not a symbolic link\n",
            "\n",
            "/sbin/ldconfig.real: /usr/local/lib/libtbbbind.so.3 is not a symbolic link\n",
            "\n"
          ]
        }
      ]
    },
    {
      "cell_type": "code",
      "source": [
        "# Iniciar el servicio de PostgreSQL\n",
        "!sudo service postgresql start\n"
      ],
      "metadata": {
        "colab": {
          "base_uri": "https://localhost:8080/"
        },
        "id": "fcgRoeatgZ8I",
        "outputId": "5222e12e-d9b3-4476-c332-d09725773db9"
      },
      "execution_count": 4,
      "outputs": [
        {
          "output_type": "stream",
          "name": "stdout",
          "text": [
            " * Starting PostgreSQL 13 database server\n",
            "   ...done.\n"
          ]
        }
      ]
    },
    {
      "cell_type": "code",
      "source": [
        "!psql --version\n"
      ],
      "metadata": {
        "colab": {
          "base_uri": "https://localhost:8080/"
        },
        "id": "KdV6auKngcJN",
        "outputId": "7b01a340-243d-42ad-b3e2-a9c837484810"
      },
      "execution_count": 5,
      "outputs": [
        {
          "output_type": "stream",
          "name": "stdout",
          "text": [
            "psql (PostgreSQL) 13.16 (Ubuntu 13.16-1.pgdg22.04+1)\n"
          ]
        }
      ]
    },
    {
      "cell_type": "code",
      "source": [
        "# Descargar el código fuente de cstore_fdw\n",
        "!git clone https://github.com/citusdata/cstore_fdw.git\n",
        "\n",
        "# Cambiar al directorio cstore_fdw\n",
        "%cd cstore_fdw\n",
        "\n",
        "# Compilar la extensión\n",
        "!make && sudo make install\n"
      ],
      "metadata": {
        "colab": {
          "base_uri": "https://localhost:8080/"
        },
        "id": "SejX4litg1-w",
        "outputId": "64f32407-8b47-4253-f3df-2e82cebbc01d"
      },
      "execution_count": 6,
      "outputs": [
        {
          "output_type": "stream",
          "name": "stdout",
          "text": [
            "Cloning into 'cstore_fdw'...\n",
            "remote: Enumerating objects: 1184, done.\u001b[K\n",
            "remote: Counting objects: 100% (32/32), done.\u001b[K\n",
            "remote: Compressing objects: 100% (27/27), done.\u001b[K\n",
            "remote: Total 1184 (delta 10), reused 20 (delta 5), pack-reused 1152 (from 1)\u001b[K\n",
            "Receiving objects: 100% (1184/1184), 819.47 KiB | 5.29 MiB/s, done.\n",
            "Resolving deltas: 100% (756/756), done.\n",
            "/content/cstore_fdw\n",
            "protoc-c --c_out=. cstore.proto\n",
            "gcc -Wall -Wmissing-prototypes -Wpointer-arith -Wdeclaration-after-statement -Werror=vla -Wendif-labels -Wmissing-format-attribute -Wimplicit-fallthrough=3 -Wformat-security -fno-strict-aliasing -fwrapv -fexcess-precision=standard -Wno-format-truncation -Wno-stringop-truncation -g -g -O2 -flto=auto -ffat-lto-objects -flto=auto -ffat-lto-objects -fstack-protector-strong -Wformat -Werror=format-security -fno-omit-frame-pointer -fPIC --std=c99 -I. -I./ -I/usr/include/postgresql/13/server -I/usr/include/postgresql/internal  -Wdate-time -D_FORTIFY_SOURCE=2 -D_GNU_SOURCE -I/usr/include/libxml2   -c -o cstore.pb-c.o cstore.pb-c.c\n",
            "gcc -Wall -Wmissing-prototypes -Wpointer-arith -Wdeclaration-after-statement -Werror=vla -Wendif-labels -Wmissing-format-attribute -Wimplicit-fallthrough=3 -Wformat-security -fno-strict-aliasing -fwrapv -fexcess-precision=standard -Wno-format-truncation -Wno-stringop-truncation -g -g -O2 -flto=auto -ffat-lto-objects -flto=auto -ffat-lto-objects -fstack-protector-strong -Wformat -Werror=format-security -fno-omit-frame-pointer -fPIC --std=c99 -I. -I./ -I/usr/include/postgresql/13/server -I/usr/include/postgresql/internal  -Wdate-time -D_FORTIFY_SOURCE=2 -D_GNU_SOURCE -I/usr/include/libxml2   -c -o cstore_fdw.o cstore_fdw.c\n",
            "gcc -Wall -Wmissing-prototypes -Wpointer-arith -Wdeclaration-after-statement -Werror=vla -Wendif-labels -Wmissing-format-attribute -Wimplicit-fallthrough=3 -Wformat-security -fno-strict-aliasing -fwrapv -fexcess-precision=standard -Wno-format-truncation -Wno-stringop-truncation -g -g -O2 -flto=auto -ffat-lto-objects -flto=auto -ffat-lto-objects -fstack-protector-strong -Wformat -Werror=format-security -fno-omit-frame-pointer -fPIC --std=c99 -I. -I./ -I/usr/include/postgresql/13/server -I/usr/include/postgresql/internal  -Wdate-time -D_FORTIFY_SOURCE=2 -D_GNU_SOURCE -I/usr/include/libxml2   -c -o cstore_writer.o cstore_writer.c\n",
            "gcc -Wall -Wmissing-prototypes -Wpointer-arith -Wdeclaration-after-statement -Werror=vla -Wendif-labels -Wmissing-format-attribute -Wimplicit-fallthrough=3 -Wformat-security -fno-strict-aliasing -fwrapv -fexcess-precision=standard -Wno-format-truncation -Wno-stringop-truncation -g -g -O2 -flto=auto -ffat-lto-objects -flto=auto -ffat-lto-objects -fstack-protector-strong -Wformat -Werror=format-security -fno-omit-frame-pointer -fPIC --std=c99 -I. -I./ -I/usr/include/postgresql/13/server -I/usr/include/postgresql/internal  -Wdate-time -D_FORTIFY_SOURCE=2 -D_GNU_SOURCE -I/usr/include/libxml2   -c -o cstore_reader.o cstore_reader.c\n",
            "gcc -Wall -Wmissing-prototypes -Wpointer-arith -Wdeclaration-after-statement -Werror=vla -Wendif-labels -Wmissing-format-attribute -Wimplicit-fallthrough=3 -Wformat-security -fno-strict-aliasing -fwrapv -fexcess-precision=standard -Wno-format-truncation -Wno-stringop-truncation -g -g -O2 -flto=auto -ffat-lto-objects -flto=auto -ffat-lto-objects -fstack-protector-strong -Wformat -Werror=format-security -fno-omit-frame-pointer -fPIC --std=c99 -I. -I./ -I/usr/include/postgresql/13/server -I/usr/include/postgresql/internal  -Wdate-time -D_FORTIFY_SOURCE=2 -D_GNU_SOURCE -I/usr/include/libxml2   -c -o cstore_metadata_serialization.o cstore_metadata_serialization.c\n",
            "gcc -Wall -Wmissing-prototypes -Wpointer-arith -Wdeclaration-after-statement -Werror=vla -Wendif-labels -Wmissing-format-attribute -Wimplicit-fallthrough=3 -Wformat-security -fno-strict-aliasing -fwrapv -fexcess-precision=standard -Wno-format-truncation -Wno-stringop-truncation -g -g -O2 -flto=auto -ffat-lto-objects -flto=auto -ffat-lto-objects -fstack-protector-strong -Wformat -Werror=format-security -fno-omit-frame-pointer -fPIC --std=c99 -I. -I./ -I/usr/include/postgresql/13/server -I/usr/include/postgresql/internal  -Wdate-time -D_FORTIFY_SOURCE=2 -D_GNU_SOURCE -I/usr/include/libxml2   -c -o cstore_compression.o cstore_compression.c\n",
            "gcc -Wall -Wmissing-prototypes -Wpointer-arith -Wdeclaration-after-statement -Werror=vla -Wendif-labels -Wmissing-format-attribute -Wimplicit-fallthrough=3 -Wformat-security -fno-strict-aliasing -fwrapv -fexcess-precision=standard -Wno-format-truncation -Wno-stringop-truncation -g -g -O2 -flto=auto -ffat-lto-objects -flto=auto -ffat-lto-objects -fstack-protector-strong -Wformat -Werror=format-security -fno-omit-frame-pointer -fPIC -shared -o cstore_fdw.so cstore.pb-c.o cstore_fdw.o cstore_writer.o cstore_reader.o cstore_metadata_serialization.o cstore_compression.o -L/usr/lib/x86_64-linux-gnu  -Wl,-Bsymbolic-functions -flto=auto -ffat-lto-objects -flto=auto -Wl,-z,relro -Wl,-z,now -L/usr/lib/llvm-15/lib  -Wl,--as-needed  -lprotobuf-c \n",
            "/usr/bin/clang-15 -Wno-ignored-attributes -fno-strict-aliasing -fwrapv -Xclang -no-opaque-pointers -Wno-unused-command-line-argument -Wno-compound-token-split-by-macro -Wno-deprecated-non-prototype -O2  --std=c99 -I. -I./ -I/usr/include/postgresql/13/server -I/usr/include/postgresql/internal  -Wdate-time -D_FORTIFY_SOURCE=2 -D_GNU_SOURCE -I/usr/include/libxml2  -flto=thin -emit-llvm -c -o cstore.pb-c.bc cstore.pb-c.c\n",
            "/usr/bin/clang-15 -Wno-ignored-attributes -fno-strict-aliasing -fwrapv -Xclang -no-opaque-pointers -Wno-unused-command-line-argument -Wno-compound-token-split-by-macro -Wno-deprecated-non-prototype -O2  --std=c99 -I. -I./ -I/usr/include/postgresql/13/server -I/usr/include/postgresql/internal  -Wdate-time -D_FORTIFY_SOURCE=2 -D_GNU_SOURCE -I/usr/include/libxml2  -flto=thin -emit-llvm -c -o cstore_fdw.bc cstore_fdw.c\n",
            "/usr/bin/clang-15 -Wno-ignored-attributes -fno-strict-aliasing -fwrapv -Xclang -no-opaque-pointers -Wno-unused-command-line-argument -Wno-compound-token-split-by-macro -Wno-deprecated-non-prototype -O2  --std=c99 -I. -I./ -I/usr/include/postgresql/13/server -I/usr/include/postgresql/internal  -Wdate-time -D_FORTIFY_SOURCE=2 -D_GNU_SOURCE -I/usr/include/libxml2  -flto=thin -emit-llvm -c -o cstore_writer.bc cstore_writer.c\n",
            "/usr/bin/clang-15 -Wno-ignored-attributes -fno-strict-aliasing -fwrapv -Xclang -no-opaque-pointers -Wno-unused-command-line-argument -Wno-compound-token-split-by-macro -Wno-deprecated-non-prototype -O2  --std=c99 -I. -I./ -I/usr/include/postgresql/13/server -I/usr/include/postgresql/internal  -Wdate-time -D_FORTIFY_SOURCE=2 -D_GNU_SOURCE -I/usr/include/libxml2  -flto=thin -emit-llvm -c -o cstore_reader.bc cstore_reader.c\n",
            "/usr/bin/clang-15 -Wno-ignored-attributes -fno-strict-aliasing -fwrapv -Xclang -no-opaque-pointers -Wno-unused-command-line-argument -Wno-compound-token-split-by-macro -Wno-deprecated-non-prototype -O2  --std=c99 -I. -I./ -I/usr/include/postgresql/13/server -I/usr/include/postgresql/internal  -Wdate-time -D_FORTIFY_SOURCE=2 -D_GNU_SOURCE -I/usr/include/libxml2  -flto=thin -emit-llvm -c -o cstore_metadata_serialization.bc cstore_metadata_serialization.c\n",
            "/usr/bin/clang-15 -Wno-ignored-attributes -fno-strict-aliasing -fwrapv -Xclang -no-opaque-pointers -Wno-unused-command-line-argument -Wno-compound-token-split-by-macro -Wno-deprecated-non-prototype -O2  --std=c99 -I. -I./ -I/usr/include/postgresql/13/server -I/usr/include/postgresql/internal  -Wdate-time -D_FORTIFY_SOURCE=2 -D_GNU_SOURCE -I/usr/include/libxml2  -flto=thin -emit-llvm -c -o cstore_compression.bc cstore_compression.c\n",
            "/bin/mkdir -p '/usr/lib/postgresql/13/lib'\n",
            "/bin/mkdir -p '/usr/share/postgresql/13/extension'\n",
            "/bin/mkdir -p '/usr/share/postgresql/13/extension'\n",
            "/usr/bin/install -c -m 755  cstore_fdw.so '/usr/lib/postgresql/13/lib/cstore_fdw.so'\n",
            "/usr/bin/install -c -m 644 .//cstore_fdw.control '/usr/share/postgresql/13/extension/'\n",
            "/usr/bin/install -c -m 644 .//cstore_fdw--1.7.sql .//cstore_fdw--1.6--1.7.sql .//cstore_fdw--1.5--1.6.sql .//cstore_fdw--1.4--1.5.sql .//cstore_fdw--1.3--1.4.sql .//cstore_fdw--1.2--1.3.sql .//cstore_fdw--1.1--1.2.sql .//cstore_fdw--1.0--1.1.sql  '/usr/share/postgresql/13/extension/'\n",
            "/bin/mkdir -p '/usr/lib/postgresql/13/lib/bitcode/cstore_fdw'\n",
            "/bin/mkdir -p '/usr/lib/postgresql/13/lib/bitcode'/cstore_fdw/\n",
            "/usr/bin/install -c -m 644 cstore.pb-c.bc '/usr/lib/postgresql/13/lib/bitcode'/cstore_fdw/./\n",
            "/usr/bin/install -c -m 644 cstore_fdw.bc '/usr/lib/postgresql/13/lib/bitcode'/cstore_fdw/./\n",
            "/usr/bin/install -c -m 644 cstore_writer.bc '/usr/lib/postgresql/13/lib/bitcode'/cstore_fdw/./\n",
            "/usr/bin/install -c -m 644 cstore_reader.bc '/usr/lib/postgresql/13/lib/bitcode'/cstore_fdw/./\n",
            "/usr/bin/install -c -m 644 cstore_metadata_serialization.bc '/usr/lib/postgresql/13/lib/bitcode'/cstore_fdw/./\n",
            "/usr/bin/install -c -m 644 cstore_compression.bc '/usr/lib/postgresql/13/lib/bitcode'/cstore_fdw/./\n",
            "cd '/usr/lib/postgresql/13/lib/bitcode' && /usr/lib/llvm-15/bin/llvm-lto -thinlto -thinlto-action=thinlink -o cstore_fdw.index.bc cstore_fdw/cstore.pb-c.bc cstore_fdw/cstore_fdw.bc cstore_fdw/cstore_writer.bc cstore_fdw/cstore_reader.bc cstore_fdw/cstore_metadata_serialization.bc cstore_fdw/cstore_compression.bc\n"
          ]
        }
      ]
    },
    {
      "cell_type": "code",
      "source": [
        "# Clonar el repositorio de Databricks TPC-DS\n",
        "!git clone https://github.com/databricks/tpcds-kit.git\n"
      ],
      "metadata": {
        "colab": {
          "base_uri": "https://localhost:8080/"
        },
        "id": "H1t58L1GkAam",
        "outputId": "82761cf5-6449-4c04-9007-fecbd3a8fba5"
      },
      "execution_count": 7,
      "outputs": [
        {
          "output_type": "stream",
          "name": "stdout",
          "text": [
            "Cloning into 'tpcds-kit'...\n",
            "remote: Enumerating objects: 979, done.\u001b[K\n",
            "remote: Counting objects: 100% (321/321), done.\u001b[K\n",
            "remote: Compressing objects: 100% (51/51), done.\u001b[K\n",
            "remote: Total 979 (delta 284), reused 270 (delta 270), pack-reused 658 (from 1)\u001b[K\n",
            "Receiving objects: 100% (979/979), 11.73 MiB | 15.97 MiB/s, done.\n",
            "Resolving deltas: 100% (583/583), done.\n"
          ]
        }
      ]
    },
    {
      "cell_type": "code",
      "source": [
        "# Cambiar al directorio de compilación\n",
        "%cd tpcds-kit/tools\n",
        "\n",
        "# Limpiar compilaciones previas\n",
        "!make clean\n",
        "\n",
        "# Compilar las herramientas\n",
        "!make OS=LINUX\n"
      ],
      "metadata": {
        "colab": {
          "base_uri": "https://localhost:8080/"
        },
        "id": "zMAl6rehkMJ_",
        "outputId": "4c74ed51-14d5-4691-e163-a0eede0eba28"
      },
      "execution_count": 8,
      "outputs": [
        {
          "output_type": "stream",
          "name": "stdout",
          "text": [
            "/content/cstore_fdw/tpcds-kit/tools\n",
            "rm -f dsdgen dsqgen distcomp mkheader checksum s_brand.o s_customer_address.o s_call_center.o s_catalog.o s_catalog_order.o s_catalog_order_lineitem.o s_catalog_page.o s_catalog_promotional_item.o s_catalog_returns.o s_category.o s_class.o s_company.o s_customer.o s_division.o s_inventory.o s_item.o s_manager.o s_manufacturer.o s_market.o s_pline.o s_product.o s_promotion.o s_purchase.o s_reason.o s_store.o s_store_promotional_item.o s_store_returns.o s_subcategory.o s_subclass.o s_warehouse.o s_web_order.o s_web_order_lineitem.o s_web_page.o s_web_promotinal_item.o s_web_returns.o s_web_site.o s_zip_to_gmt.o w_call_center.o w_catalog_page.o w_catalog_returns.o w_catalog_sales.o w_customer_address.o w_customer.o w_customer_demographics.o w_datetbl.o w_household_demographics.o w_income_band.o w_inventory.o w_item.o w_promotion.o w_reason.o w_ship_mode.o w_store.o w_store_returns.o w_store_sales.o w_timetbl.o w_warehouse.o w_web_page.o w_web_returns.o w_web_sales.o w_web_site.o dbgen_version.o address.o build_support.o date.o decimal.o dist.o driver.o error_msg.o genrand.o join.o list.o load.o misc.o nulls.o parallel.o permute.o pricing.o print.o r_params.o StringBuffer.o tdef_functions.o tdefs.o text.o scd.o scaling.o release.o sparse.o validate.o address.o date.o decimal.o dist.o error_msg.o expr.o eval.o genrand.o grammar_support.o keywords.o list.o nulls.o permute.o print.o QgenMain.o query_handler.o r_params.o scaling.o StringBuffer.o substitution.o tdefs.o text.o tokenizer.o w_inventory.o y.tab.o release.o scd.o build_support.o parallel.o  dcgram.o dcomp.o grammar.o error_msg.o StringBuffer.o r_params.o  mkheader.o checksum.o tags *.idx columns.h streams.h tables.h y.tab.h y.tab.c tokenizer.c y.output .ctags_updated tpcds.idx.h tpcds.idx \n",
            "ctags address.c build_support.c date.c decimal.c dist.c driver.c error_msg.c expr.c genrand.c grammar_support.c join.c list.c load.c misc.c nulls.c parallel.c permute.c pricing.c print.c r_params.c StringBuffer.c tdef_functions.c tdefs.c text.c scd.c scaling.c release.c scd.c sparse.c porting.c validate.c dcgram.c dcomp.c grammar.c  s_brand.c s_customer_address.c scaling.c s_call_center.c s_catalog.c s_catalog_order.c s_catalog_order_lineitem.c s_catalog_page.c s_catalog_promotional_item.c s_catalog_returns.c s_category.c s_class.c s_company.c s_customer.c s_division.c s_inventory.c s_item.c s_manager.c s_manufacturer.c s_market.c s_pline.c s_product.c s_promotion.c s_purchase.c s_reason.c s_store.c s_store_promotional_item.c s_store_returns.c s_subcategory.c s_subclass.c s_warehouse.c s_web_order.c s_web_order_lineitem.c s_web_page.c s_web_promotinal_item.c s_web_returns.c s_web_site.c s_zip_to_gmt.c w_call_center.c w_catalog_page.c w_catalog_returns.c w_catalog_sales.c w_customer_address.c w_customer.c w_customer_demographics.c w_datetbl.c w_household_demographics.c w_income_band.c w_inventory.c w_item.c w_promotion.c w_reason.c w_ship_mode.c w_store.c w_store_returns.c w_store_sales.c w_timetbl.c w_warehouse.c w_web_page.c w_web_returns.c w_web_sales.c w_web_site.c dbgen_version.c tokenizer.l substitution.c QgenMain.c qgen.y query_handler.c eval.c keywords.c mkheader.c checksum.c 2> /dev/null\n",
            "make: [makefile:255: .ctags_updated] Error 127 (ignored)\n",
            "date > .ctags_updated\n",
            "gcc -D_FILE_OFFSET_BITS=64 -D_LARGEFILE_SOURCE -DYYDEBUG  -DLINUX -O3 -fcommon   -c -o mkheader.o mkheader.c\n",
            "gcc -D_FILE_OFFSET_BITS=64 -D_LARGEFILE_SOURCE -DYYDEBUG  -DLINUX -O3 -fcommon  -o mkheader mkheader.o -lm\n",
            "./mkheader column_list.txt\n",
            "gcc -D_FILE_OFFSET_BITS=64 -D_LARGEFILE_SOURCE -DYYDEBUG  -DLINUX -O3 -fcommon   -c -o s_brand.o s_brand.c\n",
            "gcc -D_FILE_OFFSET_BITS=64 -D_LARGEFILE_SOURCE -DYYDEBUG  -DLINUX -O3 -fcommon   -c -o s_customer_address.o s_customer_address.c\n",
            "gcc -D_FILE_OFFSET_BITS=64 -D_LARGEFILE_SOURCE -DYYDEBUG  -DLINUX -O3 -fcommon   -c -o s_call_center.o s_call_center.c\n",
            "gcc -D_FILE_OFFSET_BITS=64 -D_LARGEFILE_SOURCE -DYYDEBUG  -DLINUX -O3 -fcommon   -c -o s_catalog.o s_catalog.c\n",
            "gcc -D_FILE_OFFSET_BITS=64 -D_LARGEFILE_SOURCE -DYYDEBUG  -DLINUX -O3 -fcommon   -c -o s_catalog_order.o s_catalog_order.c\n",
            "gcc -D_FILE_OFFSET_BITS=64 -D_LARGEFILE_SOURCE -DYYDEBUG  -DLINUX -O3 -fcommon   -c -o s_catalog_order_lineitem.o s_catalog_order_lineitem.c\n",
            "gcc -D_FILE_OFFSET_BITS=64 -D_LARGEFILE_SOURCE -DYYDEBUG  -DLINUX -O3 -fcommon   -c -o s_catalog_page.o s_catalog_page.c\n",
            "gcc -D_FILE_OFFSET_BITS=64 -D_LARGEFILE_SOURCE -DYYDEBUG  -DLINUX -O3 -fcommon   -c -o s_catalog_promotional_item.o s_catalog_promotional_item.c\n",
            "gcc -D_FILE_OFFSET_BITS=64 -D_LARGEFILE_SOURCE -DYYDEBUG  -DLINUX -O3 -fcommon   -c -o s_catalog_returns.o s_catalog_returns.c\n",
            "gcc -D_FILE_OFFSET_BITS=64 -D_LARGEFILE_SOURCE -DYYDEBUG  -DLINUX -O3 -fcommon   -c -o s_category.o s_category.c\n",
            "gcc -D_FILE_OFFSET_BITS=64 -D_LARGEFILE_SOURCE -DYYDEBUG  -DLINUX -O3 -fcommon   -c -o s_class.o s_class.c\n",
            "gcc -D_FILE_OFFSET_BITS=64 -D_LARGEFILE_SOURCE -DYYDEBUG  -DLINUX -O3 -fcommon   -c -o s_company.o s_company.c\n",
            "gcc -D_FILE_OFFSET_BITS=64 -D_LARGEFILE_SOURCE -DYYDEBUG  -DLINUX -O3 -fcommon   -c -o s_customer.o s_customer.c\n",
            "gcc -D_FILE_OFFSET_BITS=64 -D_LARGEFILE_SOURCE -DYYDEBUG  -DLINUX -O3 -fcommon   -c -o s_division.o s_division.c\n",
            "gcc -D_FILE_OFFSET_BITS=64 -D_LARGEFILE_SOURCE -DYYDEBUG  -DLINUX -O3 -fcommon   -c -o s_inventory.o s_inventory.c\n",
            "gcc -D_FILE_OFFSET_BITS=64 -D_LARGEFILE_SOURCE -DYYDEBUG  -DLINUX -O3 -fcommon   -c -o s_item.o s_item.c\n",
            "gcc -D_FILE_OFFSET_BITS=64 -D_LARGEFILE_SOURCE -DYYDEBUG  -DLINUX -O3 -fcommon   -c -o s_manager.o s_manager.c\n",
            "gcc -D_FILE_OFFSET_BITS=64 -D_LARGEFILE_SOURCE -DYYDEBUG  -DLINUX -O3 -fcommon   -c -o s_manufacturer.o s_manufacturer.c\n",
            "gcc -D_FILE_OFFSET_BITS=64 -D_LARGEFILE_SOURCE -DYYDEBUG  -DLINUX -O3 -fcommon   -c -o s_market.o s_market.c\n",
            "gcc -D_FILE_OFFSET_BITS=64 -D_LARGEFILE_SOURCE -DYYDEBUG  -DLINUX -O3 -fcommon   -c -o s_pline.o s_pline.c\n",
            "gcc -D_FILE_OFFSET_BITS=64 -D_LARGEFILE_SOURCE -DYYDEBUG  -DLINUX -O3 -fcommon   -c -o s_product.o s_product.c\n",
            "gcc -D_FILE_OFFSET_BITS=64 -D_LARGEFILE_SOURCE -DYYDEBUG  -DLINUX -O3 -fcommon   -c -o s_promotion.o s_promotion.c\n",
            "gcc -D_FILE_OFFSET_BITS=64 -D_LARGEFILE_SOURCE -DYYDEBUG  -DLINUX -O3 -fcommon   -c -o s_purchase.o s_purchase.c\n",
            "gcc -D_FILE_OFFSET_BITS=64 -D_LARGEFILE_SOURCE -DYYDEBUG  -DLINUX -O3 -fcommon   -c -o s_reason.o s_reason.c\n",
            "gcc -D_FILE_OFFSET_BITS=64 -D_LARGEFILE_SOURCE -DYYDEBUG  -DLINUX -O3 -fcommon   -c -o s_store.o s_store.c\n",
            "gcc -D_FILE_OFFSET_BITS=64 -D_LARGEFILE_SOURCE -DYYDEBUG  -DLINUX -O3 -fcommon   -c -o s_store_promotional_item.o s_store_promotional_item.c\n",
            "gcc -D_FILE_OFFSET_BITS=64 -D_LARGEFILE_SOURCE -DYYDEBUG  -DLINUX -O3 -fcommon   -c -o s_store_returns.o s_store_returns.c\n",
            "gcc -D_FILE_OFFSET_BITS=64 -D_LARGEFILE_SOURCE -DYYDEBUG  -DLINUX -O3 -fcommon   -c -o s_subcategory.o s_subcategory.c\n",
            "gcc -D_FILE_OFFSET_BITS=64 -D_LARGEFILE_SOURCE -DYYDEBUG  -DLINUX -O3 -fcommon   -c -o s_subclass.o s_subclass.c\n",
            "gcc -D_FILE_OFFSET_BITS=64 -D_LARGEFILE_SOURCE -DYYDEBUG  -DLINUX -O3 -fcommon   -c -o s_warehouse.o s_warehouse.c\n",
            "gcc -D_FILE_OFFSET_BITS=64 -D_LARGEFILE_SOURCE -DYYDEBUG  -DLINUX -O3 -fcommon   -c -o s_web_order.o s_web_order.c\n",
            "gcc -D_FILE_OFFSET_BITS=64 -D_LARGEFILE_SOURCE -DYYDEBUG  -DLINUX -O3 -fcommon   -c -o s_web_order_lineitem.o s_web_order_lineitem.c\n",
            "gcc -D_FILE_OFFSET_BITS=64 -D_LARGEFILE_SOURCE -DYYDEBUG  -DLINUX -O3 -fcommon   -c -o s_web_page.o s_web_page.c\n",
            "gcc -D_FILE_OFFSET_BITS=64 -D_LARGEFILE_SOURCE -DYYDEBUG  -DLINUX -O3 -fcommon   -c -o s_web_promotinal_item.o s_web_promotinal_item.c\n",
            "gcc -D_FILE_OFFSET_BITS=64 -D_LARGEFILE_SOURCE -DYYDEBUG  -DLINUX -O3 -fcommon   -c -o s_web_returns.o s_web_returns.c\n",
            "gcc -D_FILE_OFFSET_BITS=64 -D_LARGEFILE_SOURCE -DYYDEBUG  -DLINUX -O3 -fcommon   -c -o s_web_site.o s_web_site.c\n",
            "gcc -D_FILE_OFFSET_BITS=64 -D_LARGEFILE_SOURCE -DYYDEBUG  -DLINUX -O3 -fcommon   -c -o s_zip_to_gmt.o s_zip_to_gmt.c\n",
            "\u001b[01m\u001b[Ks_zip_to_gmt.c:\u001b[m\u001b[K In function ‘\u001b[01m\u001b[Kmk_s_zip\u001b[m\u001b[K’:\n",
            "\u001b[01m\u001b[Ks_zip_to_gmt.c:152:33:\u001b[m\u001b[K \u001b[01;35m\u001b[Kwarning: \u001b[m\u001b[Kformat ‘\u001b[01m\u001b[K%lld\u001b[m\u001b[K’ expects argument of type ‘\u001b[01m\u001b[Klong long int\u001b[m\u001b[K’, but argument 3 has type ‘\u001b[01m\u001b[Kds_key_t\u001b[m\u001b[K’ {aka ‘\u001b[01m\u001b[Klong int\u001b[m\u001b[K’} [\u001b[01;35m\u001b[K\u001b]8;;https://gcc.gnu.org/onlinedocs/gcc/Warning-Options.html#index-Wformat=\u0007-Wformat=\u001b]8;;\u0007\u001b[m\u001b[K]\n",
            "  152 |         sprintf(r->szZip, \"\u001b[01;35m\u001b[K%05lld\u001b[m\u001b[K\", \u001b[32m\u001b[KkIndex\u001b[m\u001b[K);\n",
            "      |                            \u001b[01;35m\u001b[K~~~~~^\u001b[m\u001b[K   \u001b[32m\u001b[K~~~~~~\u001b[m\u001b[K\n",
            "      |                                 \u001b[01;35m\u001b[K|\u001b[m\u001b[K   \u001b[32m\u001b[K|\u001b[m\u001b[K\n",
            "      |                                 \u001b[01;35m\u001b[K|\u001b[m\u001b[K   \u001b[32m\u001b[Kds_key_t {aka long int}\u001b[m\u001b[K\n",
            "      |                                 \u001b[01;35m\u001b[Klong long int\u001b[m\u001b[K\n",
            "      |                            \u001b[32m\u001b[K%05ld\u001b[m\u001b[K\n",
            "\u001b[01m\u001b[Ks_zip_to_gmt.c:152:28:\u001b[m\u001b[K \u001b[01;35m\u001b[Kwarning: \u001b[m\u001b[K‘\u001b[01m\u001b[K%05lld\u001b[m\u001b[K’ directive writing between 5 and 20 bytes into a region of size 6 [\u001b[01;35m\u001b[K\u001b]8;;https://gcc.gnu.org/onlinedocs/gcc/Warning-Options.html#index-Wformat-overflow=\u0007-Wformat-overflow=\u001b]8;;\u0007\u001b[m\u001b[K]\n",
            "  152 |         sprintf(r->szZip, \"\u001b[01;35m\u001b[K%05lld\u001b[m\u001b[K\", kIndex);\n",
            "      |                            \u001b[01;35m\u001b[K^~~~~~\u001b[m\u001b[K\n",
            "\u001b[01m\u001b[Ks_zip_to_gmt.c:152:27:\u001b[m\u001b[K \u001b[01;36m\u001b[Knote: \u001b[m\u001b[Kdirective argument in the range [-9223372036854775808, 9223372036854775806]\n",
            "  152 |         sprintf(r->szZip, \u001b[01;36m\u001b[K\"%05lld\"\u001b[m\u001b[K, kIndex);\n",
            "      |                           \u001b[01;36m\u001b[K^~~~~~~~\u001b[m\u001b[K\n",
            "In file included from \u001b[01m\u001b[K/usr/include/stdio.h:894\u001b[m\u001b[K,\n",
            "                 from \u001b[01m\u001b[Ks_zip_to_gmt.c:38\u001b[m\u001b[K:\n",
            "\u001b[01m\u001b[K/usr/include/x86_64-linux-gnu/bits/stdio2.h:38:10:\u001b[m\u001b[K \u001b[01;36m\u001b[Knote: \u001b[m\u001b[K‘\u001b[01m\u001b[K__builtin___sprintf_chk\u001b[m\u001b[K’ output between 6 and 21 bytes into a destination of size 6\n",
            "   38 |   return \u001b[01;36m\u001b[K__builtin___sprintf_chk (__s, __USE_FORTIFY_LEVEL - 1,\u001b[m\u001b[K\n",
            "      |          \u001b[01;36m\u001b[K^~~~~~~~~~~~~~~~~~~~~~~~~~~~~~~~~~~~~~~~~~~~~~~~~~~~~~\u001b[m\u001b[K\n",
            "   39 | \u001b[01;36m\u001b[K                                  __glibc_objsize (__s), __fmt,\u001b[m\u001b[K\n",
            "      |                                   \u001b[01;36m\u001b[K~~~~~~~~~~~~~~~~~~~~~~~~~~~~~\u001b[m\u001b[K\n",
            "   40 | \u001b[01;36m\u001b[K                                  __va_arg_pack ())\u001b[m\u001b[K;\n",
            "      |                                   \u001b[01;36m\u001b[K~~~~~~~~~~~~~~~~~\u001b[m\u001b[K\n",
            "gcc -D_FILE_OFFSET_BITS=64 -D_LARGEFILE_SOURCE -DYYDEBUG  -DLINUX -O3 -fcommon   -c -o w_call_center.o w_call_center.c\n",
            "gcc -D_FILE_OFFSET_BITS=64 -D_LARGEFILE_SOURCE -DYYDEBUG  -DLINUX -O3 -fcommon   -c -o w_catalog_page.o w_catalog_page.c\n",
            "gcc -D_FILE_OFFSET_BITS=64 -D_LARGEFILE_SOURCE -DYYDEBUG  -DLINUX -O3 -fcommon   -c -o w_catalog_returns.o w_catalog_returns.c\n",
            "gcc -D_FILE_OFFSET_BITS=64 -D_LARGEFILE_SOURCE -DYYDEBUG  -DLINUX -O3 -fcommon   -c -o w_catalog_sales.o w_catalog_sales.c\n",
            "gcc -D_FILE_OFFSET_BITS=64 -D_LARGEFILE_SOURCE -DYYDEBUG  -DLINUX -O3 -fcommon   -c -o w_customer_address.o w_customer_address.c\n",
            "gcc -D_FILE_OFFSET_BITS=64 -D_LARGEFILE_SOURCE -DYYDEBUG  -DLINUX -O3 -fcommon   -c -o w_customer.o w_customer.c\n",
            "gcc -D_FILE_OFFSET_BITS=64 -D_LARGEFILE_SOURCE -DYYDEBUG  -DLINUX -O3 -fcommon   -c -o w_customer_demographics.o w_customer_demographics.c\n",
            "gcc -D_FILE_OFFSET_BITS=64 -D_LARGEFILE_SOURCE -DYYDEBUG  -DLINUX -O3 -fcommon   -c -o w_datetbl.o w_datetbl.c\n",
            "gcc -D_FILE_OFFSET_BITS=64 -D_LARGEFILE_SOURCE -DYYDEBUG  -DLINUX -O3 -fcommon   -c -o w_household_demographics.o w_household_demographics.c\n",
            "gcc -D_FILE_OFFSET_BITS=64 -D_LARGEFILE_SOURCE -DYYDEBUG  -DLINUX -O3 -fcommon   -c -o w_income_band.o w_income_band.c\n",
            "gcc -D_FILE_OFFSET_BITS=64 -D_LARGEFILE_SOURCE -DYYDEBUG  -DLINUX -O3 -fcommon   -c -o w_inventory.o w_inventory.c\n",
            "gcc -D_FILE_OFFSET_BITS=64 -D_LARGEFILE_SOURCE -DYYDEBUG  -DLINUX -O3 -fcommon   -c -o w_item.o w_item.c\n",
            "gcc -D_FILE_OFFSET_BITS=64 -D_LARGEFILE_SOURCE -DYYDEBUG  -DLINUX -O3 -fcommon   -c -o w_promotion.o w_promotion.c\n",
            "gcc -D_FILE_OFFSET_BITS=64 -D_LARGEFILE_SOURCE -DYYDEBUG  -DLINUX -O3 -fcommon   -c -o w_reason.o w_reason.c\n",
            "gcc -D_FILE_OFFSET_BITS=64 -D_LARGEFILE_SOURCE -DYYDEBUG  -DLINUX -O3 -fcommon   -c -o w_ship_mode.o w_ship_mode.c\n",
            "gcc -D_FILE_OFFSET_BITS=64 -D_LARGEFILE_SOURCE -DYYDEBUG  -DLINUX -O3 -fcommon   -c -o w_store.o w_store.c\n",
            "gcc -D_FILE_OFFSET_BITS=64 -D_LARGEFILE_SOURCE -DYYDEBUG  -DLINUX -O3 -fcommon   -c -o w_store_returns.o w_store_returns.c\n",
            "gcc -D_FILE_OFFSET_BITS=64 -D_LARGEFILE_SOURCE -DYYDEBUG  -DLINUX -O3 -fcommon   -c -o w_store_sales.o w_store_sales.c\n",
            "gcc -D_FILE_OFFSET_BITS=64 -D_LARGEFILE_SOURCE -DYYDEBUG  -DLINUX -O3 -fcommon   -c -o w_timetbl.o w_timetbl.c\n",
            "gcc -D_FILE_OFFSET_BITS=64 -D_LARGEFILE_SOURCE -DYYDEBUG  -DLINUX -O3 -fcommon   -c -o w_warehouse.o w_warehouse.c\n",
            "gcc -D_FILE_OFFSET_BITS=64 -D_LARGEFILE_SOURCE -DYYDEBUG  -DLINUX -O3 -fcommon   -c -o w_web_page.o w_web_page.c\n",
            "gcc -D_FILE_OFFSET_BITS=64 -D_LARGEFILE_SOURCE -DYYDEBUG  -DLINUX -O3 -fcommon   -c -o w_web_returns.o w_web_returns.c\n",
            "gcc -D_FILE_OFFSET_BITS=64 -D_LARGEFILE_SOURCE -DYYDEBUG  -DLINUX -O3 -fcommon   -c -o w_web_sales.o w_web_sales.c\n",
            "gcc -D_FILE_OFFSET_BITS=64 -D_LARGEFILE_SOURCE -DYYDEBUG  -DLINUX -O3 -fcommon   -c -o w_web_site.o w_web_site.c\n",
            "gcc -D_FILE_OFFSET_BITS=64 -D_LARGEFILE_SOURCE -DYYDEBUG  -DLINUX -O3 -fcommon   -c -o dbgen_version.o dbgen_version.c\n",
            "\u001b[01m\u001b[Kdbgen_version.c:\u001b[m\u001b[K In function ‘\u001b[01m\u001b[Kmk_dbgen_version\u001b[m\u001b[K’:\n",
            "\u001b[01m\u001b[Kdbgen_version.c:88:42:\u001b[m\u001b[K \u001b[01;35m\u001b[Kwarning: \u001b[m\u001b[K‘\u001b[01m\u001b[K__builtin___sprintf_chk\u001b[m\u001b[K’ may write a terminating nul past the end of the destination [\u001b[01;35m\u001b[K\u001b]8;;https://gcc.gnu.org/onlinedocs/gcc/Warning-Options.html#index-Wformat-overflow=\u0007-Wformat-overflow=\u001b]8;;\u0007\u001b[m\u001b[K]\n",
            "   88 |         sprintf(r->szDate, \"%4d-%02d-%02d\u001b[01;35m\u001b[K\"\u001b[m\u001b[K, pTimeStamp->tm_year + 1900, pTimeStamp->tm_mon + 1, pTimeStamp->tm_mday);\n",
            "      |                                          \u001b[01;35m\u001b[K^\u001b[m\u001b[K\n",
            "In file included from \u001b[01m\u001b[K/usr/include/stdio.h:894\u001b[m\u001b[K,\n",
            "                 from \u001b[01m\u001b[Kdbgen_version.c:38\u001b[m\u001b[K:\n",
            "\u001b[01m\u001b[K/usr/include/x86_64-linux-gnu/bits/stdio2.h:38:10:\u001b[m\u001b[K \u001b[01;36m\u001b[Knote: \u001b[m\u001b[K‘\u001b[01m\u001b[K__builtin___sprintf_chk\u001b[m\u001b[K’ output between 11 and 36 bytes into a destination of size 26\n",
            "   38 |   return \u001b[01;36m\u001b[K__builtin___sprintf_chk (__s, __USE_FORTIFY_LEVEL - 1,\u001b[m\u001b[K\n",
            "      |          \u001b[01;36m\u001b[K^~~~~~~~~~~~~~~~~~~~~~~~~~~~~~~~~~~~~~~~~~~~~~~~~~~~~~\u001b[m\u001b[K\n",
            "   39 | \u001b[01;36m\u001b[K                                  __glibc_objsize (__s), __fmt,\u001b[m\u001b[K\n",
            "      |                                   \u001b[01;36m\u001b[K~~~~~~~~~~~~~~~~~~~~~~~~~~~~~\u001b[m\u001b[K\n",
            "   40 | \u001b[01;36m\u001b[K                                  __va_arg_pack ())\u001b[m\u001b[K;\n",
            "      |                                   \u001b[01;36m\u001b[K~~~~~~~~~~~~~~~~~\u001b[m\u001b[K\n",
            "gcc -D_FILE_OFFSET_BITS=64 -D_LARGEFILE_SOURCE -DYYDEBUG  -DLINUX -O3 -fcommon   -c -o address.o address.c\n",
            "gcc -D_FILE_OFFSET_BITS=64 -D_LARGEFILE_SOURCE -DYYDEBUG  -DLINUX -O3 -fcommon   -c -o build_support.o build_support.c\n",
            "gcc -D_FILE_OFFSET_BITS=64 -D_LARGEFILE_SOURCE -DYYDEBUG  -DLINUX -O3 -fcommon   -c -o date.o date.c\n",
            "\u001b[01m\u001b[Kdate.c:\u001b[m\u001b[K In function ‘\u001b[01m\u001b[KgetDateWeightFromJulian\u001b[m\u001b[K’:\n",
            "\u001b[01m\u001b[Kdate.c:566:1:\u001b[m\u001b[K \u001b[01;35m\u001b[Kwarning: \u001b[m\u001b[Ktype of ‘\u001b[01m\u001b[KjDay\u001b[m\u001b[K’ defaults to ‘\u001b[01m\u001b[Kint\u001b[m\u001b[K’ [\u001b[01;35m\u001b[K\u001b]8;;https://gcc.gnu.org/onlinedocs/gcc/Warning-Options.html#index-Wimplicit-int\u0007-Wimplicit-int\u001b]8;;\u0007\u001b[m\u001b[K]\n",
            "  566 | \u001b[01;35m\u001b[KgetDateWeightFromJulian\u001b[m\u001b[K(jDay, nDistribution)\n",
            "      | \u001b[01;35m\u001b[K^~~~~~~~~~~~~~~~~~~~~~~\u001b[m\u001b[K\n",
            "\u001b[01m\u001b[Kdate.c:566:1:\u001b[m\u001b[K \u001b[01;35m\u001b[Kwarning: \u001b[m\u001b[Ktype of ‘\u001b[01m\u001b[KnDistribution\u001b[m\u001b[K’ defaults to ‘\u001b[01m\u001b[Kint\u001b[m\u001b[K’ [\u001b[01;35m\u001b[K\u001b]8;;https://gcc.gnu.org/onlinedocs/gcc/Warning-Options.html#index-Wimplicit-int\u0007-Wimplicit-int\u001b]8;;\u0007\u001b[m\u001b[K]\n",
            "\u001b[01m\u001b[Kdate.c:\u001b[m\u001b[K In function ‘\u001b[01m\u001b[Kdate_t_op\u001b[m\u001b[K’:\n",
            "\u001b[01m\u001b[Kdate.c:358:45:\u001b[m\u001b[K \u001b[01;35m\u001b[Kwarning: \u001b[m\u001b[K‘\u001b[01m\u001b[K-02-28\u001b[m\u001b[K’ directive writing 6 bytes into a region of size between 0 and 10 [\u001b[01;35m\u001b[K\u001b]8;;https://gcc.gnu.org/onlinedocs/gcc/Warning-Options.html#index-Wformat-overflow=\u0007-Wformat-overflow=\u001b]8;;\u0007\u001b[m\u001b[K]\n",
            "  358 |                         sprintf(tString, \"%d\u001b[01;35m\u001b[K-02-28\u001b[m\u001b[K\", d1->year - 1);\n",
            "      |                                             \u001b[01;35m\u001b[K^~~~~~\u001b[m\u001b[K\n",
            "In file included from \u001b[01m\u001b[K/usr/include/stdio.h:894\u001b[m\u001b[K,\n",
            "                 from \u001b[01m\u001b[Kdate.c:44\u001b[m\u001b[K:\n",
            "\u001b[01m\u001b[K/usr/include/x86_64-linux-gnu/bits/stdio2.h:38:10:\u001b[m\u001b[K \u001b[01;36m\u001b[Knote: \u001b[m\u001b[K‘\u001b[01m\u001b[K__builtin___sprintf_chk\u001b[m\u001b[K’ output between 8 and 18 bytes into a destination of size 11\n",
            "   38 |   return \u001b[01;36m\u001b[K__builtin___sprintf_chk (__s, __USE_FORTIFY_LEVEL - 1,\u001b[m\u001b[K\n",
            "      |          \u001b[01;36m\u001b[K^~~~~~~~~~~~~~~~~~~~~~~~~~~~~~~~~~~~~~~~~~~~~~~~~~~~~~\u001b[m\u001b[K\n",
            "   39 | \u001b[01;36m\u001b[K                                  __glibc_objsize (__s), __fmt,\u001b[m\u001b[K\n",
            "      |                                   \u001b[01;36m\u001b[K~~~~~~~~~~~~~~~~~~~~~~~~~~~~~\u001b[m\u001b[K\n",
            "   40 | \u001b[01;36m\u001b[K                                  __va_arg_pack ())\u001b[m\u001b[K;\n",
            "      |                                   \u001b[01;36m\u001b[K~~~~~~~~~~~~~~~~~\u001b[m\u001b[K\n",
            "\u001b[01m\u001b[Kdate.c:360:46:\u001b[m\u001b[K \u001b[01;35m\u001b[Kwarning: \u001b[m\u001b[K‘\u001b[01m\u001b[K-\u001b[m\u001b[K’ directive writing 1 byte into a region of size between 0 and 7 [\u001b[01;35m\u001b[K\u001b]8;;https://gcc.gnu.org/onlinedocs/gcc/Warning-Options.html#index-Wformat-overflow=\u0007-Wformat-overflow=\u001b]8;;\u0007\u001b[m\u001b[K]\n",
            "  360 |                         sprintf(tString, \"%4d\u001b[01;35m\u001b[K-\u001b[m\u001b[K%02d-%02d\", d1->year - 1, d1->month, d1->day);\n",
            "      |                                              \u001b[01;35m\u001b[K^\u001b[m\u001b[K\n",
            "In file included from \u001b[01m\u001b[K/usr/include/stdio.h:894\u001b[m\u001b[K,\n",
            "                 from \u001b[01m\u001b[Kdate.c:44\u001b[m\u001b[K:\n",
            "\u001b[01m\u001b[K/usr/include/x86_64-linux-gnu/bits/stdio2.h:38:10:\u001b[m\u001b[K \u001b[01;36m\u001b[Knote: \u001b[m\u001b[K‘\u001b[01m\u001b[K__builtin___sprintf_chk\u001b[m\u001b[K’ output between 11 and 36 bytes into a destination of size 11\n",
            "   38 |   return \u001b[01;36m\u001b[K__builtin___sprintf_chk (__s, __USE_FORTIFY_LEVEL - 1,\u001b[m\u001b[K\n",
            "      |          \u001b[01;36m\u001b[K^~~~~~~~~~~~~~~~~~~~~~~~~~~~~~~~~~~~~~~~~~~~~~~~~~~~~~\u001b[m\u001b[K\n",
            "   39 | \u001b[01;36m\u001b[K                                  __glibc_objsize (__s), __fmt,\u001b[m\u001b[K\n",
            "      |                                   \u001b[01;36m\u001b[K~~~~~~~~~~~~~~~~~~~~~~~~~~~~~\u001b[m\u001b[K\n",
            "   40 | \u001b[01;36m\u001b[K                                  __va_arg_pack ())\u001b[m\u001b[K;\n",
            "      |                                   \u001b[01;36m\u001b[K~~~~~~~~~~~~~~~~~\u001b[m\u001b[K\n",
            "\u001b[01m\u001b[Kdate.c:371:46:\u001b[m\u001b[K \u001b[01;35m\u001b[Kwarning: \u001b[m\u001b[K‘\u001b[01m\u001b[K-\u001b[m\u001b[K’ directive writing 1 byte into a region of size between 0 and 7 [\u001b[01;35m\u001b[K\u001b]8;;https://gcc.gnu.org/onlinedocs/gcc/Warning-Options.html#index-Wformat-overflow=\u0007-Wformat-overflow=\u001b]8;;\u0007\u001b[m\u001b[K]\n",
            "  371 |                         sprintf(tString, \"%4d\u001b[01;35m\u001b[K-\u001b[m\u001b[K%s\", d1->year - 1, qtr_start[4]);\n",
            "      |                                              \u001b[01;35m\u001b[K^\u001b[m\u001b[K\n",
            "In file included from \u001b[01m\u001b[K/usr/include/stdio.h:894\u001b[m\u001b[K,\n",
            "                 from \u001b[01m\u001b[Kdate.c:44\u001b[m\u001b[K:\n",
            "\u001b[01m\u001b[K/usr/include/x86_64-linux-gnu/bits/stdio2.h:38:10:\u001b[m\u001b[K \u001b[01;36m\u001b[Knote: \u001b[m\u001b[K‘\u001b[01m\u001b[K__builtin___sprintf_chk\u001b[m\u001b[K’ output between 11 and 18 bytes into a destination of size 11\n",
            "   38 |   return \u001b[01;36m\u001b[K__builtin___sprintf_chk (__s, __USE_FORTIFY_LEVEL - 1,\u001b[m\u001b[K\n",
            "      |          \u001b[01;36m\u001b[K^~~~~~~~~~~~~~~~~~~~~~~~~~~~~~~~~~~~~~~~~~~~~~~~~~~~~~\u001b[m\u001b[K\n",
            "   39 | \u001b[01;36m\u001b[K                                  __glibc_objsize (__s), __fmt,\u001b[m\u001b[K\n",
            "      |                                   \u001b[01;36m\u001b[K~~~~~~~~~~~~~~~~~~~~~~~~~~~~~\u001b[m\u001b[K\n",
            "   40 | \u001b[01;36m\u001b[K                                  __va_arg_pack ())\u001b[m\u001b[K;\n",
            "      |                                   \u001b[01;36m\u001b[K~~~~~~~~~~~~~~~~~\u001b[m\u001b[K\n",
            "gcc -D_FILE_OFFSET_BITS=64 -D_LARGEFILE_SOURCE -DYYDEBUG  -DLINUX -O3 -fcommon   -c -o decimal.o decimal.c\n",
            "gcc -D_FILE_OFFSET_BITS=64 -D_LARGEFILE_SOURCE -DYYDEBUG  -DLINUX -O3 -fcommon   -c -o dist.o dist.c\n",
            "\u001b[01m\u001b[Kdist.c:\u001b[m\u001b[K In function ‘\u001b[01m\u001b[Kload_dist\u001b[m\u001b[K’:\n",
            "\u001b[01m\u001b[Kdist.c:315:37:\u001b[m\u001b[K \u001b[01;35m\u001b[Kwarning: \u001b[m\u001b[Kignoring return value of ‘\u001b[01m\u001b[Kfread\u001b[m\u001b[K’ declared with attribute ‘\u001b[01m\u001b[Kwarn_unused_result\u001b[m\u001b[K’ [\u001b[01;35m\u001b[K\u001b]8;;https://gcc.gnu.org/onlinedocs/gcc/Warning-Options.html#index-Wunused-result\u0007-Wunused-result\u001b]8;;\u0007\u001b[m\u001b[K]\n",
            "  315 |                                 if (\u001b[01;35m\u001b[Kfread(&temp, 1, sizeof(int32_t), ifp)\u001b[m\u001b[K < 0)\n",
            "      |                                     \u001b[01;35m\u001b[K^~~~~~~~~~~~~~~~~~~~~~~~~~~~~~~~~~~~~\u001b[m\u001b[K\n",
            "\u001b[01m\u001b[Kdist.c:352:29:\u001b[m\u001b[K \u001b[01;35m\u001b[Kwarning: \u001b[m\u001b[Kignoring return value of ‘\u001b[01m\u001b[Kfread\u001b[m\u001b[K’ declared with attribute ‘\u001b[01m\u001b[Kwarn_unused_result\u001b[m\u001b[K’ [\u001b[01;35m\u001b[K\u001b]8;;https://gcc.gnu.org/onlinedocs/gcc/Warning-Options.html#index-Wunused-result\u0007-Wunused-result\u001b]8;;\u0007\u001b[m\u001b[K]\n",
            "  352 |                         if (\u001b[01;35m\u001b[Kfread(d->names, 1, di->name_space * sizeof(char), ifp)\u001b[m\u001b[K < 0)\n",
            "      |                             \u001b[01;35m\u001b[K^~~~~~~~~~~~~~~~~~~~~~~~~~~~~~~~~~~~~~~~~~~~~~~~~~~~~~\u001b[m\u001b[K\n",
            "\u001b[01m\u001b[Kdist.c:364:21:\u001b[m\u001b[K \u001b[01;35m\u001b[Kwarning: \u001b[m\u001b[Kignoring return value of ‘\u001b[01m\u001b[Kfread\u001b[m\u001b[K’ declared with attribute ‘\u001b[01m\u001b[Kwarn_unused_result\u001b[m\u001b[K’ [\u001b[01;35m\u001b[K\u001b]8;;https://gcc.gnu.org/onlinedocs/gcc/Warning-Options.html#index-Wunused-result\u0007-Wunused-result\u001b]8;;\u0007\u001b[m\u001b[K]\n",
            "  364 |                 if (\u001b[01;35m\u001b[Kfread(d->strings, 1, di->str_space * sizeof(char), ifp)\u001b[m\u001b[K < 0)\n",
            "      |                     \u001b[01;35m\u001b[K^~~~~~~~~~~~~~~~~~~~~~~~~~~~~~~~~~~~~~~~~~~~~~~~~~~~~~~\u001b[m\u001b[K\n",
            "gcc -D_FILE_OFFSET_BITS=64 -D_LARGEFILE_SOURCE -DYYDEBUG  -DLINUX -O3 -fcommon   -c -o dcgram.o dcgram.c\n",
            "gcc -D_FILE_OFFSET_BITS=64 -D_LARGEFILE_SOURCE -DYYDEBUG  -DLINUX -O3 -fcommon   -c -o dcomp.o dcomp.c\n",
            "gcc -D_FILE_OFFSET_BITS=64 -D_LARGEFILE_SOURCE -DYYDEBUG  -DLINUX -O3 -fcommon   -c -o grammar.o grammar.c\n",
            "gcc -D_FILE_OFFSET_BITS=64 -D_LARGEFILE_SOURCE -DYYDEBUG  -DLINUX -O3 -fcommon   -c -o error_msg.o error_msg.c\n",
            "gcc -D_FILE_OFFSET_BITS=64 -D_LARGEFILE_SOURCE -DYYDEBUG  -DLINUX -O3 -fcommon   -c -o StringBuffer.o StringBuffer.c\n",
            "gcc -D_FILE_OFFSET_BITS=64 -D_LARGEFILE_SOURCE -DYYDEBUG  -DLINUX -O3 -fcommon   -c -o r_params.o r_params.c\n",
            "gcc -D_FILE_OFFSET_BITS=64 -D_LARGEFILE_SOURCE -DYYDEBUG  -DLINUX -O3 -fcommon  -o distcomp dcgram.o dcomp.o grammar.o error_msg.o StringBuffer.o r_params.o  -lm\n",
            "./distcomp -i tpcds.dst -o tpcds.idx\n",
            "gcc -D_FILE_OFFSET_BITS=64 -D_LARGEFILE_SOURCE -DYYDEBUG  -DLINUX -O3 -fcommon   -c -o driver.o driver.c\n",
            "\u001b[01m\u001b[Kdriver.c:\u001b[m\u001b[K In function ‘\u001b[01m\u001b[Kmain\u001b[m\u001b[K’:\n",
            "\u001b[01m\u001b[Kdriver.c:528:25:\u001b[m\u001b[K \u001b[01;35m\u001b[Kwarning: \u001b[m\u001b[K‘\u001b[01m\u001b[Kftime\u001b[m\u001b[K’ is deprecated: Use gettimeofday or clock_gettime instead [\u001b[01;35m\u001b[K\u001b]8;;https://gcc.gnu.org/onlinedocs/gcc/Warning-Options.html#index-Wdeprecated-declarations\u0007-Wdeprecated-declarations\u001b]8;;\u0007\u001b[m\u001b[K]\n",
            "  528 |                         \u001b[01;35m\u001b[Kftime\u001b[m\u001b[K(&t);\n",
            "      |                         \u001b[01;35m\u001b[K^~~~~\u001b[m\u001b[K\n",
            "In file included from \u001b[01m\u001b[Kporting.h:69\u001b[m\u001b[K,\n",
            "                 from \u001b[01m\u001b[Kdriver.c:38\u001b[m\u001b[K:\n",
            "\u001b[01m\u001b[K/usr/include/x86_64-linux-gnu/sys/timeb.h:29:12:\u001b[m\u001b[K \u001b[01;36m\u001b[Knote: \u001b[m\u001b[Kdeclared here\n",
            "   29 | extern int \u001b[01;36m\u001b[Kftime\u001b[m\u001b[K (struct timeb *__timebuf)\n",
            "      |            \u001b[01;36m\u001b[K^~~~~\u001b[m\u001b[K\n",
            "gcc -D_FILE_OFFSET_BITS=64 -D_LARGEFILE_SOURCE -DYYDEBUG  -DLINUX -O3 -fcommon   -c -o genrand.o genrand.c\n",
            "gcc -D_FILE_OFFSET_BITS=64 -D_LARGEFILE_SOURCE -DYYDEBUG  -DLINUX -O3 -fcommon   -c -o join.o join.c\n",
            "gcc -D_FILE_OFFSET_BITS=64 -D_LARGEFILE_SOURCE -DYYDEBUG  -DLINUX -O3 -fcommon   -c -o list.o list.c\n",
            "gcc -D_FILE_OFFSET_BITS=64 -D_LARGEFILE_SOURCE -DYYDEBUG  -DLINUX -O3 -fcommon   -c -o load.o load.c\n",
            "gcc -D_FILE_OFFSET_BITS=64 -D_LARGEFILE_SOURCE -DYYDEBUG  -DLINUX -O3 -fcommon   -c -o misc.o misc.c\n",
            "gcc -D_FILE_OFFSET_BITS=64 -D_LARGEFILE_SOURCE -DYYDEBUG  -DLINUX -O3 -fcommon   -c -o nulls.o nulls.c\n",
            "gcc -D_FILE_OFFSET_BITS=64 -D_LARGEFILE_SOURCE -DYYDEBUG  -DLINUX -O3 -fcommon   -c -o parallel.o parallel.c\n",
            "gcc -D_FILE_OFFSET_BITS=64 -D_LARGEFILE_SOURCE -DYYDEBUG  -DLINUX -O3 -fcommon   -c -o permute.o permute.c\n",
            "gcc -D_FILE_OFFSET_BITS=64 -D_LARGEFILE_SOURCE -DYYDEBUG  -DLINUX -O3 -fcommon   -c -o pricing.o pricing.c\n",
            "gcc -D_FILE_OFFSET_BITS=64 -D_LARGEFILE_SOURCE -DYYDEBUG  -DLINUX -O3 -fcommon   -c -o print.o print.c\n",
            "\u001b[01m\u001b[Kprint.c:\u001b[m\u001b[K In function ‘\u001b[01m\u001b[Kprint_delete\u001b[m\u001b[K’:\n",
            "\u001b[01m\u001b[Kprint.c:235:12:\u001b[m\u001b[K \u001b[01;35m\u001b[Kwarning: \u001b[m\u001b[Kformat not a string literal and no format arguments [\u001b[01;35m\u001b[K\u001b]8;;https://gcc.gnu.org/onlinedocs/gcc/Warning-Options.html#index-Wformat-security\u0007-Wformat-security\u001b]8;;\u0007\u001b[m\u001b[K]\n",
            "  235 |            \u001b[01;35m\u001b[Kfprintf\u001b[m\u001b[K(fpDeleteFile, get_str(\"DELIMITER\"));\n",
            "      |            \u001b[01;35m\u001b[K^~~~~~~\u001b[m\u001b[K\n",
            "gcc -D_FILE_OFFSET_BITS=64 -D_LARGEFILE_SOURCE -DYYDEBUG  -DLINUX -O3 -fcommon   -c -o tdef_functions.o tdef_functions.c\n",
            "\u001b[01m\u001b[Ktdef_functions.c:\u001b[m\u001b[K In function ‘\u001b[01m\u001b[KgetTdefFunctionsByNumber\u001b[m\u001b[K’:\n",
            "\u001b[01m\u001b[Ktdef_functions.c:174:1:\u001b[m\u001b[K \u001b[01;35m\u001b[Kwarning: \u001b[m\u001b[Ktype of ‘\u001b[01m\u001b[KnTable\u001b[m\u001b[K’ defaults to ‘\u001b[01m\u001b[Kint\u001b[m\u001b[K’ [\u001b[01;35m\u001b[K\u001b]8;;https://gcc.gnu.org/onlinedocs/gcc/Warning-Options.html#index-Wimplicit-int\u0007-Wimplicit-int\u001b]8;;\u0007\u001b[m\u001b[K]\n",
            "  174 | \u001b[01;35m\u001b[KgetTdefFunctionsByNumber\u001b[m\u001b[K(nTable)\n",
            "      | \u001b[01;35m\u001b[K^~~~~~~~~~~~~~~~~~~~~~~~\u001b[m\u001b[K\n",
            "gcc -D_FILE_OFFSET_BITS=64 -D_LARGEFILE_SOURCE -DYYDEBUG  -DLINUX -O3 -fcommon   -c -o tdefs.o tdefs.c\n",
            "\u001b[01m\u001b[Ktdefs.c:\u001b[m\u001b[K In function ‘\u001b[01m\u001b[KgetSimpleTdefsByNumber\u001b[m\u001b[K’:\n",
            "\u001b[01m\u001b[Ktdefs.c:150:1:\u001b[m\u001b[K \u001b[01;35m\u001b[Kwarning: \u001b[m\u001b[Ktype of ‘\u001b[01m\u001b[KnTable\u001b[m\u001b[K’ defaults to ‘\u001b[01m\u001b[Kint\u001b[m\u001b[K’ [\u001b[01;35m\u001b[K\u001b]8;;https://gcc.gnu.org/onlinedocs/gcc/Warning-Options.html#index-Wimplicit-int\u0007-Wimplicit-int\u001b]8;;\u0007\u001b[m\u001b[K]\n",
            "  150 | \u001b[01;35m\u001b[KgetSimpleTdefsByNumber\u001b[m\u001b[K(nTable)\n",
            "      | \u001b[01;35m\u001b[K^~~~~~~~~~~~~~~~~~~~~~\u001b[m\u001b[K\n",
            "gcc -D_FILE_OFFSET_BITS=64 -D_LARGEFILE_SOURCE -DYYDEBUG  -DLINUX -O3 -fcommon   -c -o text.o text.c\n",
            "gcc -D_FILE_OFFSET_BITS=64 -D_LARGEFILE_SOURCE -DYYDEBUG  -DLINUX -O3 -fcommon   -c -o scd.o scd.c\n",
            "gcc -D_FILE_OFFSET_BITS=64 -D_LARGEFILE_SOURCE -DYYDEBUG  -DLINUX -O3 -fcommon   -c -o scaling.o scaling.c\n",
            "gcc -D_FILE_OFFSET_BITS=64 -D_LARGEFILE_SOURCE -DYYDEBUG  -DLINUX -O3 -fcommon   -c -o release.o release.c\n",
            "gcc -D_FILE_OFFSET_BITS=64 -D_LARGEFILE_SOURCE -DYYDEBUG  -DLINUX -O3 -fcommon   -c -o sparse.o sparse.c\n",
            "gcc -D_FILE_OFFSET_BITS=64 -D_LARGEFILE_SOURCE -DYYDEBUG  -DLINUX -O3 -fcommon   -c -o validate.o validate.c\n",
            "gcc -D_FILE_OFFSET_BITS=64 -D_LARGEFILE_SOURCE -DYYDEBUG  -DLINUX -O3 -fcommon  -o dsdgen s_brand.o s_customer_address.o s_call_center.o s_catalog.o s_catalog_order.o s_catalog_order_lineitem.o s_catalog_page.o s_catalog_promotional_item.o s_catalog_returns.o s_category.o s_class.o s_company.o s_customer.o s_division.o s_inventory.o s_item.o s_manager.o s_manufacturer.o s_market.o s_pline.o s_product.o s_promotion.o s_purchase.o s_reason.o s_store.o s_store_promotional_item.o s_store_returns.o s_subcategory.o s_subclass.o s_warehouse.o s_web_order.o s_web_order_lineitem.o s_web_page.o s_web_promotinal_item.o s_web_returns.o s_web_site.o s_zip_to_gmt.o w_call_center.o w_catalog_page.o w_catalog_returns.o w_catalog_sales.o w_customer_address.o w_customer.o w_customer_demographics.o w_datetbl.o w_household_demographics.o w_income_band.o w_inventory.o w_item.o w_promotion.o w_reason.o w_ship_mode.o w_store.o w_store_returns.o w_store_sales.o w_timetbl.o w_warehouse.o w_web_page.o w_web_returns.o w_web_sales.o w_web_site.o dbgen_version.o address.o build_support.o date.o decimal.o dist.o driver.o error_msg.o genrand.o join.o list.o load.o misc.o nulls.o parallel.o permute.o pricing.o print.o r_params.o StringBuffer.o tdef_functions.o tdefs.o text.o scd.o scaling.o release.o sparse.o validate.o -lm\n",
            "yacc -d -v qgen.y\n",
            "gcc -D_FILE_OFFSET_BITS=64 -D_LARGEFILE_SOURCE -DYYDEBUG  -DLINUX -O3 -fcommon   -c -o expr.o expr.c\n",
            "In file included from \u001b[01m\u001b[Kexpr.c:36\u001b[m\u001b[K:\n",
            "\u001b[01m\u001b[Kexpr.c:\u001b[m\u001b[K In function ‘\u001b[01m\u001b[KPrintExpr\u001b[m\u001b[K’:\n",
            "\u001b[01m\u001b[Kconfig.h:114:25:\u001b[m\u001b[K \u001b[01;35m\u001b[Kwarning: \u001b[m\u001b[Kformat ‘\u001b[01m\u001b[K%lld\u001b[m\u001b[K’ expects argument of type ‘\u001b[01m\u001b[Klong long int\u001b[m\u001b[K’, but argument 2 has type ‘\u001b[01m\u001b[Kds_key_t\u001b[m\u001b[K’ {aka ‘\u001b[01m\u001b[Klong int\u001b[m\u001b[K’} [\u001b[01;35m\u001b[K\u001b]8;;https://gcc.gnu.org/onlinedocs/gcc/Warning-Options.html#index-Wformat=\u0007-Wformat=\u001b]8;;\u0007\u001b[m\u001b[K]\n",
            "  114 | #define HUGE_FORMAT     \u001b[01;35m\u001b[K\"%lld\"\u001b[m\u001b[K\n",
            "      |                         \u001b[01;35m\u001b[K^~~~~~\u001b[m\u001b[K\n",
            "\u001b[01m\u001b[Kexpr.c:442:40:\u001b[m\u001b[K \u001b[01;36m\u001b[Knote: \u001b[m\u001b[Kin expansion of macro ‘\u001b[01m\u001b[KHUGE_FORMAT\u001b[m\u001b[K’\n",
            "  442 |                                 printf(\u001b[01;36m\u001b[KHUGE_FORMAT\u001b[m\u001b[K, pExpr->Value.nValue);\n",
            "      |                                        \u001b[01;36m\u001b[K^~~~~~~~~~~\u001b[m\u001b[K\n",
            "gcc -D_FILE_OFFSET_BITS=64 -D_LARGEFILE_SOURCE -DYYDEBUG  -DLINUX -O3 -fcommon   -c -o eval.o eval.c\n",
            "In file included from \u001b[01m\u001b[Keval.c:37\u001b[m\u001b[K:\n",
            "\u001b[01m\u001b[Keval.c:\u001b[m\u001b[K In function ‘\u001b[01m\u001b[KEvalArithmetic\u001b[m\u001b[K’:\n",
            "\u001b[01m\u001b[Kconfig.h:114:25:\u001b[m\u001b[K \u001b[01;35m\u001b[Kwarning: \u001b[m\u001b[Kformat ‘\u001b[01m\u001b[K%lld\u001b[m\u001b[K’ expects argument of type ‘\u001b[01m\u001b[Klong long int\u001b[m\u001b[K’, but argument 3 has type ‘\u001b[01m\u001b[Kds_key_t\u001b[m\u001b[K’ {aka ‘\u001b[01m\u001b[Klong int\u001b[m\u001b[K’} [\u001b[01;35m\u001b[K\u001b]8;;https://gcc.gnu.org/onlinedocs/gcc/Warning-Options.html#index-Wformat=\u0007-Wformat=\u001b]8;;\u0007\u001b[m\u001b[K]\n",
            "  114 | #define HUGE_FORMAT     \u001b[01;35m\u001b[K\"%lld\"\u001b[m\u001b[K\n",
            "      |                         \u001b[01;35m\u001b[K^~~~~~\u001b[m\u001b[K\n",
            "\u001b[01m\u001b[Keval.c:93:52:\u001b[m\u001b[K \u001b[01;36m\u001b[Knote: \u001b[m\u001b[Kin expansion of macro ‘\u001b[01m\u001b[KHUGE_FORMAT\u001b[m\u001b[K’\n",
            "   93 |                                 sprintf(szInteger, \u001b[01;36m\u001b[KHUGE_FORMAT\u001b[m\u001b[K, pParams[0].nValue);\n",
            "      |                                                    \u001b[01;36m\u001b[K^~~~~~~~~~~\u001b[m\u001b[K\n",
            "\u001b[01m\u001b[Kconfig.h:114:25:\u001b[m\u001b[K \u001b[01;35m\u001b[Kwarning: \u001b[m\u001b[Kformat ‘\u001b[01m\u001b[K%lld\u001b[m\u001b[K’ expects argument of type ‘\u001b[01m\u001b[Klong long int\u001b[m\u001b[K’, but argument 3 has type ‘\u001b[01m\u001b[Kds_key_t\u001b[m\u001b[K’ {aka ‘\u001b[01m\u001b[Klong int\u001b[m\u001b[K’} [\u001b[01;35m\u001b[K\u001b]8;;https://gcc.gnu.org/onlinedocs/gcc/Warning-Options.html#index-Wformat=\u0007-Wformat=\u001b]8;;\u0007\u001b[m\u001b[K]\n",
            "  114 | #define HUGE_FORMAT     \u001b[01;35m\u001b[K\"%lld\"\u001b[m\u001b[K\n",
            "      |                         \u001b[01;35m\u001b[K^~~~~~\u001b[m\u001b[K\n",
            "\u001b[01m\u001b[Keval.c:100:52:\u001b[m\u001b[K \u001b[01;36m\u001b[Knote: \u001b[m\u001b[Kin expansion of macro ‘\u001b[01m\u001b[KHUGE_FORMAT\u001b[m\u001b[K’\n",
            "  100 |                                 sprintf(szInteger, \u001b[01;36m\u001b[KHUGE_FORMAT\u001b[m\u001b[K, pParams[1].nValue);\n",
            "      |                                                    \u001b[01;36m\u001b[K^~~~~~~~~~~\u001b[m\u001b[K\n",
            "\u001b[01m\u001b[Keval.c:\u001b[m\u001b[K In function ‘\u001b[01m\u001b[KEvalRownCountExpr\u001b[m\u001b[K’:\n",
            "\u001b[01m\u001b[Kconfig.h:114:25:\u001b[m\u001b[K \u001b[01;35m\u001b[Kwarning: \u001b[m\u001b[Kformat ‘\u001b[01m\u001b[K%lld\u001b[m\u001b[K’ expects argument of type ‘\u001b[01m\u001b[Klong long int\u001b[m\u001b[K’, but argument 3 has type ‘\u001b[01m\u001b[Kds_key_t\u001b[m\u001b[K’ {aka ‘\u001b[01m\u001b[Klong int\u001b[m\u001b[K’} [\u001b[01;35m\u001b[K\u001b]8;;https://gcc.gnu.org/onlinedocs/gcc/Warning-Options.html#index-Wformat=\u0007-Wformat=\u001b]8;;\u0007\u001b[m\u001b[K]\n",
            "  114 | #define HUGE_FORMAT     \u001b[01;35m\u001b[K\"%lld\"\u001b[m\u001b[K\n",
            "      |                         \u001b[01;35m\u001b[K^~~~~~\u001b[m\u001b[K\n",
            "\u001b[01m\u001b[Keval.c:343:22:\u001b[m\u001b[K \u001b[01;36m\u001b[Knote: \u001b[m\u001b[Kin expansion of macro ‘\u001b[01m\u001b[KHUGE_FORMAT\u001b[m\u001b[K’\n",
            "  343 |       sprintf(szBuf, \u001b[01;36m\u001b[KHUGE_FORMAT\u001b[m\u001b[K, get_rowcount(i));\n",
            "      |                      \u001b[01;36m\u001b[K^~~~~~~~~~~\u001b[m\u001b[K\n",
            "gcc -D_FILE_OFFSET_BITS=64 -D_LARGEFILE_SOURCE -DYYDEBUG  -DLINUX -O3 -fcommon   -c -o grammar_support.o grammar_support.c\n",
            "gcc -D_FILE_OFFSET_BITS=64 -D_LARGEFILE_SOURCE -DYYDEBUG  -DLINUX -O3 -fcommon   -c -o keywords.o keywords.c\n",
            "gcc -D_FILE_OFFSET_BITS=64 -D_LARGEFILE_SOURCE -DYYDEBUG  -DLINUX -O3 -fcommon   -c -o QgenMain.o QgenMain.c\n",
            "gcc -D_FILE_OFFSET_BITS=64 -D_LARGEFILE_SOURCE -DYYDEBUG  -DLINUX -O3 -fcommon   -c -o query_handler.o query_handler.c\n",
            "In file included from \u001b[01m\u001b[Kquery_handler.c:36\u001b[m\u001b[K:\n",
            "\u001b[01m\u001b[Kquery_handler.c:\u001b[m\u001b[K In function ‘\u001b[01m\u001b[KGenerateQuery\u001b[m\u001b[K’:\n",
            "\u001b[01m\u001b[Kconfig.h:114:25:\u001b[m\u001b[K \u001b[01;35m\u001b[Kwarning: \u001b[m\u001b[Kformat ‘\u001b[01m\u001b[K%lld\u001b[m\u001b[K’ expects argument of type ‘\u001b[01m\u001b[Klong long int\u001b[m\u001b[K’, but argument 3 has type ‘\u001b[01m\u001b[Kds_key_t\u001b[m\u001b[K’ {aka ‘\u001b[01m\u001b[Klong int\u001b[m\u001b[K’} [\u001b[01;35m\u001b[K\u001b]8;;https://gcc.gnu.org/onlinedocs/gcc/Warning-Options.html#index-Wformat=\u0007-Wformat=\u001b]8;;\u0007\u001b[m\u001b[K]\n",
            "  114 | #define HUGE_FORMAT     \u001b[01;35m\u001b[K\"%lld\"\u001b[m\u001b[K\n",
            "      |                         \u001b[01;35m\u001b[K^~~~~~\u001b[m\u001b[K\n",
            "\u001b[01m\u001b[Kquery_handler.c:281:51:\u001b[m\u001b[K \u001b[01;36m\u001b[Knote: \u001b[m\u001b[Kin expansion of macro ‘\u001b[01m\u001b[KHUGE_FORMAT\u001b[m\u001b[K’\n",
            "  281 |                                 fprintf(pLogFile, \u001b[01;36m\u001b[KHUGE_FORMAT\u001b[m\u001b[K, pSub->arValues[i].nValue);\n",
            "      |                                                   \u001b[01;36m\u001b[K^~~~~~~~~~~\u001b[m\u001b[K\n",
            "\u001b[01m\u001b[Kconfig.h:114:29:\u001b[m\u001b[K \u001b[01;36m\u001b[Knote: \u001b[m\u001b[Kformat string is defined here\n",
            "  114 | #define HUGE_FORMAT     \"\u001b[01;36m\u001b[K%lld\u001b[m\u001b[K\"\n",
            "      |                          \u001b[01;36m\u001b[K~~~^\u001b[m\u001b[K\n",
            "      |                             \u001b[01;36m\u001b[K|\u001b[m\u001b[K\n",
            "      |                             \u001b[01;36m\u001b[Klong long int\u001b[m\u001b[K\n",
            "      |                          \u001b[32m\u001b[K%ld\u001b[m\u001b[K\n",
            "\u001b[01m\u001b[Kconfig.h:114:25:\u001b[m\u001b[K \u001b[01;35m\u001b[Kwarning: \u001b[m\u001b[Kformat ‘\u001b[01m\u001b[K%lld\u001b[m\u001b[K’ expects argument of type ‘\u001b[01m\u001b[Klong long int\u001b[m\u001b[K’, but argument 3 has type ‘\u001b[01m\u001b[Kds_key_t\u001b[m\u001b[K’ {aka ‘\u001b[01m\u001b[Klong int\u001b[m\u001b[K’} [\u001b[01;35m\u001b[K\u001b]8;;https://gcc.gnu.org/onlinedocs/gcc/Warning-Options.html#index-Wformat=\u0007-Wformat=\u001b]8;;\u0007\u001b[m\u001b[K]\n",
            "  114 | #define HUGE_FORMAT     \u001b[01;35m\u001b[K\"%lld\"\u001b[m\u001b[K\n",
            "      |                         \u001b[01;35m\u001b[K^~~~~~\u001b[m\u001b[K\n",
            "\u001b[01m\u001b[Kquery_handler.c:303:51:\u001b[m\u001b[K \u001b[01;36m\u001b[Knote: \u001b[m\u001b[Kin expansion of macro ‘\u001b[01m\u001b[KHUGE_FORMAT\u001b[m\u001b[K’\n",
            "  303 |                                 fprintf(pOutFile, \u001b[01;36m\u001b[KHUGE_FORMAT\u001b[m\u001b[K, pValue->nValue);\n",
            "      |                                                   \u001b[01;36m\u001b[K^~~~~~~~~~~\u001b[m\u001b[K\n",
            "\u001b[01m\u001b[Kconfig.h:114:29:\u001b[m\u001b[K \u001b[01;36m\u001b[Knote: \u001b[m\u001b[Kformat string is defined here\n",
            "  114 | #define HUGE_FORMAT     \"\u001b[01;36m\u001b[K%lld\u001b[m\u001b[K\"\n",
            "      |                          \u001b[01;36m\u001b[K~~~^\u001b[m\u001b[K\n",
            "      |                             \u001b[01;36m\u001b[K|\u001b[m\u001b[K\n",
            "      |                             \u001b[01;36m\u001b[Klong long int\u001b[m\u001b[K\n",
            "      |                          \u001b[32m\u001b[K%ld\u001b[m\u001b[K\n",
            "gcc -D_FILE_OFFSET_BITS=64 -D_LARGEFILE_SOURCE -DYYDEBUG  -DLINUX -O3 -fcommon   -c -o substitution.o substitution.c\n",
            "lex  -t tokenizer.l > tokenizer.c\n",
            "gcc -D_FILE_OFFSET_BITS=64 -D_LARGEFILE_SOURCE -DYYDEBUG  -DLINUX -O3 -fcommon   -c -o tokenizer.o tokenizer.c\n",
            "gcc -D_FILE_OFFSET_BITS=64 -D_LARGEFILE_SOURCE -DYYDEBUG  -DLINUX -O3 -fcommon   -c -o y.tab.o y.tab.c\n",
            "gcc -D_FILE_OFFSET_BITS=64 -D_LARGEFILE_SOURCE -DYYDEBUG  -DLINUX -O3 -fcommon  -o dsqgen address.o date.o decimal.o dist.o error_msg.o expr.o eval.o genrand.o grammar_support.o keywords.o list.o nulls.o permute.o print.o QgenMain.o query_handler.o r_params.o scaling.o StringBuffer.o substitution.o tdefs.o text.o tokenizer.o w_inventory.o y.tab.o release.o scd.o build_support.o parallel.o  -lm\n",
            "gcc -D_FILE_OFFSET_BITS=64 -D_LARGEFILE_SOURCE -DYYDEBUG  -DLINUX -O3 -fcommon   -c -o checksum.o checksum.c\n",
            "gcc -D_FILE_OFFSET_BITS=64 -D_LARGEFILE_SOURCE -DYYDEBUG  -DLINUX -O3 -fcommon  -o checksum checksum.o -lm\n"
          ]
        }
      ]
    },
    {
      "cell_type": "code",
      "source": [
        "# Crear un directorio para los datos generados\n",
        "!mkdir -p /content/tpcds-data\n",
        "\n",
        "# Generar 1GB de datos de prueba\n",
        "#!./dsdgen -scale 1 -DIR /content/tpcds-data\n",
        "\n",
        "# Generar 3GB de datos de prueba\n",
        "!./dsdgen -scale 3 -DIR /content/tpcds-data\n",
        "\n",
        "# Generar 10GB de datos de prueba\n",
        "#!./dsdgen -scale 10 -DIR /content/tpcds-data"
      ],
      "metadata": {
        "colab": {
          "base_uri": "https://localhost:8080/"
        },
        "id": "VsJwVVo4mDZM",
        "outputId": "16114695-1842-4076-f45c-df5d45b7f893"
      },
      "execution_count": 9,
      "outputs": [
        {
          "output_type": "stream",
          "name": "stdout",
          "text": [
            "dsdgen Population Generator (Version 2.13.0)\n",
            "Copyright Transaction Processing Performance Council (TPC) 2001 - 2020\n",
            "Warning: Selected scale factor is NOT valid for result publication\n"
          ]
        }
      ]
    },
    {
      "cell_type": "code",
      "source": [
        "# Iniciar PostgreSQL\n",
        "!service postgresql restart\n",
        "\n",
        "# Crear base de datos y habilitar cstore_fdw\n",
        "!sudo -u postgres psql -c \"CREATE DATABASE tpcds;\"\n",
        "!sudo -u postgres psql -c \"CREATE DATABASE tpcds_columnar;\"\n",
        "!sudo -u postgres psql -d tpcds_columnar -c \"CREATE EXTENSION cstore_fdw;\"\n",
        "!sudo -u postgres psql -d tpcds_columnar -c \"CREATE SERVER cstore_server FOREIGN DATA WRAPPER cstore_fdw;\"\n"
      ],
      "metadata": {
        "colab": {
          "base_uri": "https://localhost:8080/"
        },
        "id": "We2krOPtnIVF",
        "outputId": "c6f6dfd4-5ba6-4d44-fe04-215ed5b62315"
      },
      "execution_count": 10,
      "outputs": [
        {
          "output_type": "stream",
          "name": "stdout",
          "text": [
            " * Restarting PostgreSQL 13 database server\n",
            "   ...done.\n",
            "CREATE DATABASE\n",
            "CREATE DATABASE\n",
            "CREATE EXTENSION\n",
            "CREATE SERVER\n"
          ]
        }
      ]
    },
    {
      "cell_type": "code",
      "source": [
        "!sudo mkdir -p /var/lib/postgresql/tpcds_data && sudo chown postgres:postgres /var/lib/postgresql/tpcds_data\n"
      ],
      "metadata": {
        "id": "IlpiMEvwnvT8"
      },
      "execution_count": 11,
      "outputs": []
    },
    {
      "cell_type": "code",
      "source": [
        "#!head -n 1 /content/tpcds-data/store_sales.dat | awk -F'|' '{print NF}'\n",
        "#!sed 's/|$//' /content/tpcds-data/store_sales.dat > /content/tpcds-data/store_sales.csv\n",
        "!sed 's/|$//' /content/tpcds-data/store_sales.dat | sed 's/|/,/g' > /content/tpcds-data/store_sales.csv\n"
      ],
      "metadata": {
        "id": "ahwSqMc1q5ix"
      },
      "execution_count": 12,
      "outputs": []
    },
    {
      "cell_type": "code",
      "source": [
        "!sudo -u postgres psql -d tpcds_columnar -c \"DROP FOREIGN TABLE IF EXISTS store_sales;\"\n"
      ],
      "metadata": {
        "colab": {
          "base_uri": "https://localhost:8080/"
        },
        "id": "HS7fpzcHpZ_p",
        "outputId": "c7814752-9ee5-4dd4-b2d8-6f833b977a78"
      },
      "execution_count": 13,
      "outputs": [
        {
          "output_type": "stream",
          "name": "stdout",
          "text": [
            "NOTICE:  foreign table \"store_sales\" does not exist, skipping\n",
            "DROP FOREIGN TABLE\n"
          ]
        }
      ]
    },
    {
      "cell_type": "code",
      "source": [
        "!sudo -u postgres psql -d tpcds -c \"DROP TABLE IF EXISTS store_sales;\""
      ],
      "metadata": {
        "colab": {
          "base_uri": "https://localhost:8080/"
        },
        "id": "xWIykLLl5qtF",
        "outputId": "c0ea1218-ee27-4954-e616-4dff2b20aa1b"
      },
      "execution_count": 14,
      "outputs": [
        {
          "output_type": "stream",
          "name": "stdout",
          "text": [
            "NOTICE:  table \"store_sales\" does not exist, skipping\n",
            "DROP TABLE\n"
          ]
        }
      ]
    },
    {
      "cell_type": "code",
      "source": [
        "!sudo -u postgres psql -d tpcds_columnar -c \"CREATE FOREIGN TABLE store_sales (ss_sold_date_sk integer, ss_sold_time_sk integer, ss_item_sk integer, ss_customer_sk integer, ss_cdemo_sk integer, ss_hdemo_sk integer, ss_addr_sk integer, ss_store_sk integer, ss_promo_sk integer, ss_ticket_number integer, ss_quantity integer, ss_wholesale_cost numeric(7,2), ss_list_price numeric(7,2), ss_sales_price numeric(7,2), ss_ext_discount_amt numeric(7,2), ss_ext_sales_price numeric(7,2), ss_ext_wholesale_cost numeric(7,2), ss_ext_list_price numeric(7,2), ss_ext_tax numeric(7,2), ss_coupon_amt numeric(7,2), ss_net_paid numeric(7,2), ss_net_paid_inc_tax numeric(7,2), ss_net_profit numeric(7,2)) SERVER cstore_server OPTIONS (compression 'pglz', filename '/var/lib/postgresql/tpcds_data/store_sales.cstore');\"\n"
      ],
      "metadata": {
        "colab": {
          "base_uri": "https://localhost:8080/"
        },
        "id": "8ez5M3nspcJx",
        "outputId": "9698e881-ef32-4bda-ca76-7beaeb7eb7c3"
      },
      "execution_count": 15,
      "outputs": [
        {
          "output_type": "stream",
          "name": "stdout",
          "text": [
            "CREATE FOREIGN TABLE\n"
          ]
        }
      ]
    },
    {
      "cell_type": "code",
      "source": [
        "!sudo -u postgres psql -d tpcds -c \"CREATE TABLE store_sales (ss_sold_date_sk INTEGER, ss_sold_time_sk INTEGER, ss_item_sk INTEGER, ss_customer_sk INTEGER, ss_cdemo_sk INTEGER, ss_hdemo_sk INTEGER, ss_addr_sk INTEGER, ss_store_sk INTEGER, ss_promo_sk INTEGER, ss_ticket_number INTEGER, ss_quantity INTEGER, ss_wholesale_cost NUMERIC, ss_list_price NUMERIC, ss_sales_price NUMERIC, ss_ext_discount_amt NUMERIC, ss_ext_sales_price NUMERIC, ss_ext_wholesale_cost NUMERIC, ss_ext_list_price NUMERIC, ss_ext_tax NUMERIC, ss_coupon_amt NUMERIC, ss_net_paid NUMERIC, ss_net_paid_inc_tax NUMERIC, ss_net_profit NUMERIC);\"\n"
      ],
      "metadata": {
        "colab": {
          "base_uri": "https://localhost:8080/"
        },
        "id": "LSUSDfqF53Ky",
        "outputId": "3c47e6a9-d2ea-4bb0-d80a-2942cb60b7ed"
      },
      "execution_count": 16,
      "outputs": [
        {
          "output_type": "stream",
          "name": "stdout",
          "text": [
            "CREATE TABLE\n"
          ]
        }
      ]
    },
    {
      "cell_type": "code",
      "source": [
        "!sudo -u postgres psql -d tpcds -c \"CREATE INDEX idx_store_sales_customer_sk ON store_sales (ss_customer_sk);\""
      ],
      "metadata": {
        "colab": {
          "base_uri": "https://localhost:8080/"
        },
        "id": "jHwP1Gm959Q7",
        "outputId": "6638d494-2d20-4002-bea3-f7fa9e35b9cb"
      },
      "execution_count": 17,
      "outputs": [
        {
          "output_type": "stream",
          "name": "stdout",
          "text": [
            "CREATE INDEX\n"
          ]
        }
      ]
    },
    {
      "cell_type": "code",
      "source": [
        "!sudo -u postgres psql -d tpcds -c \"CREATE INDEX idx_store_sales_sold_date_item ON store_sales (ss_sold_date_sk, ss_item_sk);\"\n"
      ],
      "metadata": {
        "colab": {
          "base_uri": "https://localhost:8080/"
        },
        "id": "9lqxdmv9-U-p",
        "outputId": "37e38d09-5cd8-4967-cc3e-3df5ed0190b5"
      },
      "execution_count": 18,
      "outputs": [
        {
          "output_type": "stream",
          "name": "stdout",
          "text": [
            "CREATE INDEX\n"
          ]
        }
      ]
    },
    {
      "cell_type": "code",
      "source": [
        "!sudo -u postgres psql -d tpcds -c \"CREATE INDEX idx_store_sales_store_sk ON store_sales (ss_store_sk);\"\n"
      ],
      "metadata": {
        "colab": {
          "base_uri": "https://localhost:8080/"
        },
        "id": "vG_cVkoc_MpQ",
        "outputId": "be5d0e55-fe90-4324-972e-24b36741a59a"
      },
      "execution_count": 19,
      "outputs": [
        {
          "output_type": "stream",
          "name": "stdout",
          "text": [
            "CREATE INDEX\n"
          ]
        }
      ]
    },
    {
      "cell_type": "code",
      "source": [
        "!sudo -u postgres psql -d tpcds -c \"COPY store_sales (ss_sold_date_sk, ss_sold_time_sk, ss_item_sk, ss_customer_sk, ss_cdemo_sk, ss_hdemo_sk, ss_addr_sk, ss_store_sk, ss_promo_sk, ss_ticket_number, ss_quantity, ss_wholesale_cost, ss_list_price, ss_sales_price, ss_ext_discount_amt, ss_ext_sales_price, ss_ext_wholesale_cost, ss_ext_list_price, ss_ext_tax, ss_coupon_amt, ss_net_paid, ss_net_paid_inc_tax, ss_net_profit) FROM '/content/tpcds-data/store_sales.csv' WITH (FORMAT 'csv', DELIMITER ',', NULL '');\""
      ],
      "metadata": {
        "colab": {
          "base_uri": "https://localhost:8080/"
        },
        "id": "-yvZj9nj7H2i",
        "outputId": "d2c76315-f8cd-4967-c95d-d85c1a95ba44"
      },
      "execution_count": 20,
      "outputs": [
        {
          "output_type": "stream",
          "name": "stdout",
          "text": [
            "COPY 8639377\n"
          ]
        }
      ]
    },
    {
      "cell_type": "code",
      "source": [
        "#!sudo -u postgres psql -d tpcds -c \"COPY store_sales (ss_sold_date_sk, ss_sold_time_sk, ss_item_sk, ss_customer_sk, ss_cdemo_sk, ss_hdemo_sk, ss_addr_sk, ss_store_sk, ss_promo_sk, ss_ticket_number, ss_quantity, ss_wholesale_cost, ss_list_price, ss_sales_price, ss_ext_discount_amt, ss_ext_sales_price, ss_ext_wholesale_cost, ss_ext_list_price, ss_ext_tax, ss_coupon_amt, ss_net_paid, ss_net_paid_inc_tax, ss_net_profit) FROM '/content/tpcds-data/store_sales.csv' WITH (FORMAT 'csv', DELIMITER '|', NULL '');\"\n",
        "!sudo -u postgres psql -d tpcds_columnar -c \"COPY store_sales (ss_sold_date_sk, ss_sold_time_sk, ss_item_sk, ss_customer_sk, ss_cdemo_sk, ss_hdemo_sk, ss_addr_sk, ss_store_sk, ss_promo_sk, ss_ticket_number, ss_quantity, ss_wholesale_cost, ss_list_price, ss_sales_price, ss_ext_discount_amt, ss_ext_sales_price, ss_ext_wholesale_cost, ss_ext_list_price, ss_ext_tax, ss_coupon_amt, ss_net_paid, ss_net_paid_inc_tax, ss_net_profit) FROM '/content/tpcds-data/store_sales.csv' WITH (FORMAT 'csv', DELIMITER ',', NULL '');\"\n"
      ],
      "metadata": {
        "colab": {
          "base_uri": "https://localhost:8080/"
        },
        "id": "84nh1UvWphuZ",
        "outputId": "58df8698-6ed3-473a-ce26-0da791199842"
      },
      "execution_count": 21,
      "outputs": [
        {
          "output_type": "stream",
          "name": "stdout",
          "text": [
            "COPY 8639377\n"
          ]
        }
      ]
    },
    {
      "cell_type": "code",
      "source": [
        "!sudo -u postgres psql -c \"ALTER USER postgres PASSWORD 'postgres';\"\n"
      ],
      "metadata": {
        "colab": {
          "base_uri": "https://localhost:8080/"
        },
        "id": "y1zdqVuAyGFz",
        "outputId": "e6fd337c-e45c-45c6-ce33-d4b33e27e7a8"
      },
      "execution_count": 22,
      "outputs": [
        {
          "output_type": "stream",
          "name": "stdout",
          "text": [
            "ALTER ROLE\n"
          ]
        }
      ]
    },
    {
      "cell_type": "code",
      "source": [
        "import psycopg2\n",
        "\n",
        "# Conexión a la base de datos\n",
        "conn = psycopg2.connect(\n",
        "    dbname=\"tpcds\", user=\"postgres\", password=\"postgres\", host=\"localhost\", port=\"5432\"\n",
        ")\n",
        "cur = conn.cursor()\n",
        "\n",
        "# Consulta 1: Total de ventas por cliente\n",
        "query = \"\"\"\n",
        "EXPLAIN ANALYZE\n",
        "SELECT ss_customer_sk, SUM(ss_net_paid) AS total_sales\n",
        "FROM store_sales\n",
        "GROUP BY ss_customer_sk\n",
        "ORDER BY total_sales DESC\n",
        "LIMIT 10;\n",
        "\"\"\"\n",
        "\n",
        "# Ejecutar la consulta\n",
        "cur.execute(query)\n",
        "\n",
        "# Obtener resultados\n",
        "result = cur.fetchall()\n",
        "for row in result:\n",
        "    print(row)\n",
        "\n",
        "# Cerrar la conexión\n",
        "cur.close()\n",
        "conn.close()\n"
      ],
      "metadata": {
        "colab": {
          "base_uri": "https://localhost:8080/"
        },
        "id": "Yql1SirPwKyM",
        "outputId": "a2b0eb1e-e581-4bea-c2c6-d2e5fe4dd4aa"
      },
      "execution_count": 23,
      "outputs": [
        {
          "output_type": "stream",
          "name": "stdout",
          "text": [
            "('Limit  (cost=492552.81..492552.83 rows=10 width=36) (actual time=20608.912..20687.848 rows=10 loops=1)',)\n",
            "('  ->  Sort  (cost=492552.81..492767.51 rows=85881 width=36) (actual time=20487.740..20566.672 rows=10 loops=1)',)\n",
            "('        Sort Key: (sum(ss_net_paid)) DESC',)\n",
            "('        Sort Method: top-N heapsort  Memory: 25kB',)\n",
            "('        ->  Finalize GroupAggregate  (cost=468294.92..490696.95 rows=85881 width=36) (actual time=19467.240..20491.941 rows=183949 loops=1)',)\n",
            "('              Group Key: ss_customer_sk',)\n",
            "('              ->  Gather Merge  (cost=468294.92..488335.22 rows=171762 width=36) (actual time=19467.155..19983.868 rows=430654 loops=1)',)\n",
            "('                    Workers Planned: 2',)\n",
            "('                    Workers Launched: 2',)\n",
            "('                    ->  Sort  (cost=467294.90..467509.60 rows=85881 width=36) (actual time=19269.545..19314.948 rows=143551 loops=3)',)\n",
            "('                          Sort Key: ss_customer_sk',)\n",
            "('                          Sort Method: external merge  Disk: 8064kB',)\n",
            "('                          Worker 0:  Sort Method: external merge  Disk: 8040kB',)\n",
            "('                          Worker 1:  Sort Method: external merge  Disk: 7872kB',)\n",
            "('                          ->  Partial HashAggregate  (cost=421678.71..457908.43 rows=85881 width=36) (actual time=12269.119..18932.977 rows=143551 loops=3)',)\n",
            "('                                Group Key: ss_customer_sk',)\n",
            "('                                Planned Partitions: 8  Batches: 41  Memory Usage: 4305kB  Disk Usage: 97208kB',)\n",
            "('                                Worker 0:  Batches: 41  Memory Usage: 4433kB  Disk Usage: 97152kB',)\n",
            "('                                Worker 1:  Batches: 41  Memory Usage: 4305kB  Disk Usage: 91680kB',)\n",
            "('                                ->  Parallel Seq Scan on store_sales  (cost=0.00..191053.96 rows=3599996 width=10) (actual time=0.088..7230.425 rows=2879792 loops=3)',)\n",
            "('Planning Time: 7.516 ms',)\n",
            "('JIT:',)\n",
            "('  Functions: 37',)\n",
            "('  Options: Inlining false, Optimization false, Expressions true, Deforming true',)\n",
            "('  Timing: Generation 29.060 ms, Inlining 0.000 ms, Optimization 19.742 ms, Emission 396.431 ms, Total 445.234 ms',)\n",
            "('Execution Time: 20870.944 ms',)\n"
          ]
        }
      ]
    },
    {
      "cell_type": "code",
      "source": [
        "import psycopg2\n",
        "\n",
        "# Conexión a la base de datos\n",
        "conn = psycopg2.connect(\n",
        "    dbname=\"tpcds\", user=\"postgres\", password=\"postgres\", host=\"localhost\", port=\"5432\"\n",
        ")\n",
        "cur = conn.cursor()\n",
        "\n",
        "# Consulta 2: Ventas por producto en un período de tiempo\n",
        "query = \"\"\"\n",
        "EXPLAIN ANALYZE\n",
        "SELECT ss_item_sk, SUM(ss_net_paid) AS total_sales\n",
        "FROM store_sales\n",
        "WHERE ss_sold_date_sk BETWEEN 2450815 AND 2450825\n",
        "GROUP BY ss_item_sk\n",
        "ORDER BY total_sales DESC;\n",
        "\"\"\"\n",
        "\n",
        "# Ejecutar la consulta\n",
        "cur.execute(query)\n",
        "\n",
        "# Obtener resultados\n",
        "result = cur.fetchall()\n",
        "for row in result:\n",
        "    print(row)\n",
        "\n",
        "# Cerrar la conexión\n",
        "cur.close()\n",
        "conn.close()\n"
      ],
      "metadata": {
        "colab": {
          "base_uri": "https://localhost:8080/"
        },
        "id": "zb2bpcR59cb6",
        "outputId": "8d0aade7-dea2-4f88-e35c-1b5cf0016f3b"
      },
      "execution_count": 24,
      "outputs": [
        {
          "output_type": "stream",
          "name": "stdout",
          "text": [
            "('Sort  (cost=68095.73..68138.57 rows=17137 width=36) (actual time=153.476..155.890 rows=13840 loops=1)',)\n",
            "('  Sort Key: (sum(ss_net_paid)) DESC',)\n",
            "('  Sort Method: quicksort  Memory: 1033kB',)\n",
            "('  ->  HashAggregate  (cost=66676.38..66890.59 rows=17137 width=36) (actual time=128.542..144.079 rows=13840 loops=1)',)\n",
            "('        Group Key: ss_item_sk',)\n",
            "('        Batches: 5  Memory Usage: 4401kB  Disk Usage: 208kB',)\n",
            "('        ->  Bitmap Heap Scan on store_sales  (cost=591.92..66551.75 rows=24925 width=10) (actual time=6.499..88.326 rows=25867 loops=1)',)\n",
            "('              Recheck Cond: ((ss_sold_date_sk >= 2450815) AND (ss_sold_date_sk <= 2450825))',)\n",
            "('              Heap Blocks: exact=2655',)\n",
            "('              ->  Bitmap Index Scan on idx_store_sales_sold_date_item  (cost=0.00..585.68 rows=24925 width=0) (actual time=5.985..5.985 rows=25867 loops=1)',)\n",
            "('                    Index Cond: ((ss_sold_date_sk >= 2450815) AND (ss_sold_date_sk <= 2450825))',)\n",
            "('Planning Time: 1.053 ms',)\n",
            "('Execution Time: 157.751 ms',)\n"
          ]
        }
      ]
    },
    {
      "cell_type": "code",
      "source": [
        "import psycopg2\n",
        "\n",
        "# Conexión a la base de datos\n",
        "conn = psycopg2.connect(\n",
        "    dbname=\"tpcds\", user=\"postgres\", password=\"postgres\", host=\"localhost\", port=\"5432\"\n",
        ")\n",
        "cur = conn.cursor()\n",
        "\n",
        "# Consulta 3: Total de ventas por tienda\n",
        "query = \"\"\"\n",
        "EXPLAIN ANALYZE\n",
        "SELECT ss_store_sk, COUNT(*) AS sales_count, SUM(ss_net_paid) AS total_sales\n",
        "FROM store_sales\n",
        "GROUP BY ss_store_sk\n",
        "ORDER BY total_sales DESC;\n",
        "\"\"\"\n",
        "\n",
        "# Ejecutar la consulta\n",
        "cur.execute(query)\n",
        "\n",
        "# Obtener resultados\n",
        "result = cur.fetchall()\n",
        "for row in result:\n",
        "    print(row)\n",
        "\n",
        "# Cerrar la conexión\n",
        "cur.close()\n",
        "conn.close()"
      ],
      "metadata": {
        "colab": {
          "base_uri": "https://localhost:8080/"
        },
        "id": "FH8WoNTG-3cw",
        "outputId": "e049160f-a61c-4738-fef9-4f417843e3bc"
      },
      "execution_count": 25,
      "outputs": [
        {
          "output_type": "stream",
          "name": "stdout",
          "text": [
            "('Sort  (cost=219059.38..219059.43 rows=17 width=44) (actual time=7300.975..7322.914 rows=18 loops=1)',)\n",
            "('  Sort Key: (sum(ss_net_paid)) DESC',)\n",
            "('  Sort Method: quicksort  Memory: 26kB',)\n",
            "('  ->  Finalize GroupAggregate  (cost=219054.52..219059.04 rows=17 width=44) (actual time=7300.818..7322.835 rows=18 loops=1)',)\n",
            "('        Group Key: ss_store_sk',)\n",
            "('        ->  Gather Merge  (cost=219054.52..219058.48 rows=34 width=44) (actual time=7300.757..7322.715 rows=54 loops=1)',)\n",
            "('              Workers Planned: 2',)\n",
            "('              Workers Launched: 2',)\n",
            "('              ->  Sort  (cost=218054.49..218054.53 rows=17 width=44) (actual time=7218.289..7218.294 rows=18 loops=3)',)\n",
            "('                    Sort Key: ss_store_sk',)\n",
            "('                    Sort Method: quicksort  Memory: 27kB',)\n",
            "('                    Worker 0:  Sort Method: quicksort  Memory: 27kB',)\n",
            "('                    Worker 1:  Sort Method: quicksort  Memory: 27kB',)\n",
            "('                    ->  Partial HashAggregate  (cost=218053.93..218054.15 rows=17 width=44) (actual time=7217.201..7217.219 rows=18 loops=3)',)\n",
            "('                          Group Key: ss_store_sk',)\n",
            "('                          Batches: 1  Memory Usage: 24kB',)\n",
            "('                          Worker 0:  Batches: 1  Memory Usage: 24kB',)\n",
            "('                          Worker 1:  Batches: 1  Memory Usage: 24kB',)\n",
            "('                          ->  Parallel Seq Scan on store_sales  (cost=0.00..191053.96 rows=3599996 width=10) (actual time=0.076..1915.967 rows=2879792 loops=3)',)\n",
            "('Planning Time: 0.960 ms',)\n",
            "('JIT:',)\n",
            "('  Functions: 24',)\n",
            "('  Options: Inlining false, Optimization false, Expressions true, Deforming true',)\n",
            "('  Timing: Generation 4.446 ms, Inlining 0.000 ms, Optimization 18.349 ms, Emission 130.150 ms, Total 152.945 ms',)\n",
            "('Execution Time: 7361.498 ms',)\n"
          ]
        }
      ]
    },
    {
      "cell_type": "code",
      "source": [
        "import psycopg2\n",
        "\n",
        "# Conexión a la base de datos\n",
        "conn = psycopg2.connect(\n",
        "    dbname=\"tpcds_columnar\", user=\"postgres\", password=\"postgres\", host=\"localhost\", port=\"5432\"\n",
        ")\n",
        "cur = conn.cursor()\n",
        "\n",
        "# Consulta 1: Total de ventas por cliente\n",
        "query = \"\"\"\n",
        "EXPLAIN ANALYZE\n",
        "SELECT ss_customer_sk, SUM(ss_net_paid) AS total_sales\n",
        "FROM store_sales\n",
        "GROUP BY ss_customer_sk\n",
        "ORDER BY total_sales DESC\n",
        "LIMIT 10;\n",
        "\"\"\"\n",
        "\n",
        "# Ejecutar la consulta\n",
        "cur.execute(query)\n",
        "\n",
        "# Obtener resultados\n",
        "result = cur.fetchall()\n",
        "for row in result:\n",
        "    print(row)\n",
        "\n",
        "# Cerrar la conexión\n",
        "cur.close()\n",
        "conn.close()\n"
      ],
      "metadata": {
        "colab": {
          "base_uri": "https://localhost:8080/"
        },
        "id": "ffdfooIq7W7N",
        "outputId": "0519451b-6ffd-4141-b9b7-d125c7ae7162"
      },
      "execution_count": 26,
      "outputs": [
        {
          "output_type": "stream",
          "name": "stdout",
          "text": [
            "('Limit  (cost=134465.82..134465.85 rows=10 width=36) (actual time=13909.871..13909.875 rows=10 loops=1)',)\n",
            "('  ->  Sort  (cost=134465.82..134466.32 rows=200 width=36) (actual time=13901.966..13901.968 rows=10 loops=1)',)\n",
            "('        Sort Key: (sum(ss_net_paid)) DESC',)\n",
            "('        Sort Method: top-N heapsort  Memory: 25kB',)\n",
            "('        ->  HashAggregate  (cost=134459.00..134461.50 rows=200 width=36) (actual time=8329.206..13860.617 rows=183949 loops=1)',)\n",
            "('              Group Key: ss_customer_sk',)\n",
            "('              Batches: 37  Memory Usage: 4289kB  Disk Usage: 286616kB',)\n",
            "('              ->  Foreign Scan on store_sales  (cost=0.00..91262.12 rows=8639377 width=18) (actual time=3.501..1820.878 rows=8639377 loops=1)',)\n",
            "('                    CStore File: /var/lib/postgresql/tpcds_data/store_sales.cstore',)\n",
            "('                    CStore File Size: 458630140',)\n",
            "('Planning Time: 10.796 ms',)\n",
            "('JIT:',)\n",
            "('  Functions: 9',)\n",
            "('  Options: Inlining false, Optimization false, Expressions true, Deforming true',)\n",
            "('  Timing: Generation 2.876 ms, Inlining 0.000 ms, Optimization 0.851 ms, Emission 15.126 ms, Total 18.853 ms',)\n",
            "('Execution Time: 14012.720 ms',)\n"
          ]
        }
      ]
    },
    {
      "cell_type": "code",
      "source": [
        "import psycopg2\n",
        "\n",
        "# Conexión a la base de datos\n",
        "conn = psycopg2.connect(\n",
        "    dbname=\"tpcds_columnar\", user=\"postgres\", password=\"postgres\", host=\"localhost\", port=\"5432\"\n",
        ")\n",
        "cur = conn.cursor()\n",
        "\n",
        "# Consulta 2: Ventas por producto en un período de tiempo\n",
        "query = \"\"\"\n",
        "EXPLAIN ANALYZE\n",
        "SELECT ss_item_sk, SUM(ss_net_paid) AS total_sales\n",
        "FROM store_sales\n",
        "WHERE ss_sold_date_sk BETWEEN 2450815 AND 2450825\n",
        "GROUP BY ss_item_sk\n",
        "ORDER BY total_sales DESC;\n",
        "\"\"\"\n",
        "\n",
        "# Ejecutar la consulta\n",
        "cur.execute(query)\n",
        "\n",
        "# Obtener resultados\n",
        "result = cur.fetchall()\n",
        "for row in result:\n",
        "    print(row)\n",
        "\n",
        "# Cerrar la conexión\n",
        "cur.close()\n",
        "conn.close()\n"
      ],
      "metadata": {
        "colab": {
          "base_uri": "https://localhost:8080/"
        },
        "id": "eqiN_2Qp_Yt4",
        "outputId": "95679bba-f327-412f-cc87-258531108c45"
      },
      "execution_count": 27,
      "outputs": [
        {
          "output_type": "stream",
          "name": "stdout",
          "text": [
            "('Sort  (cost=137119.31..137119.81 rows=200 width=36) (actual time=1037.579..1039.382 rows=13840 loops=1)',)\n",
            "('  Sort Key: (sum(ss_net_paid)) DESC',)\n",
            "('  Sort Method: quicksort  Memory: 1033kB',)\n",
            "('  ->  HashAggregate  (cost=137109.16..137111.66 rows=200 width=36) (actual time=1016.072..1031.483 rows=13840 loops=1)',)\n",
            "('        Group Key: ss_item_sk',)\n",
            "('        Batches: 5  Memory Usage: 4417kB  Disk Usage: 208kB',)\n",
            "('        ->  Foreign Scan on store_sales  (cost=0.00..136893.18 rows=43197 width=18) (actual time=8.323..993.743 rows=25867 loops=1)',)\n",
            "('              Filter: ((ss_sold_date_sk >= 2450815) AND (ss_sold_date_sk <= 2450825))',)\n",
            "('              Rows Removed by Filter: 7973510',)\n",
            "('              CStore File: /var/lib/postgresql/tpcds_data/store_sales.cstore',)\n",
            "('              CStore File Size: 458630140',)\n",
            "('Planning Time: 2.749 ms',)\n",
            "('JIT:',)\n",
            "('  Functions: 9',)\n",
            "('  Options: Inlining false, Optimization false, Expressions true, Deforming true',)\n",
            "('  Timing: Generation 1.037 ms, Inlining 0.000 ms, Optimization 0.750 ms, Emission 11.872 ms, Total 13.658 ms',)\n",
            "('Execution Time: 1062.500 ms',)\n"
          ]
        }
      ]
    },
    {
      "cell_type": "code",
      "source": [
        "import psycopg2\n",
        "\n",
        "# Conexión a la base de datos\n",
        "conn = psycopg2.connect(\n",
        "    dbname=\"tpcds_columnar\", user=\"postgres\", password=\"postgres\", host=\"localhost\", port=\"5432\"\n",
        ")\n",
        "cur = conn.cursor()\n",
        "\n",
        "# Consulta 3: Total de ventas por tienda\n",
        "query = \"\"\"\n",
        "EXPLAIN ANALYZE\n",
        "SELECT ss_store_sk, COUNT(*) AS sales_count, SUM(ss_net_paid) AS total_sales\n",
        "FROM store_sales\n",
        "GROUP BY ss_store_sk\n",
        "ORDER BY total_sales DESC;\n",
        "\"\"\"\n",
        "\n",
        "# Ejecutar la consulta\n",
        "cur.execute(query)\n",
        "\n",
        "# Obtener resultados\n",
        "result = cur.fetchall()\n",
        "for row in result:\n",
        "    print(row)\n",
        "\n",
        "# Cerrar la conexión\n",
        "cur.close()\n",
        "conn.close()"
      ],
      "metadata": {
        "colab": {
          "base_uri": "https://localhost:8080/"
        },
        "id": "Gow_t0QL_kLh",
        "outputId": "2bbf52b8-ad7a-4fbe-afe8-4c67cd141670"
      },
      "execution_count": 28,
      "outputs": [
        {
          "output_type": "stream",
          "name": "stdout",
          "text": [
            "('Sort  (cost=156067.59..156068.09 rows=200 width=44) (actual time=4523.064..4523.067 rows=18 loops=1)',)\n",
            "('  Sort Key: (sum(ss_net_paid)) DESC',)\n",
            "('  Sort Method: quicksort  Memory: 26kB',)\n",
            "('  ->  HashAggregate  (cost=156057.45..156059.95 rows=200 width=44) (actual time=4522.985..4522.999 rows=18 loops=1)',)\n",
            "('        Group Key: ss_store_sk',)\n",
            "('        Batches: 1  Memory Usage: 40kB',)\n",
            "('        ->  Foreign Scan on store_sales  (cost=0.00..91262.12 rows=8639377 width=18) (actual time=1.314..1762.817 rows=8639377 loops=1)',)\n",
            "('              CStore File: /var/lib/postgresql/tpcds_data/store_sales.cstore',)\n",
            "('              CStore File Size: 458630140',)\n",
            "('Planning Time: 2.853 ms',)\n",
            "('JIT:',)\n",
            "('  Functions: 5',)\n",
            "('  Options: Inlining false, Optimization false, Expressions true, Deforming true',)\n",
            "('  Timing: Generation 0.464 ms, Inlining 0.000 ms, Optimization 0.230 ms, Emission 5.498 ms, Total 6.192 ms',)\n",
            "('Execution Time: 4545.080 ms',)\n"
          ]
        }
      ]
    }
  ]
}
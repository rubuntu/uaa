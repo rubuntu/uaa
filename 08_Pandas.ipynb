{
  "cells": [
    {
      "cell_type": "markdown",
      "metadata": {
        "id": "view-in-github",
        "colab_type": "text"
      },
      "source": [
        "<a href=\"https://colab.research.google.com/github/rubuntu/uaa-417-sistemas-de-gestion-de-bases-de-datos-avanzados/blob/main/08_Pandas.ipynb\" target=\"_parent\"><img src=\"https://colab.research.google.com/assets/colab-badge.svg\" alt=\"Open In Colab\"/></a>"
      ]
    },
    {
      "cell_type": "code",
      "execution_count": null,
      "metadata": {
        "id": "_iwvcXoZdyG2"
      },
      "outputs": [],
      "source": [
        "%matplotlib inline\n",
        "import matplotlib\n",
        "import seaborn as sns\n",
        "matplotlib.rcParams['savefig.dpi'] = 144"
      ]
    },
    {
      "cell_type": "code",
      "execution_count": null,
      "metadata": {
        "id": "mnk45ck6dyG3"
      },
      "outputs": [],
      "source": [
        "import expectexception"
      ]
    },
    {
      "cell_type": "code",
      "execution_count": null,
      "metadata": {
        "id": "1MjGQVbsdyG3"
      },
      "outputs": [],
      "source": [
        "import numpy as np"
      ]
    },
    {
      "cell_type": "markdown",
      "metadata": {
        "id": "HJfjOU6TdyG3"
      },
      "source": [
        "# Pandas\n",
        "\n",
        "<!-- requirement: data/yelp.json.gz -->\n",
        "<!-- requirement: data/PEP_2016_PEPANNRES.csv -->"
      ]
    },
    {
      "cell_type": "code",
      "execution_count": null,
      "metadata": {
        "id": "3PiK8efsdyG4"
      },
      "outputs": [],
      "source": [
        "import pandas as pd"
      ]
    },
    {
      "cell_type": "markdown",
      "metadata": {
        "id": "u18ogGZsdyG4"
      },
      "source": [
        "We introduced the Pandas module and the DataFrame object in the lesson on [basic data science modules](WQ_Basic_DS_Modules.ipynb). We learned how to construct a DataFrame, add data, retrieve data, and [basic reading and writing to disk](WQ_IO.ipynb). Now we'll explore the DataFrame object and its powerful analysis methods in more depth.\n",
        "\n",
        "We'll work with a data set from the online review site, Yelp. The file is stored as a compressed JSON file."
      ]
    },
    {
      "cell_type": "code",
      "execution_count": null,
      "metadata": {
        "id": "DhVwAbt6dyG4"
      },
      "outputs": [],
      "source": [
        "!ls -lh ./data/yelp.json.gz"
      ]
    },
    {
      "cell_type": "code",
      "execution_count": null,
      "metadata": {
        "id": "pb2da7Z_dyG4"
      },
      "outputs": [],
      "source": [
        "import gzip\n",
        "import json\n",
        "\n",
        "with gzip.open('./data/yelp.json.gz', 'r') as f:\n",
        "    yelp_data = [json.loads(line) for line in f]\n",
        "\n",
        "yelp_df = pd.DataFrame(yelp_data)\n",
        "yelp_df.head()"
      ]
    },
    {
      "cell_type": "markdown",
      "metadata": {
        "id": "w9Q7UQZ1dyG4"
      },
      "source": [
        "## Pandas DataFrame and Series\n",
        "\n",
        "The Pandas DataFrame is a highly structured object. Each row corresponds with some physical entity or event. We think of all of the information in a given row as referring to one object (e.g. a business). Each column contains one type of data, both semantically (e.g. names, counts of reviews, star ratings) and syntactically."
      ]
    },
    {
      "cell_type": "code",
      "execution_count": null,
      "metadata": {
        "id": "EAYKFfKedyG4"
      },
      "outputs": [],
      "source": [
        "yelp_df.dtypes"
      ]
    },
    {
      "cell_type": "markdown",
      "metadata": {
        "id": "uadAdMhddyG4"
      },
      "source": [
        "We can reference the columns by name, like we would with a `dict`."
      ]
    },
    {
      "cell_type": "code",
      "execution_count": null,
      "metadata": {
        "id": "DOha17KmdyG4"
      },
      "outputs": [],
      "source": [
        "yelp_df['city'].head()"
      ]
    },
    {
      "cell_type": "code",
      "execution_count": null,
      "metadata": {
        "id": "oObb9Rk9dyG4"
      },
      "outputs": [],
      "source": [
        "type(yelp_df['city'])"
      ]
    },
    {
      "cell_type": "markdown",
      "metadata": {
        "id": "saRkgbY9dyG4"
      },
      "source": [
        "An individual column is a Pandas `Series`. A `Series` has a `name` and a `dtype` (similar to a NumPy array). A `DataFrame` is essentially a `dict` of `Series` objects. The `Series` has an `index` attribute, which label the rows. The index is essentially a set of keys for referencing the rows. We can have an index composed of numbers, strings, timestamps, or any hashable Python object. The index will also have homogeneous type."
      ]
    },
    {
      "cell_type": "code",
      "execution_count": null,
      "metadata": {
        "id": "GvS2tf2EdyG4"
      },
      "outputs": [],
      "source": [
        "yelp_df['city'].index"
      ]
    },
    {
      "cell_type": "markdown",
      "metadata": {
        "id": "UGm0xFCddyG4"
      },
      "source": [
        "The `DataFrame` has an `index` given by the union of indices of its constituent `Series` (we'll explore this later in more detail). Since a `DataFrame` is a `dict` of `Series`, we can select a column and then a row using square bracket notation, but not the reverse (however, the `loc` method works around this)."
      ]
    },
    {
      "cell_type": "code",
      "execution_count": null,
      "metadata": {
        "id": "59cow8XydyG4"
      },
      "outputs": [],
      "source": [
        "# this works\n",
        "yelp_df['city'][100]"
      ]
    },
    {
      "cell_type": "code",
      "execution_count": null,
      "metadata": {
        "id": "8TAL6u4bdyG4"
      },
      "outputs": [],
      "source": [
        "%%expect_exception KeyError\n",
        "\n",
        "# this doesn't\n",
        "yelp_df[100]['city']"
      ]
    },
    {
      "cell_type": "code",
      "execution_count": null,
      "metadata": {
        "id": "eevEISh7dyG4"
      },
      "outputs": [],
      "source": [
        "yelp_df.loc[100, 'city']"
      ]
    },
    {
      "cell_type": "markdown",
      "metadata": {
        "id": "uIF4gI5ldyG5"
      },
      "source": [
        "Understanding the underlying structure of the `DataFrame` object as a `dict` of `Series` will help you avoid errors and help you think about how the `DataFrame` should behave when we begin doing more complicated analysis.\n",
        "\n",
        "We can _aggregate_ data in a `DataFrame` using methods like `mean`, `sum`, `count`, and `std`. To view a collection of summary statistics for each column we can use the `describe` method."
      ]
    },
    {
      "cell_type": "code",
      "execution_count": null,
      "metadata": {
        "id": "5W9utoAhdyG5"
      },
      "outputs": [],
      "source": [
        "yelp_df.describe()"
      ]
    },
    {
      "cell_type": "markdown",
      "metadata": {
        "id": "5uRGlOP7dyG5"
      },
      "source": [
        "The utility of a DataFrame comes from its ability to split data into groups, using the `groupby` method, and then perform custom aggregations using the `apply` or `aggregate` method. This process of splitting the data into groups, applying an aggregation, and then collecting the results is [discussed in detail in the Pandas documentation](https://pandas.pydata.org/pandas-docs/stable/groupby.html), and is one of the main focuses of this notebook."
      ]
    },
    {
      "cell_type": "markdown",
      "metadata": {
        "id": "H94GNVQ1dyG5"
      },
      "source": [
        "## DataFrame construction\n",
        "\n",
        "Since a `DataFrame` is a `dict` of `Series`, the natural way to construct a `DataFrame` is to use a `dict` of `Series`-like objects."
      ]
    },
    {
      "cell_type": "code",
      "execution_count": null,
      "metadata": {
        "id": "eC3SO84WdyG5"
      },
      "outputs": [],
      "source": [
        "from string import ascii_letters, digits\n",
        "import datetime"
      ]
    },
    {
      "cell_type": "code",
      "execution_count": null,
      "metadata": {
        "id": "I3eO-i7RdyG5"
      },
      "outputs": [],
      "source": [
        "usernames = ['alice36', 'bob_smith', 'eve']\n",
        "\n",
        "passwords = [''.join(np.random.choice(list(ascii_letters + digits), 8)) for x in range(3)]\n",
        "creation_dates = [datetime.datetime.now().date() - datetime.timedelta(x) for x in np.random.randint(0, 1500, 3)]"
      ]
    },
    {
      "cell_type": "code",
      "execution_count": null,
      "metadata": {
        "id": "k8vUhil9dyG5"
      },
      "outputs": [],
      "source": [
        "df = pd.DataFrame({'username': usernames, 'password': passwords, 'date-created': creation_dates})\n",
        "df"
      ]
    },
    {
      "cell_type": "markdown",
      "metadata": {
        "id": "3hkYx1m0dyG5"
      },
      "source": [
        "The `DataFrame` is also closely related to the NumPy `ndarray`."
      ]
    },
    {
      "cell_type": "code",
      "execution_count": null,
      "metadata": {
        "id": "ao3rIH0ldyG5"
      },
      "outputs": [],
      "source": [
        "random_data = np.random.random((4,3))\n",
        "random_data"
      ]
    },
    {
      "cell_type": "code",
      "execution_count": null,
      "metadata": {
        "id": "QQyng2ECdyG5"
      },
      "outputs": [],
      "source": [
        "df_random = pd.DataFrame(random_data, columns=['a', 'b', 'c'])\n",
        "df_random"
      ]
    },
    {
      "cell_type": "markdown",
      "metadata": {
        "id": "ntwL6NxvdyG5"
      },
      "source": [
        "To add a new column or row, we simply use `dict`-like assignment."
      ]
    },
    {
      "cell_type": "code",
      "execution_count": null,
      "metadata": {
        "id": "xGsX7Q-PdyG5"
      },
      "outputs": [],
      "source": [
        "emails = ['alice.chan@gmail.com', 'bwsmith1983@gmail.com', 'fakemail123@yahoo.com']\n",
        "df['email'] = emails\n",
        "df"
      ]
    },
    {
      "cell_type": "code",
      "execution_count": null,
      "metadata": {
        "id": "ZQVmR3KkdyG5"
      },
      "outputs": [],
      "source": [
        "# loc references index value, NOT position\n",
        "# for position use iloc\n",
        "df.loc[3] = ['2015-01-29', '38uzFJ1n', 'melvintherobot', 'moviesrgood@moviesrgood.com']\n",
        "df"
      ]
    },
    {
      "cell_type": "markdown",
      "metadata": {
        "id": "lIqJkD-TdyG5"
      },
      "source": [
        "We can also drop columns and rows."
      ]
    },
    {
      "cell_type": "code",
      "execution_count": null,
      "metadata": {
        "id": "X8UDD7ykdyG5"
      },
      "outputs": [],
      "source": [
        "df.drop(3)"
      ]
    },
    {
      "cell_type": "code",
      "execution_count": null,
      "metadata": {
        "id": "ZeUPNrEZdyG5"
      },
      "outputs": [],
      "source": [
        "# to drop a column, need axis=1\n",
        "df.drop('email', axis=1)"
      ]
    },
    {
      "cell_type": "markdown",
      "metadata": {
        "id": "pMovSvEpdyG6"
      },
      "source": [
        "Notice when we dropped the `'email'` column, the row at index 3 was in the `DataFrame`, even though we just dropped it! Most operations in Pandas return a _copy_ of the `DataFrame`, rather than modifying the `DataFrame` object itself. Therefore, in order to permanently alter the `DataFrame`, we either need to reassign the `df` variable, or use the `inplace` keyword."
      ]
    },
    {
      "cell_type": "code",
      "execution_count": null,
      "metadata": {
        "id": "6GUCmHchdyG6"
      },
      "outputs": [],
      "source": [
        "df.drop(3, inplace=True)\n",
        "df"
      ]
    },
    {
      "cell_type": "markdown",
      "metadata": {
        "id": "ovPCioO8dyG6"
      },
      "source": [
        "Since the `index` and column names are important for interacting with data in the DataFrame, we should make sure to set them to useful values. We can do this during construction or after."
      ]
    },
    {
      "cell_type": "code",
      "execution_count": null,
      "metadata": {
        "id": "wILT-GsndyG6"
      },
      "outputs": [],
      "source": [
        "df = pd.DataFrame({'email': emails, 'password': passwords, 'date-created': creation_dates}, index=usernames)\n",
        "df.index.name = 'users' # it can be helpful to give the index a name\n",
        "df"
      ]
    },
    {
      "cell_type": "code",
      "execution_count": null,
      "metadata": {
        "id": "Qt9MU2UMdyG6"
      },
      "outputs": [],
      "source": [
        "# alternatively\n",
        "df = pd.DataFrame(zip(usernames, emails, passwords, creation_dates))\n",
        "df"
      ]
    },
    {
      "cell_type": "code",
      "execution_count": null,
      "metadata": {
        "id": "92Tg5oHtdyG6"
      },
      "outputs": [],
      "source": [
        "df.columns = ['username', 'email', 'password', 'date-created']\n",
        "df.set_index('username', inplace=True)\n",
        "df"
      ]
    },
    {
      "cell_type": "code",
      "execution_count": null,
      "metadata": {
        "id": "fv-lEGP6dyG7"
      },
      "outputs": [],
      "source": [
        "# to reset index to a column\n",
        "df.reset_index(inplace=True)\n",
        "df"
      ]
    },
    {
      "cell_type": "markdown",
      "metadata": {
        "id": "stDxFA8udyG7"
      },
      "source": [
        "We can have multiple levels to an index. We'll discover that for some data sets it is necessary to have multiple levels to the index in order to uniquely identify a row."
      ]
    },
    {
      "cell_type": "code",
      "execution_count": null,
      "metadata": {
        "id": "GGcd_M6odyG7"
      },
      "outputs": [],
      "source": [
        "df.set_index(['username', 'email'])"
      ]
    },
    {
      "cell_type": "markdown",
      "metadata": {
        "id": "fz6dLPo2dyG7"
      },
      "source": [
        "### Reading data from file\n",
        "\n",
        "We can also construct a DataFrame using data stored in a file or received from a website. The data source might be [JSON](https://pandas.pydata.org/pandas-docs/stable/generated/pandas.read_json.html), [HTML](https://pandas.pydata.org/pandas-docs/stable/generated/pandas.read_html.html), [CSV](http://pandas.pydata.org/pandas-docs/stable/generated/pandas.read_csv.html#pandas.read_csv), [Excel](https://pandas.pydata.org/pandas-docs/stable/generated/pandas.read_excel.html), [Python pickle](https://pandas.pydata.org/pandas-docs/stable/generated/pandas.read_pickle.html), or even a [database connection](https://pandas.pydata.org/pandas-docs/stable/generated/pandas.read_sql.html). Each format will have its own methods for reading and writing data that take different arguments. The arguments of these methods usually depend on the particular formatting of the file. For example, the values in a CSV might be separate by commas or semi-colons, it might have a header or it might not.\n",
        "\n",
        "The `read_csv` method has to deal with the most formatting possibilities, so we will explore that method with a few examples. Try to apply these ideas when working with other file formats, but keep in mind that each format and read method is different. Always check [the Pandas documentation](http://pandas.pydata.org/pandas-docs/stable/io.html) when having trouble with reading or writing data."
      ]
    },
    {
      "cell_type": "code",
      "execution_count": null,
      "metadata": {
        "id": "68KcYidzdyG7"
      },
      "outputs": [],
      "source": [
        "csv = [','.join(map(lambda x: str(x), row)) for row in np.vstack([df.columns, df])]\n",
        "with open('./data/read_csv_example.csv', 'w') as f:\n",
        "    [f.write(line + '\\n') for line in csv]\n",
        "\n",
        "!cat ./data/read_csv_example.csv"
      ]
    },
    {
      "cell_type": "code",
      "execution_count": null,
      "metadata": {
        "id": "2i0Z5KrmdyG7"
      },
      "outputs": [],
      "source": [
        "pd.read_csv('./data/read_csv_example.csv')"
      ]
    },
    {
      "cell_type": "code",
      "execution_count": null,
      "metadata": {
        "id": "O8r17ZrkdyG7"
      },
      "outputs": [],
      "source": [
        "# we can also set an index from the data\n",
        "pd.read_csv('./data/read_csv_example.csv', index_col=0)"
      ]
    },
    {
      "cell_type": "code",
      "execution_count": null,
      "metadata": {
        "id": "xUGb40F_dyG7"
      },
      "outputs": [],
      "source": [
        "# what if our data had no header?\n",
        "with open('./data/read_csv_noheader_example.csv', 'w') as f:\n",
        "    [f.write(line + '\\n') for i, line in enumerate(csv) if i != 0]\n",
        "\n",
        "!cat ./data/read_csv_noheader_example.csv"
      ]
    },
    {
      "cell_type": "code",
      "execution_count": null,
      "metadata": {
        "id": "0R6c8WNIdyG7"
      },
      "outputs": [],
      "source": [
        "pd.read_csv('./data/read_csv_noheader_example.csv', names=['username', 'email', 'password', 'date-created'], header=None)"
      ]
    },
    {
      "cell_type": "code",
      "execution_count": null,
      "metadata": {
        "id": "q0JouGm1dyG7"
      },
      "outputs": [],
      "source": [
        "# what if our data was tab-delimited?\n",
        "tsv = ['\\t'.join(map(lambda x: str(x), row)) for row in np.vstack([df.columns, df])]\n",
        "with open('./data/read_csv_example.tsv', 'w') as f:\n",
        "    [f.write(line + '\\n') for line in tsv]\n",
        "\n",
        "!cat ./data/read_csv_example.tsv"
      ]
    },
    {
      "cell_type": "code",
      "execution_count": null,
      "metadata": {
        "id": "Ey79qvQxdyG7"
      },
      "outputs": [],
      "source": [
        "pd.read_csv('./data/read_csv_example.tsv', delimiter='\\t')"
      ]
    },
    {
      "cell_type": "markdown",
      "metadata": {
        "id": "OvEx4fDNdyG7"
      },
      "source": [
        "Even within a single file format, data can be arranged and formatted in many ways. These have been just a few examples of the kinds of arguments you might need to use with `read_csv` in order to read data into a DataFrame in an organized way."
      ]
    },
    {
      "cell_type": "markdown",
      "metadata": {
        "id": "ldRgNn-3dyG7"
      },
      "source": [
        "## Filtering DataFrames\n",
        "\n",
        "One of the powerful analytical tools of the Pandas DataFrame is its syntax for filtering data. Often we'll only want to work with a certain subset of our data based on some criteria. Let's look at our Yelp data for an example."
      ]
    },
    {
      "cell_type": "code",
      "execution_count": null,
      "metadata": {
        "id": "47VG6HfxdyG7"
      },
      "outputs": [],
      "source": [
        "yelp_df.head()"
      ]
    },
    {
      "cell_type": "markdown",
      "metadata": {
        "id": "3__jz348dyG7"
      },
      "source": [
        "We see the Yelp data set has a `'state'` column. If we are only interested in businesses in Arizona (AZ), we can filter the DataFrame and select only that data."
      ]
    },
    {
      "cell_type": "code",
      "execution_count": null,
      "metadata": {
        "id": "GBq5dHRadyG8"
      },
      "outputs": [],
      "source": [
        "az_yelp_df = yelp_df[yelp_df['state'] == 'AZ']\n",
        "az_yelp_df.head()"
      ]
    },
    {
      "cell_type": "code",
      "execution_count": null,
      "metadata": {
        "id": "kXX4jWq0dyG8"
      },
      "outputs": [],
      "source": [
        "az_yelp_df['state'].unique()"
      ]
    },
    {
      "cell_type": "markdown",
      "metadata": {
        "id": "guFeG75RdyG8"
      },
      "source": [
        "We can combine criteria using logic. What if we're only interested in businesses with more than 10 reviews in Arizona?"
      ]
    },
    {
      "cell_type": "code",
      "execution_count": null,
      "metadata": {
        "id": "ifCythj2dyG8"
      },
      "outputs": [],
      "source": [
        "yelp_df[(yelp_df['state'] == 'AZ') & (yelp_df['review_count'] > 10)].head()"
      ]
    },
    {
      "cell_type": "markdown",
      "metadata": {
        "id": "OX2a7m5MdyG8"
      },
      "source": [
        "How does this filtering work?\n",
        "\n",
        "When we write `yelp_df['state'] == 'AZ'`, Pandas selects the `'state'` column and checks whether each row is `'AZ'`. If so, that row is marked `True`, and if not, it is marked `False`. This is how we would normally expect a conditional to work, only now applied to an entire Pandas `Series`. We end up with a Pandas `Series` of Boolean variables."
      ]
    },
    {
      "cell_type": "code",
      "execution_count": null,
      "metadata": {
        "id": "tSZV87-MdyG8"
      },
      "outputs": [],
      "source": [
        "(yelp_df['state'] == 'AZ').head()"
      ]
    },
    {
      "cell_type": "markdown",
      "metadata": {
        "id": "THaT90szdyG8"
      },
      "source": [
        "We can use a `Series` (or any similar object) of Boolean variables to index the DataFrame."
      ]
    },
    {
      "cell_type": "code",
      "execution_count": null,
      "metadata": {
        "id": "CBsN8Wc3dyG8"
      },
      "outputs": [],
      "source": [
        "df"
      ]
    },
    {
      "cell_type": "code",
      "execution_count": null,
      "metadata": {
        "id": "4hjh9pSCdyG8"
      },
      "outputs": [],
      "source": [
        "df[[True, False, True]]"
      ]
    },
    {
      "cell_type": "markdown",
      "metadata": {
        "id": "dkpAUtm8dyG8"
      },
      "source": [
        "This let's us filter a DataFrame using idiomatic logical expressions like `yelp_df['review_count'] > 10`.\n",
        "\n",
        "As another example, let's consider the `'open'` column, which is a `True`/`False` flag for whether a business is open. This is also a Boolean Pandas `Series`, so we can just use it directly."
      ]
    },
    {
      "cell_type": "code",
      "execution_count": null,
      "metadata": {
        "id": "dSozVpUFdyG8"
      },
      "outputs": [],
      "source": [
        "# the open businesses\n",
        "yelp_df[yelp_df['open']].head()"
      ]
    },
    {
      "cell_type": "code",
      "execution_count": null,
      "metadata": {
        "id": "xTFlxtsLdyG8"
      },
      "outputs": [],
      "source": [
        "# the closed businesses\n",
        "yelp_df[~yelp_df['open']].head()"
      ]
    },
    {
      "cell_type": "markdown",
      "metadata": {
        "id": "Kg3lU9t6dyG8"
      },
      "source": [
        "Notice in an earlier expression we wrote `(yelp_df['state'] == 'AZ') & (yelp_df['review_count'] > 10)`. Normally in Python we use the word `and` when we are working with logic. In Pandas we have to use _bit-wise_ logical operators; all that's important to know is the following equivalencies:\n",
        "\n",
        "`~` = `not`  \n",
        "`&` = `and`  \n",
        "`|` = `or`  \n",
        "\n",
        "We can also use Panda's built-in [string operations](https://pandas.pydata.org/pandas-docs/stable/text.html) for doing pattern matching. For example, there are a lot of businesses in Las Vegas in our data set. However, there are also businesses in 'Las Vegas East' and 'South Las Vegas'. To get all of the Las Vegas businesses I might do the following."
      ]
    },
    {
      "cell_type": "code",
      "execution_count": null,
      "metadata": {
        "id": "y26bVpHldyG8"
      },
      "outputs": [],
      "source": [
        "vegas_yelp_df = yelp_df[yelp_df['city'].str.contains('Vegas')]\n",
        "vegas_yelp_df.head()"
      ]
    },
    {
      "cell_type": "code",
      "execution_count": null,
      "metadata": {
        "id": "J24jokQOdyG8"
      },
      "outputs": [],
      "source": [
        "vegas_yelp_df['city'].unique()"
      ]
    },
    {
      "cell_type": "markdown",
      "metadata": {
        "id": "15Dtjjg7dyG8"
      },
      "source": [
        "## Applying functions and data aggregation\n",
        "\n",
        "To analyze the data in the dataframe, we'll need to be able to apply functions to it. Pandas has many mathematical functions built in already, and DataFrames and Series can be passed to NumPy functions (since they behave like NumPy arrays)."
      ]
    },
    {
      "cell_type": "code",
      "execution_count": null,
      "metadata": {
        "id": "Wpv7aZ0ldyG8"
      },
      "outputs": [],
      "source": [
        "log_review_count = np.log(yelp_df['review_count'])\n",
        "print log_review_count.head()\n",
        "print log_review_count.shape"
      ]
    },
    {
      "cell_type": "code",
      "execution_count": null,
      "metadata": {
        "id": "j4zGytZVdyG9"
      },
      "outputs": [],
      "source": [
        "mean_review_count = yelp_df['review_count'].mean()\n",
        "print mean_review_count"
      ]
    },
    {
      "cell_type": "markdown",
      "metadata": {
        "id": "8Y73q9lFdyG9"
      },
      "source": [
        "In the first example we took the _logarithm_ of the review count for each business. In the second case, we calculated the mean review count of all businesses. In the first case, we ended up with a number for each business. We _transformed_ the review counts using the logarithm. In the second case, we _summarized_ the review counts of all the businesses in one number. This summary is a form of _data aggregation_, in which we take many data points and combine them into some smaller representation. The functions we apply to our data sets will either be in the category of **transformations** or **aggregations**.\n",
        "\n",
        "Sometimes we will need to transform our data in order for it to be usable. For instance, in the `'attributes'` column of our DataFrame, we have a `dict` for each business listing all of its properties. If I wanted to find a restaurant that offers delivery service, it would be difficult for me to filter the DataFrame, even though that information is in the `'attributes'` column. First, I need to transform the `dict` into something more useful."
      ]
    },
    {
      "cell_type": "code",
      "execution_count": null,
      "metadata": {
        "id": "6NwWiZpHdyG9"
      },
      "outputs": [],
      "source": [
        "def get_delivery_attr(attr_dict):\n",
        "    return attr_dict.get('Delivery')"
      ]
    },
    {
      "cell_type": "markdown",
      "metadata": {
        "id": "OvgjJzcDdyG9"
      },
      "source": [
        "If we give this function a `dict` from the `'attributes'` column, it will look for the `'Delivery'` key. If it finds that key, it returns the value. If it doesn't find the key, it will return none."
      ]
    },
    {
      "cell_type": "code",
      "execution_count": null,
      "metadata": {
        "id": "ZD6xSpDidyG9"
      },
      "outputs": [],
      "source": [
        "print get_delivery_attr(yelp_df.loc[0, 'attributes'])\n",
        "print get_delivery_attr(yelp_df.loc[1, 'attributes'])\n",
        "print get_delivery_attr(yelp_df.loc[2, 'attributes'])"
      ]
    },
    {
      "cell_type": "markdown",
      "metadata": {
        "id": "Hz_4aHeqdyG9"
      },
      "source": [
        "We could iterate over the rows of `yelp_df['attributes']` to get all of the values, but there is a better way. DataFrames and Series have an `apply` method that allows us to apply our function to the entire data set at once, like we did earlier with `np.log`."
      ]
    },
    {
      "cell_type": "code",
      "execution_count": null,
      "metadata": {
        "id": "E3xnmml5dyG9"
      },
      "outputs": [],
      "source": [
        "delivery_attr = yelp_df['attributes'].apply(get_delivery_attr)\n",
        "delivery_attr.head()"
      ]
    },
    {
      "cell_type": "markdown",
      "metadata": {
        "id": "M8zm6UlfdyG9"
      },
      "source": [
        "We can make a new column in our DataFrame with this transformed (and useful) information."
      ]
    },
    {
      "cell_type": "code",
      "execution_count": null,
      "metadata": {
        "id": "TDPGML93dyG9"
      },
      "outputs": [],
      "source": [
        "yelp_df['delivery'] = delivery_attr\n",
        "\n",
        "# to find businesses that deliver\n",
        "yelp_df[yelp_df['delivery'].fillna(False)].head()"
      ]
    },
    {
      "cell_type": "markdown",
      "metadata": {
        "id": "xjIvpdf0dyG9"
      },
      "source": [
        "It's less common (though possible) to use `apply` on an entire DataFrame rather than just one column. Since a DataFrame might contain many types of data, we won't usually want to apply the same transformation or aggregation across all of the columns."
      ]
    },
    {
      "cell_type": "markdown",
      "metadata": {
        "id": "tcboRGYidyG9"
      },
      "source": [
        "## Data aggregation with `groupby`\n",
        "\n",
        "Data aggregation is an [_overloaded_](https://en.wikipedia.org/wiki/Function_overloading) term. It refers to both data summarization (as above) but also to the combining of different data sets.\n",
        "\n",
        "With our Yelp data, we might be interested in comparing the star ratings of businesses in different cities. We could calculate the mean star rating for each city, and this would allow us to easily compare them. First we would have to split up our data by city, calculate the mean for each city, and then combine it back at the end. This procedure is known as [split-apply-combine](https://pandas.pydata.org/pandas-docs/stable/groupby.html) and is a classic example of data aggregation (in the sense of both summarizing data and also combining different data sets).\n",
        "\n",
        "We achieve the splitting and recombining using the `groupby` method."
      ]
    },
    {
      "cell_type": "code",
      "execution_count": null,
      "metadata": {
        "id": "Yjv9kY6sdyG9"
      },
      "outputs": [],
      "source": [
        "stars_by_city = yelp_df.groupby('city')['stars'].mean()\n",
        "stars_by_city.head()"
      ]
    },
    {
      "cell_type": "markdown",
      "metadata": {
        "id": "ZOrh6ANSdyG9"
      },
      "source": [
        "We can also apply multiple functions at once. It might be helpful to know the standard deviation of star ratings, the total number of reviews, and the count of businesses as well."
      ]
    },
    {
      "cell_type": "code",
      "execution_count": null,
      "metadata": {
        "id": "NzAB8ZEudyG9"
      },
      "outputs": [],
      "source": [
        "agg_by_city = yelp_df.groupby('city').agg({'stars': {'mean': 'mean', 'std': 'std'}, 'review_count': 'sum', 'business_id': 'count'})\n",
        "agg_by_city.head()"
      ]
    },
    {
      "cell_type": "code",
      "execution_count": null,
      "metadata": {
        "id": "jRKYhcWYdyG9"
      },
      "outputs": [],
      "source": [
        "# unstacking the columns\n",
        "new_columns = map(lambda x: '_'.join(x), zip(agg_by_city.columns.get_level_values(0), agg_by_city.columns.get_level_values(1)))\n",
        "agg_by_city.columns = new_columns\n",
        "agg_by_city.head()"
      ]
    },
    {
      "cell_type": "markdown",
      "metadata": {
        "id": "ki1cofCodyG9"
      },
      "source": [
        "How does this work? What does `groupby` do? Let's start by inspecting the result of `groupby`."
      ]
    },
    {
      "cell_type": "code",
      "execution_count": null,
      "metadata": {
        "id": "MUfWGGgPdyG9"
      },
      "outputs": [],
      "source": [
        "by_city = yelp_df.groupby('city')\n",
        "by_city"
      ]
    },
    {
      "cell_type": "code",
      "execution_count": null,
      "metadata": {
        "id": "9DPluFdRdyG9"
      },
      "outputs": [],
      "source": [
        "dir(by_city)"
      ]
    },
    {
      "cell_type": "code",
      "execution_count": null,
      "metadata": {
        "id": "d_zOottCdyG-"
      },
      "outputs": [],
      "source": [
        "print type(by_city.groups)\n",
        "by_city.groups.items()[:5]"
      ]
    },
    {
      "cell_type": "code",
      "execution_count": null,
      "metadata": {
        "id": "8p47afpFdyG-"
      },
      "outputs": [],
      "source": [
        "by_city.get_group('Anthem').head()"
      ]
    },
    {
      "cell_type": "markdown",
      "metadata": {
        "id": "uhdVzjkcdyG-"
      },
      "source": [
        "When we use `groupby` on a column, Pandas builds a `dict`, using the unique elements of the column as the keys and the index of the rows in each group as the values. This `dict` is stored in the `groups` attribute. Pandas can then use this `dict` to direct the application of aggregating functions over the different groups."
      ]
    },
    {
      "cell_type": "markdown",
      "metadata": {
        "id": "KlLhrq0wdyG-"
      },
      "source": [
        "## Sorting\n",
        "\n",
        "Even though the DataFrame in many ways behaves similarly to a `dict`, it also is ordered. Therefore we can sort the data in it. Pandas provides two sorting methods, `sort_values` and `sort_index`."
      ]
    },
    {
      "cell_type": "code",
      "execution_count": null,
      "metadata": {
        "id": "20CM9NsedyG-"
      },
      "outputs": [],
      "source": [
        "yelp_df.sort_values('stars').head()"
      ]
    },
    {
      "cell_type": "code",
      "execution_count": null,
      "metadata": {
        "id": "jxJnTpV1dyG-"
      },
      "outputs": [],
      "source": [
        "yelp_df.set_index('business_id').sort_index().head()"
      ]
    },
    {
      "cell_type": "markdown",
      "metadata": {
        "id": "nr8U7TzXdyG-"
      },
      "source": [
        "Don't forget that most Pandas operations return a copy of the DataFrame, and do not update the DataFrame in place (unless we tell it to)!"
      ]
    },
    {
      "cell_type": "markdown",
      "metadata": {
        "id": "Oz8fS4EKdyG-"
      },
      "source": [
        "## Joining data sets"
      ]
    },
    {
      "cell_type": "markdown",
      "metadata": {
        "id": "zz4vZ4wndyG-"
      },
      "source": [
        "Often we will want to augment one data set with data from another. For instance, businesses in big cities probably get more reviews than those in small cities. It could be useful to scale the review counts by the city's population. To do that, we'll need to add population data to the Yelp data. We can get population data from the US census."
      ]
    },
    {
      "cell_type": "code",
      "execution_count": null,
      "metadata": {
        "id": "T6d1yvwZdyG-"
      },
      "outputs": [],
      "source": [
        "census = pd.read_csv('./data/PEP_2016_PEPANNRES.csv', skiprows=[1])\n",
        "\n",
        "census.head()"
      ]
    },
    {
      "cell_type": "code",
      "execution_count": null,
      "metadata": {
        "id": "u4MS64jadyG-"
      },
      "outputs": [],
      "source": [
        "# construct city & state fields\n",
        "census['city'] = census['GEO.display-label'].apply(lambda x: x.split(', ')[0])\n",
        "census['state'] = census['GEO.display-label'].apply(lambda x: x.split(', ')[2])"
      ]
    },
    {
      "cell_type": "code",
      "execution_count": null,
      "metadata": {
        "id": "LCJ93VVvdyG-"
      },
      "outputs": [],
      "source": [
        "# convert state names to abbreviations\n",
        "\n",
        "print census['state'].unique()"
      ]
    },
    {
      "cell_type": "code",
      "execution_count": null,
      "metadata": {
        "id": "b6kALU1JdyG-"
      },
      "outputs": [],
      "source": [
        "state_abbr = dict(zip(census['state'].unique(), ['CT', 'IL', 'IN', 'KS', 'ME', 'MA', 'MI', 'MN', 'MO', 'NE', 'NH', 'NJ', 'NY', 'ND', 'OH', 'PA', 'RI', 'SD', 'VT', 'WI']))"
      ]
    },
    {
      "cell_type": "code",
      "execution_count": null,
      "metadata": {
        "id": "cp9aS2BjdyG-"
      },
      "outputs": [],
      "source": [
        "census['state'] = census['state'].replace(state_abbr)"
      ]
    },
    {
      "cell_type": "code",
      "execution_count": null,
      "metadata": {
        "id": "64gD3w5mdyG-"
      },
      "outputs": [],
      "source": [
        "# remove last word (e.g. 'city', 'town', township', 'borough', 'village') from city names\n",
        "\n",
        "census['city'] = census['city'].apply(lambda x: ' '.join(x.split(' ')[:-1]))"
      ]
    },
    {
      "cell_type": "code",
      "execution_count": null,
      "metadata": {
        "id": "88LcBe9OdyG-"
      },
      "outputs": [],
      "source": [
        "merged_df = yelp_df.merge(census, on=['state', 'city'])\n",
        "merged_df.head()"
      ]
    },
    {
      "cell_type": "markdown",
      "metadata": {
        "id": "FBksn7INdyG-"
      },
      "source": [
        "The `merge` function looks through the `'state'` and `'city'` columns of `yelp_df` and `census` and tries to match up rows that share values. When a match is found, the rows are combined. What happens when a match is not found? We can imagine four scenarios:  \n",
        "\n",
        "1. We only keep rows from `yelp_df` and `census` if they match. Any rows from either table that have no match are discarded. This is called an _inner join_.  \n",
        "\n",
        "2. We keep all rows from `yelp_df` and `census`, even if they have no match. In this case, when a row in `yelp_df` has no match in `census`, all the columns from `census` are merged in with null values. When a row in `census` has no match in `yelp_df`, all the columns from `yelp_df` are merged in with null values. This is called an _outer join_.\n",
        "\n",
        "3. We privilege the `yelp_df` data. If a row in `yelp_df` has no match in `census`, we keep it and fill in the missing `census` columns as null values. If a row in `census` has no match in `yelp_df`, we discard it. This is called a _left join_.\n",
        "\n",
        "4. We privilege the `census` data. This is called a _right join_.\n",
        "\n",
        "The default behavior for Pandas is case #1, the _inner join_. This means if there are cities in `yelp_df` that we don't have matching `census` data for, they are dropped. Therefore, `merged_df` might be smaller than `yelp_df`."
      ]
    },
    {
      "cell_type": "code",
      "execution_count": null,
      "metadata": {
        "id": "YNl2YbXVdyG-"
      },
      "outputs": [],
      "source": [
        "print yelp_df.shape\n",
        "print merged_df.shape"
      ]
    },
    {
      "cell_type": "markdown",
      "metadata": {
        "id": "tCJjAybqdyG-"
      },
      "source": [
        "There are a lot of cities in `yelp_df` that aren't in `census`! We might want to keep these rows, but we don't need any census data where there are no businesses. Then we should use a _left join_."
      ]
    },
    {
      "cell_type": "code",
      "execution_count": null,
      "metadata": {
        "id": "2_OB8vIEdyG-"
      },
      "outputs": [],
      "source": [
        "merged_df = yelp_df.merge(census, on=['state', 'city'], how='left')\n",
        "print yelp_df.shape\n",
        "print merged_df.shape"
      ]
    },
    {
      "cell_type": "markdown",
      "metadata": {
        "id": "J4H3CBDAdyG_"
      },
      "source": [
        "Sometimes we don't need to merge together the columns of separate data sets, but just need to add more rows. For example, the New York City subway system [releases data about how many customers enter and exit the station each week](http://web.mta.info/developers/turnstile.html). Each weekly data set has the same columns, so if we want multiple weeks of data, we just have to append one week to another."
      ]
    },
    {
      "cell_type": "code",
      "execution_count": null,
      "metadata": {
        "id": "J8tXl77AdyG_"
      },
      "outputs": [],
      "source": [
        "nov18 = pd.read_csv('http://web.mta.info/developers/data/nyct/turnstile/turnstile_171118.txt')\n",
        "nov11 = pd.read_csv('http://web.mta.info/developers/data/nyct/turnstile/turnstile_171111.txt')"
      ]
    },
    {
      "cell_type": "code",
      "execution_count": null,
      "metadata": {
        "id": "MoDvgVTCdyG_"
      },
      "outputs": [],
      "source": [
        "nov18.head()"
      ]
    },
    {
      "cell_type": "code",
      "execution_count": null,
      "metadata": {
        "id": "JcfIkiOgdyG_"
      },
      "outputs": [],
      "source": [
        "nov11.head()"
      ]
    },
    {
      "cell_type": "code",
      "execution_count": null,
      "metadata": {
        "id": "oUsD_2WwdyG_"
      },
      "outputs": [],
      "source": [
        "nov = pd.concat([nov18, nov11])\n",
        "nov['DATE'].unique()"
      ]
    },
    {
      "cell_type": "markdown",
      "metadata": {
        "id": "cZxW2iHldyG_"
      },
      "source": [
        "We can also use `concat` to perform inner and outer joins based on index. For example, we can perform some data aggregation and then join the results onto the original DataFrame."
      ]
    },
    {
      "cell_type": "code",
      "execution_count": null,
      "metadata": {
        "id": "iZkjT5y1dyG_"
      },
      "outputs": [],
      "source": [
        "city_counts = yelp_df.groupby('city')['business_id'].count().rename('city_counts')\n",
        "city_counts.head()"
      ]
    },
    {
      "cell_type": "code",
      "execution_count": null,
      "metadata": {
        "id": "y54GVrRLdyG_"
      },
      "outputs": [],
      "source": [
        "pd.concat([yelp_df.set_index('city'), city_counts], axis=1, join='inner').reset_index().head()"
      ]
    },
    {
      "cell_type": "markdown",
      "metadata": {
        "id": "_2rVjgs-dyG_"
      },
      "source": [
        "Pandas provides [extensive documentation](https://pandas.pydata.org/pandas-docs/stable/merging.html) with diagrammed examples on different methods and approaches for joining data."
      ]
    },
    {
      "cell_type": "markdown",
      "metadata": {
        "id": "P70XSYMEdyG_"
      },
      "source": [
        "## Working with time series\n",
        "Pandas has a well-designed backend for inferring dates and times from strings and doing meaningful computations with them."
      ]
    },
    {
      "cell_type": "code",
      "execution_count": null,
      "metadata": {
        "id": "FCbOeqKgdyG_"
      },
      "outputs": [],
      "source": [
        "pop_growth = pd.read_html('https://web.archive.org/web/20170127165708/https://www.census.gov/population/international/data/worldpop/table_population.php', attrs={'class': 'query_table'}, parse_dates=[0])[0]\n",
        "pop_growth.dropna(inplace=True)\n",
        "pop_growth.head()"
      ]
    },
    {
      "cell_type": "markdown",
      "metadata": {
        "id": "o7R4uUi2dyG_"
      },
      "source": [
        "By setting the `'Year'` column to the index, we can easily aggregate data by date using the `resample` method. The `resample` method allows us to decrease or increase the sampling frequency of our data. For instance, maybe instead of yearly data, we want to see average quantities for each decade."
      ]
    },
    {
      "cell_type": "code",
      "execution_count": null,
      "metadata": {
        "id": "hGzTShltdyG_"
      },
      "outputs": [],
      "source": [
        "pop_growth.set_index('Year', inplace=True)"
      ]
    },
    {
      "cell_type": "code",
      "execution_count": null,
      "metadata": {
        "id": "v5zBuOytdyG_"
      },
      "outputs": [],
      "source": [
        "pop_growth.resample('10AS').mean()"
      ]
    },
    {
      "cell_type": "markdown",
      "metadata": {
        "id": "BT8qElq8dyG_"
      },
      "source": [
        "This kind of resampling is called _downsampling_, because we are decreasing the sampling frequency of the data. We can choose how to aggregate the data from each decade (e.g. `mean`). Options for aggregation include `mean`, `median`, `sum`, `last`, and `first`.\n",
        "\n",
        "We can also _upsample_ data. In this case, we don't have data for each quarter, so we have to tell Pandas has to fill in the missing data."
      ]
    },
    {
      "cell_type": "code",
      "execution_count": null,
      "metadata": {
        "id": "wI-4JbFrdyG_"
      },
      "outputs": [],
      "source": [
        "pop_growth.resample('1Q').bfill().head()"
      ]
    },
    {
      "cell_type": "code",
      "execution_count": null,
      "metadata": {
        "id": "KcBdnR4kdyG_"
      },
      "outputs": [],
      "source": [
        "pop_growth.resample('1Q').ffill().head()"
      ]
    },
    {
      "cell_type": "markdown",
      "metadata": {
        "id": "-rPWSjrMdyG_"
      },
      "source": [
        "Pandas' time series capabilities are built on the Pandas `Timestamp` class."
      ]
    },
    {
      "cell_type": "code",
      "execution_count": null,
      "metadata": {
        "id": "xZEmQkWMdyG_"
      },
      "outputs": [],
      "source": [
        "print pd.Timestamp('January 8, 2017')\n",
        "print pd.Timestamp('01/08/17 20:13')\n",
        "print pd.Timestamp(1.4839*10**18)"
      ]
    },
    {
      "cell_type": "code",
      "execution_count": null,
      "metadata": {
        "id": "a3yD4t_vdyHA"
      },
      "outputs": [],
      "source": [
        "print pd.Timestamp('Feb. 11 2016 2:30 am') - pd.Timestamp('2015-08-03 5:14 pm')"
      ]
    },
    {
      "cell_type": "code",
      "execution_count": null,
      "metadata": {
        "id": "_vMBlEI5dyHA"
      },
      "outputs": [],
      "source": [
        "from pandas.tseries.offsets import BDay, Day, BMonthEnd\n",
        "\n",
        "print pd.Timestamp('January 9, 2017') - Day(4)\n",
        "print pd.Timestamp('January 9, 2017') - BDay(4)\n",
        "print pd.Timestamp('January 9, 2017') + BMonthEnd(4)"
      ]
    },
    {
      "cell_type": "markdown",
      "metadata": {
        "id": "0SCi26uCdyHA"
      },
      "source": [
        "If we're entering time series data into a DataFrame it will often be useful to create a range of dates."
      ]
    },
    {
      "cell_type": "code",
      "execution_count": null,
      "metadata": {
        "id": "q_szhKL9dyHA"
      },
      "outputs": [],
      "source": [
        "pd.date_range(start='1/8/2017', end='3/2/2017', freq='B')"
      ]
    },
    {
      "cell_type": "markdown",
      "metadata": {
        "id": "vvs2LabVdyHA"
      },
      "source": [
        "The `Timestamp` class is compatible with Python's `datetime` module."
      ]
    },
    {
      "cell_type": "code",
      "execution_count": null,
      "metadata": {
        "id": "imJkjXYcdyHA"
      },
      "outputs": [],
      "source": [
        "import datetime\n",
        "\n",
        "pd.Timestamp('May 1, 2017') - datetime.datetime(2017, 1, 8)"
      ]
    },
    {
      "cell_type": "markdown",
      "metadata": {
        "id": "N3h_iJcTdyHA"
      },
      "source": [
        "## Visualizing data with Pandas\n",
        "\n",
        "Visualizing a data set is an important first step in drawing insights. We can easily pass data from Pandas to Matplotlib for visualizations, but Pandas also plugs into Matplotlib directly through methods like `plot` and `hist`."
      ]
    },
    {
      "cell_type": "code",
      "execution_count": null,
      "metadata": {
        "id": "aH7iMHMqdyHA"
      },
      "outputs": [],
      "source": [
        "yelp_df['review_count'].apply(np.log).hist(bins=30)"
      ]
    },
    {
      "cell_type": "code",
      "execution_count": null,
      "metadata": {
        "id": "Ogwmr1LmdyHB"
      },
      "outputs": [],
      "source": [
        "pop_growth['Annual Growth Rate (%)'].plot()"
      ]
    },
    {
      "cell_type": "markdown",
      "metadata": {
        "id": "QQlQDeDjdyHB"
      },
      "source": [
        "The [plotting functions take many parameters](https://pandas.pydata.org/pandas-docs/stable/generated/pandas.DataFrame.plot.html) for customizing the appearance of the output. Since they are essentially a wrapper around the Matplotlib functions, they also accept many of the Matplotlib parameters, not all of which are listed in the Pandas documentation. Pandas provides [a guide](https://pandas.pydata.org/pandas-docs/stable/visualization.html) to making various plots from DataFrames."
      ]
    },
    {
      "cell_type": "markdown",
      "metadata": {
        "id": "ouDcWXDxdyHB"
      },
      "source": [
        "*Copyright &copy; 2017 The Data Incubator.  All rights reserved.*"
      ]
    }
  ],
  "metadata": {
    "kernelspec": {
      "display_name": "Python 2",
      "language": "python",
      "name": "python2"
    },
    "nbclean": true,
    "colab": {
      "provenance": [],
      "include_colab_link": true
    }
  },
  "nbformat": 4,
  "nbformat_minor": 0
}
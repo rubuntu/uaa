{
  "cells": [
    {
      "cell_type": "markdown",
      "metadata": {
        "id": "view-in-github",
        "colab_type": "text"
      },
      "source": [
        "<a href=\"https://colab.research.google.com/github/rubuntu/uaa-417-sistemas-de-gestion-de-bases-de-datos-avanzados/blob/main/06_IO.ipynb\" target=\"_parent\"><img src=\"https://colab.research.google.com/assets/colab-badge.svg\" alt=\"Open In Colab\"/></a>"
      ]
    },
    {
      "cell_type": "code",
      "execution_count": null,
      "metadata": {
        "id": "TAbQLXH3av2P"
      },
      "outputs": [],
      "source": [
        "%matplotlib inline\n",
        "import matplotlib\n",
        "import seaborn as sns\n",
        "matplotlib.rcParams['savefig.dpi'] = 144"
      ]
    },
    {
      "cell_type": "code",
      "execution_count": null,
      "metadata": {
        "id": "2sqOLCFtav2R"
      },
      "outputs": [],
      "source": [
        "%%capture\n",
        "!pip install expectexception\n",
        "import expectexception"
      ]
    },
    {
      "cell_type": "markdown",
      "metadata": {
        "id": "FkdGkEr4av2R"
      },
      "source": [
        "# Importación y exportación de datos\n",
        "\n",
        "<!-- requisito: datos/muestra.txt -->\n",
        "<!-- requisito: datos/csv_sample.txt -->\n",
        "<!-- requisito: datos/bad_csv.csv -->\n",
        "\n",
        "Hasta ahora solo hemos tratado con datos que hemos creado dentro de Python. Generar datos aleatorios es útil para probar ideas, pero queremos trabajar con datos reales. En la mayoría de los casos, esos datos se almacenarán en un archivo, ya sea localmente en la computadora o en línea. En este cuaderno aprenderemos cómo leer y escribir datos en archivos."
      ]
    },
    {
      "cell_type": "markdown",
      "metadata": {
        "id": "owWP4vBgav2S"
      },
      "source": [
        "## Python file handles (`open`)\n",
        "\n",
        "En Python interactuamos con archivos en el disco usando los comandos \"abrir\" y \"cerrar\". Hemos incluido un archivo en la carpeta \"datos\" llamado \"sample.txt\". Abrámoslo y leamos su contenido."
      ]
    },
    {
      "cell_type": "code",
      "source": [
        "%%capture\n",
        "!mkdir data\n",
        "!wget -P ./data/ https://raw.githubusercontent.com/rubuntu/uaa-417-sistemas-de-gestion-de-bases-de-datos-avanzados/main/data/sample.txt\n",
        "!wget -P ./data/ https://raw.githubusercontent.com/rubuntu/uaa-417-sistemas-de-gestion-de-bases-de-datos-avanzados/main/data/csv_sample.txt\n",
        "!wget -P ./data/ https://raw.githubusercontent.com/rubuntu/uaa-417-sistemas-de-gestion-de-bases-de-datos-avanzados/main/data/bad_csv.csv\n",
        "!wget -P ./data/ https://raw.githubusercontent.com/rubuntu/uaa-417-sistemas-de-gestion-de-bases-de-datos-avanzados/main/data/library.json"
      ],
      "metadata": {
        "id": "KFMki-8VNoUr",
        "outputId": "c694562b-cf01-4a8a-da6b-66d917946589",
        "colab": {
          "base_uri": "https://localhost:8080/"
        }
      },
      "execution_count": null,
      "outputs": [
        {
          "output_type": "stream",
          "name": "stdout",
          "text": [
            "mkdir: cannot create directory ‘data’: File exists\n",
            "--2024-08-30 23:26:13--  https://raw.githubusercontent.com/rubuntu/uaa-417-sistemas-de-gestion-de-bases-de-datos-avanzados/main/data/sample.txt\n",
            "Resolving raw.githubusercontent.com (raw.githubusercontent.com)... 185.199.108.133, 185.199.109.133, 185.199.110.133, ...\n",
            "Connecting to raw.githubusercontent.com (raw.githubusercontent.com)|185.199.108.133|:443... connected.\n",
            "HTTP request sent, awaiting response... 200 OK\n",
            "Length: 56 [text/plain]\n",
            "Saving to: ‘./data/sample.txt.5’\n",
            "\n",
            "sample.txt.5        100%[===================>]      56  --.-KB/s    in 0s      \n",
            "\n",
            "2024-08-30 23:26:13 (321 KB/s) - ‘./data/sample.txt.5’ saved [56/56]\n",
            "\n",
            "--2024-08-30 23:26:13--  https://raw.githubusercontent.com/rubuntu/uaa-417-sistemas-de-gestion-de-bases-de-datos-avanzados/main/data/csv_sample.txt\n",
            "Resolving raw.githubusercontent.com (raw.githubusercontent.com)... 185.199.108.133, 185.199.109.133, 185.199.110.133, ...\n",
            "Connecting to raw.githubusercontent.com (raw.githubusercontent.com)|185.199.108.133|:443... connected.\n",
            "HTTP request sent, awaiting response... 200 OK\n",
            "Length: 48 [text/plain]\n",
            "Saving to: ‘./data/csv_sample.txt.5’\n",
            "\n",
            "csv_sample.txt.5    100%[===================>]      48  --.-KB/s    in 0s      \n",
            "\n",
            "2024-08-30 23:26:14 (2.13 MB/s) - ‘./data/csv_sample.txt.5’ saved [48/48]\n",
            "\n",
            "--2024-08-30 23:26:14--  https://raw.githubusercontent.com/rubuntu/uaa-417-sistemas-de-gestion-de-bases-de-datos-avanzados/main/data/bad_csv.csv\n",
            "Resolving raw.githubusercontent.com (raw.githubusercontent.com)... 185.199.108.133, 185.199.109.133, 185.199.110.133, ...\n",
            "Connecting to raw.githubusercontent.com (raw.githubusercontent.com)|185.199.108.133|:443... connected.\n",
            "HTTP request sent, awaiting response... 200 OK\n",
            "Length: 39 [text/plain]\n",
            "Saving to: ‘./data/bad_csv.csv.1’\n",
            "\n",
            "bad_csv.csv.1       100%[===================>]      39  --.-KB/s    in 0s      \n",
            "\n",
            "2024-08-30 23:26:14 (696 KB/s) - ‘./data/bad_csv.csv.1’ saved [39/39]\n",
            "\n",
            "--2024-08-30 23:26:14--  https://raw.githubusercontent.com/rubuntu/uaa-417-sistemas-de-gestion-de-bases-de-datos-avanzados/main/data/library.json\n",
            "Resolving raw.githubusercontent.com (raw.githubusercontent.com)... 185.199.108.133, 185.199.109.133, 185.199.111.133, ...\n",
            "Connecting to raw.githubusercontent.com (raw.githubusercontent.com)|185.199.108.133|:443... connected.\n",
            "HTTP request sent, awaiting response... 200 OK\n",
            "Length: 1015 [text/plain]\n",
            "Saving to: ‘./data/library.json’\n",
            "\n",
            "library.json        100%[===================>]    1015  --.-KB/s    in 0s      \n",
            "\n",
            "2024-08-30 23:26:14 (60.5 MB/s) - ‘./data/library.json’ saved [1015/1015]\n",
            "\n"
          ]
        }
      ]
    },
    {
      "cell_type": "code",
      "execution_count": null,
      "metadata": {
        "id": "X4b32x0lav2S",
        "outputId": "5dada186-5e50-4116-b43d-26f0363eded1",
        "colab": {
          "base_uri": "https://localhost:8080/"
        }
      },
      "outputs": [
        {
          "output_type": "stream",
          "name": "stdout",
          "text": [
            "Hello!\n",
            "Congratulations!\n",
            "You've read in data from a file.\n",
            "<_io.TextIOWrapper name='./data/sample.txt' mode='r' encoding='UTF-8'>\n"
          ]
        }
      ],
      "source": [
        "f = open('./data/sample.txt', 'r')\n",
        "\n",
        "data = f.read()\n",
        "f.close()\n",
        "\n",
        "print(data)\n",
        "print(f)"
      ]
    },
    {
      "cell_type": "markdown",
      "metadata": {
        "id": "bn4xuZF3av2T"
      },
      "source": [
        "Observe que \"abrimos\" el archivo y lo asignamos a \"f\", \"leemos\" los datos de \"f\" y luego cerramos \"f\". ¿Qué es \"f\"? Se llama **identificador de archivo**. Es un objeto que conecta Python con el archivo que \"abrimos\". \"Leemos\" los datos usando esta conexión y luego, una vez que terminamos, \"cerramos\" la conexión. Es un buen hábito \"cerrar\" un identificador de archivo una vez que hayamos terminado con él, por lo que generalmente lo haremos automáticamente usando la palabra clave \"with\" de Python."
      ]
    },
    {
      "cell_type": "code",
      "execution_count": null,
      "metadata": {
        "id": "lI5GVr0Bav2T",
        "outputId": "755893f1-5d1d-40c8-e353-88d24322b26a",
        "colab": {
          "base_uri": "https://localhost:8080/"
        }
      },
      "outputs": [
        {
          "output_type": "stream",
          "name": "stdout",
          "text": [
            "Hello!\n",
            "Congratulations!\n",
            "You've read in data from a file.\n",
            "<_io.TextIOWrapper name='./data/sample.txt' mode='r' encoding='UTF-8'>\n"
          ]
        }
      ],
      "source": [
        "# f is automatically closed\n",
        "# at the end of the body of the with statement\n",
        "with open('./data/sample.txt', 'r') as f:\n",
        "    print(f.read())\n",
        "\n",
        "print(f)"
      ]
    },
    {
      "cell_type": "markdown",
      "metadata": {
        "id": "4PWKXdj9av2U"
      },
      "source": [
        "También podemos leer líneas individuales de un archivo."
      ]
    },
    {
      "cell_type": "code",
      "execution_count": null,
      "metadata": {
        "id": "M9wFdyC4av2U",
        "outputId": "aaf40022-ffb8-4de8-e666-80830015a376",
        "colab": {
          "base_uri": "https://localhost:8080/"
        }
      },
      "outputs": [
        {
          "output_type": "stream",
          "name": "stdout",
          "text": [
            "Hello!\n",
            "\n"
          ]
        }
      ],
      "source": [
        "with open('./data/sample.txt', 'r') as f:\n",
        "    print(f.readline())"
      ]
    },
    {
      "cell_type": "code",
      "execution_count": null,
      "metadata": {
        "id": "6SLBmuflav2U",
        "outputId": "a1082926-fa4d-49ca-d6f6-52777bf40c44",
        "colab": {
          "base_uri": "https://localhost:8080/"
        }
      },
      "outputs": [
        {
          "output_type": "stream",
          "name": "stdout",
          "text": [
            "['Hello!\\n', 'Congratulations!\\n', \"You've read in data from a file.\"]\n"
          ]
        }
      ],
      "source": [
        "with open('./data/sample.txt', 'r') as f:\n",
        "    print(f.readlines())"
      ]
    },
    {
      "cell_type": "markdown",
      "metadata": {
        "id": "qGedQGf2av2V"
      },
      "source": [
        "Escribir datos en archivos es muy similar. La principal diferencia es que cuando \"abrimos\" el archivo, usaremos la bandera \"w\" en lugar de \"r\"."
      ]
    },
    {
      "cell_type": "code",
      "execution_count": null,
      "metadata": {
        "id": "X48PwmT2av2V",
        "outputId": "eefa7809-37cc-49b6-f693-dcee4e496639",
        "colab": {
          "base_uri": "https://localhost:8080/"
        }
      },
      "outputs": [
        {
          "output_type": "stream",
          "name": "stdout",
          "text": [
            "This is a new file.I am practicing writing data to disk.\n"
          ]
        }
      ],
      "source": [
        "with open('./data/my_data.txt', 'w') as f:\n",
        "    f.write('This is a new file.')\n",
        "    f.write('I am practicing writing data to disk.')\n",
        "\n",
        "with open('./data/my_data.txt', 'r') as f:\n",
        "    my_data = f.read()\n",
        "\n",
        "print(my_data)"
      ]
    },
    {
      "cell_type": "markdown",
      "metadata": {
        "id": "Ev0xqK9Uav2V"
      },
      "source": [
        "No importa con qué frecuencia ejecute la celda anterior, se imprime el mismo resultado. Al abrir el archivo con la bandera `'w'` se sobrescribirá el contenido del archivo. Si queremos agregar algo a lo que ya está en el archivo, tenemos que abrir el archivo con la bandera `'a'` (`'a'` significa _append_)."
      ]
    },
    {
      "cell_type": "code",
      "execution_count": null,
      "metadata": {
        "id": "WJM25HYOav2V",
        "outputId": "2eaed447-6365-4c43-8e98-f19d0d15a06d",
        "colab": {
          "base_uri": "https://localhost:8080/"
        }
      },
      "outputs": [
        {
          "output_type": "stream",
          "name": "stdout",
          "text": [
            "This is a new file.I am practicing writing data to disk.\n",
            "Adding a new line to the file.\n"
          ]
        }
      ],
      "source": [
        "with open('./data/my_data.txt', 'a') as f:\n",
        "    f.write('\\nAdding a new line to the file.')\n",
        "\n",
        "with open('./data/my_data.txt', 'r') as f:\n",
        "    my_data = f.read()\n",
        "\n",
        "print(my_data)"
      ]
    },
    {
      "cell_type": "markdown",
      "metadata": {
        "id": "qA5pJeHGav2V"
      },
      "source": [
        "Siempre debemos tener cuidado al escribir en el disco, porque podríamos sobrescribir o alterar datos por accidente. También es fácil encontrar errores al trabajar con archivos, porque es posible que no sepamos de antemano si el archivo al que intentamos acceder existe, o podemos mezclar los indicadores 'r', 'w' y 'a'. ."
      ]
    },
    {
      "cell_type": "code",
      "execution_count": null,
      "metadata": {
        "id": "sJStI6uCav2W",
        "outputId": "8bb726ed-02ae-44e0-c7a1-25262bbc4723",
        "colab": {
          "base_uri": "https://localhost:8080/"
        }
      },
      "outputs": [
        {
          "output_type": "stream",
          "name": "stdout",
          "text": [
            "\u001b[0;31m---------------------------------------------------------------------------\u001b[0m\n",
            "\u001b[0;31mFileNotFoundError\u001b[0m                         Traceback (most recent call last)\n",
            "\u001b[0;32m<ipython-input-10-0a5884501d6d>\u001b[0m in \u001b[0;36m<cell line: 5>\u001b[0;34m()\u001b[0m\n",
            "\u001b[1;32m      3\u001b[0m \u001b[0;31m# (but we can open it for writing)\u001b[0m\u001b[0;34m\u001b[0m\u001b[0;34m\u001b[0m\u001b[0m\n",
            "\u001b[1;32m      4\u001b[0m \u001b[0;34m\u001b[0m\u001b[0m\n",
            "\u001b[0;32m----> 5\u001b[0;31m \u001b[0;32mwith\u001b[0m \u001b[0mopen\u001b[0m\u001b[0;34m(\u001b[0m\u001b[0;34m'./data/not-exist.txt'\u001b[0m\u001b[0;34m,\u001b[0m \u001b[0;34m'r'\u001b[0m\u001b[0;34m)\u001b[0m \u001b[0;32mas\u001b[0m \u001b[0mf\u001b[0m\u001b[0;34m:\u001b[0m\u001b[0;34m\u001b[0m\u001b[0;34m\u001b[0m\u001b[0m\n",
            "\u001b[0m\u001b[1;32m      6\u001b[0m     \u001b[0mf\u001b[0m\u001b[0;34m.\u001b[0m\u001b[0mread\u001b[0m\u001b[0;34m(\u001b[0m\u001b[0;34m)\u001b[0m\u001b[0;34m\u001b[0m\u001b[0;34m\u001b[0m\u001b[0m\n",
            "\n",
            "\u001b[0;31mFileNotFoundError\u001b[0m: [Errno 2] No such file or directory: './data/not-exist.txt'\n"
          ]
        }
      ],
      "source": [
        "%%expect_exception IOError\n",
        "\n",
        "# if a file doesn't exist\n",
        "# we can't open it for reading\n",
        "# (but we can open it for writing)\n",
        "\n",
        "with open('./data/not-exist.txt', 'r') as f:\n",
        "    f.read()"
      ]
    },
    {
      "cell_type": "code",
      "execution_count": null,
      "metadata": {
        "id": "lqLHxWUgav2W",
        "outputId": "dc345f19-8aa5-48f1-a907-87ebc421226d",
        "colab": {
          "base_uri": "https://localhost:8080/"
        }
      },
      "outputs": [
        {
          "output_type": "stream",
          "name": "stdout",
          "text": [
            "\u001b[0;31m---------------------------------------------------------------------------\u001b[0m\n",
            "\u001b[0;31mUnsupportedOperation\u001b[0m                      Traceback (most recent call last)\n",
            "\u001b[0;32m<ipython-input-11-55efcd5fc67a>\u001b[0m in \u001b[0;36m<cell line: 3>\u001b[0;34m()\u001b[0m\n",
            "\u001b[1;32m      2\u001b[0m \u001b[0;34m\u001b[0m\u001b[0m\n",
            "\u001b[1;32m      3\u001b[0m \u001b[0;32mwith\u001b[0m \u001b[0mopen\u001b[0m\u001b[0;34m(\u001b[0m\u001b[0;34m'./data/fail.txt'\u001b[0m\u001b[0;34m,\u001b[0m \u001b[0;34m'w'\u001b[0m\u001b[0;34m)\u001b[0m \u001b[0;32mas\u001b[0m \u001b[0mf\u001b[0m\u001b[0;34m:\u001b[0m\u001b[0;34m\u001b[0m\u001b[0;34m\u001b[0m\u001b[0m\n",
            "\u001b[0;32m----> 4\u001b[0;31m     \u001b[0mf\u001b[0m\u001b[0;34m.\u001b[0m\u001b[0mread\u001b[0m\u001b[0;34m(\u001b[0m\u001b[0;34m)\u001b[0m\u001b[0;34m\u001b[0m\u001b[0;34m\u001b[0m\u001b[0m\n",
            "\u001b[0m\n",
            "\u001b[0;31mUnsupportedOperation\u001b[0m: not readable\n"
          ]
        }
      ],
      "source": [
        "%%expect_exception IOError\n",
        "\n",
        "# we can't read a file open for writing\n",
        "\n",
        "with open('./data/fail.txt', 'w') as f:\n",
        "    f.read()"
      ]
    },
    {
      "cell_type": "code",
      "execution_count": null,
      "metadata": {
        "id": "Vy6BFjaSav2W",
        "outputId": "f35a6201-bf7a-4994-d686-8692967570c8",
        "colab": {
          "base_uri": "https://localhost:8080/"
        }
      },
      "outputs": [
        {
          "output_type": "stream",
          "name": "stdout",
          "text": [
            "\u001b[0;31m---------------------------------------------------------------------------\u001b[0m\n",
            "\u001b[0;31mUnsupportedOperation\u001b[0m                      Traceback (most recent call last)\n",
            "\u001b[0;32m<ipython-input-12-776a79381859>\u001b[0m in \u001b[0;36m<cell line: 3>\u001b[0;34m()\u001b[0m\n",
            "\u001b[1;32m      2\u001b[0m \u001b[0;34m\u001b[0m\u001b[0m\n",
            "\u001b[1;32m      3\u001b[0m \u001b[0;32mwith\u001b[0m \u001b[0mopen\u001b[0m\u001b[0;34m(\u001b[0m\u001b[0;34m'./data/sample.txt'\u001b[0m\u001b[0;34m,\u001b[0m \u001b[0;34m'r'\u001b[0m\u001b[0;34m)\u001b[0m \u001b[0;32mas\u001b[0m \u001b[0mf\u001b[0m\u001b[0;34m:\u001b[0m\u001b[0;34m\u001b[0m\u001b[0;34m\u001b[0m\u001b[0m\n",
            "\u001b[0;32m----> 4\u001b[0;31m     \u001b[0mf\u001b[0m\u001b[0;34m.\u001b[0m\u001b[0mwrite\u001b[0m\u001b[0;34m(\u001b[0m\u001b[0;34m'This will fail'\u001b[0m\u001b[0;34m)\u001b[0m\u001b[0;34m\u001b[0m\u001b[0;34m\u001b[0m\u001b[0m\n",
            "\u001b[0m\n",
            "\u001b[0;31mUnsupportedOperation\u001b[0m: not writable\n"
          ]
        }
      ],
      "source": [
        "%%expect_exception IOError\n",
        "\n",
        "# and we can't write to a file open for reading\n",
        "\n",
        "with open('./data/sample.txt', 'r') as f:\n",
        "    f.write('This will fail')"
      ]
    },
    {
      "cell_type": "markdown",
      "metadata": {
        "id": "kfxv2clmav2W"
      },
      "source": [
        "¿Podemos prevenir algunos de estos errores? ¿Cómo sabemos qué archivos hay en el disco?\n",
        "\n",
        "## módulo `os`\n",
        "\n",
        "Python tiene un módulo para navegar por el sistema de archivos de la computadora llamado \"os\". Hay muchas herramientas útiles en el módulo `os`, pero hay dos funciones que son más útiles para buscar archivos."
      ]
    },
    {
      "cell_type": "code",
      "execution_count": null,
      "metadata": {
        "id": "aJKi4DLZav2W",
        "outputId": "01026119-5961-4439-925b-41c862219448",
        "colab": {
          "base_uri": "https://localhost:8080/"
        }
      },
      "outputs": [
        {
          "output_type": "execute_result",
          "data": {
            "text/plain": [
              "['.config', 'data', 'sample_data']"
            ]
          },
          "metadata": {},
          "execution_count": 19
        }
      ],
      "source": [
        "import os\n",
        "\n",
        "# list the contents of the current directory\n",
        "# ('.' refers to the current directory)\n",
        "os.listdir('.')"
      ]
    },
    {
      "cell_type": "markdown",
      "metadata": {
        "id": "BeywA2-eav2W"
      },
      "source": [
        "El comando `listdir` es la más simple de las dos funciones que cubriremos. Simplemente enumera el contenido de la ruta del directorio que especificamos. Cuando pasamos `'.'` como argumento, `listdir` buscará en el directorio actual. Enumera todos los cuadernos de Jupyter que estamos usando para el curso, así como el subdirectorio \"datos\". Podríamos descubrir qué hay en el subdirectorio `data` buscando en `'./data'`."
      ]
    },
    {
      "cell_type": "code",
      "execution_count": null,
      "metadata": {
        "id": "x4Y7Niupav2X",
        "outputId": "3b8bac0c-6ec8-49a8-8f47-dedfd1221b54",
        "colab": {
          "base_uri": "https://localhost:8080/"
        }
      },
      "outputs": [
        {
          "output_type": "execute_result",
          "data": {
            "text/plain": [
              "['csv_sample.txt.4',\n",
              " 'csv_sample.txt',\n",
              " 'factbook.csv',\n",
              " 'sample.txt.4',\n",
              " 'my_data.txt',\n",
              " 'pd_write.csv',\n",
              " 'sample.txt',\n",
              " 'csv_sample.txt.2',\n",
              " 'sample.txt.2',\n",
              " 'sample.txt.3',\n",
              " 'csv_sample.txt.3',\n",
              " 'csv_sample.txt.1',\n",
              " 'sample.txt.1',\n",
              " 'fail.txt',\n",
              " 'bad_csv.csv']"
            ]
          },
          "metadata": {},
          "execution_count": 30
        }
      ],
      "source": [
        "os.listdir('./data')"
      ]
    },
    {
      "cell_type": "markdown",
      "metadata": {
        "id": "DGYSf2aLav2X"
      },
      "source": [
        "¿Qué pasaría si quisiéramos encontrar todos los archivos y subdirectorios debajo de un directorio en algún lugar de nuestra computadora? Con `listdir` solo vemos los archivos y subdirectorios bajo el directorio particular que estamos buscando. No podemos usar `listdir` para buscar automáticamente en subdirectorios. Para esto necesitamos usar `walk`, que \"recorre\" todos los subdirectorios debajo de nuestro directorio elegido. No cubriremos `walk` en este curso, pero es una de las herramientas muy útiles (junto con el submódulo `os.path`) para trabajar con archivos en Python, especialmente si está trabajando con muchos archivos de datos diferentes. inmediatamente."
      ]
    },
    {
      "cell_type": "markdown",
      "metadata": {
        "id": "996my40Qav2X"
      },
      "source": [
        "## Archivos CSV\n",
        "\n",
        "Uno de los formatos más simples y comunes para guardar datos es el de valores separados por comas (CSV)."
      ]
    },
    {
      "cell_type": "code",
      "execution_count": null,
      "metadata": {
        "id": "0mTpYzuuav2X",
        "outputId": "6ec55b63-f8f7-484b-a54c-74abbbe52965",
        "colab": {
          "base_uri": "https://localhost:8080/"
        }
      },
      "outputs": [
        {
          "output_type": "stream",
          "name": "stdout",
          "text": [
            "index,name,age\n",
            "0,Dylan,27\n",
            "1,Terrence,54\n",
            "2,Mya,31\n"
          ]
        }
      ],
      "source": [
        "with open('./data/csv_sample.txt', 'r') as f:\n",
        "    csv = f.read()\n",
        "\n",
        "print(csv)"
      ]
    },
    {
      "cell_type": "markdown",
      "metadata": {
        "id": "DoxpzFNZav2X"
      },
      "source": [
        "Este formato se utiliza a menudo para representar tablas de datos. Por lo general, un CSV tendrá filas (separadas por caracteres de nueva línea, `'\\n'`) y columnas (separadas por comas). Por lo demás, no se diferencian de cualquier otro archivo de texto. Podemos usar el formato especial de un CSV para crear una lista de listas que representen la tabla."
      ]
    },
    {
      "cell_type": "code",
      "execution_count": null,
      "metadata": {
        "id": "HhRf-qAlav2X",
        "outputId": "dcafcc91-aad8-412b-bd9a-189d285f9168",
        "colab": {
          "base_uri": "https://localhost:8080/"
        }
      },
      "outputs": [
        {
          "output_type": "execute_result",
          "data": {
            "text/plain": [
              "[['index', 'name', 'age'],\n",
              " ['0', 'Dylan', '27'],\n",
              " ['1', 'Terrence', '54'],\n",
              " ['2', 'Mya', '31']]"
            ]
          },
          "metadata": {},
          "execution_count": 32
        }
      ],
      "source": [
        "list_table = []\n",
        "with open('./data/csv_sample.txt', 'r') as f:\n",
        "    for line in f.readlines():\n",
        "        list_table.append(line.strip().split(','))\n",
        "\n",
        "list_table"
      ]
    },
    {
      "cell_type": "markdown",
      "metadata": {
        "id": "K0z0LyiAav2Y"
      },
      "source": [
        "Sin embargo, podemos trabajar con datos tabulares mucho más fácilmente en un Pandas DataFrame. Pandas proporciona un método `read_csv` para leer los datos directamente en un DataFrame."
      ]
    },
    {
      "cell_type": "code",
      "execution_count": null,
      "metadata": {
        "id": "tYHLK39Yav2Y",
        "outputId": "6f7cde68-a061-4aed-fb09-49d032be65c3",
        "colab": {
          "base_uri": "https://localhost:8080/",
          "height": 175
        }
      },
      "outputs": [
        {
          "output_type": "execute_result",
          "data": {
            "text/plain": [
              "           name  age\n",
              "index               \n",
              "0         Dylan   27\n",
              "1      Terrence   54\n",
              "2           Mya   31"
            ],
            "text/html": [
              "\n",
              "  <div id=\"df-903c1732-3e26-42f5-b6ad-9df385e77a32\" class=\"colab-df-container\">\n",
              "    <div>\n",
              "<style scoped>\n",
              "    .dataframe tbody tr th:only-of-type {\n",
              "        vertical-align: middle;\n",
              "    }\n",
              "\n",
              "    .dataframe tbody tr th {\n",
              "        vertical-align: top;\n",
              "    }\n",
              "\n",
              "    .dataframe thead th {\n",
              "        text-align: right;\n",
              "    }\n",
              "</style>\n",
              "<table border=\"1\" class=\"dataframe\">\n",
              "  <thead>\n",
              "    <tr style=\"text-align: right;\">\n",
              "      <th></th>\n",
              "      <th>name</th>\n",
              "      <th>age</th>\n",
              "    </tr>\n",
              "    <tr>\n",
              "      <th>index</th>\n",
              "      <th></th>\n",
              "      <th></th>\n",
              "    </tr>\n",
              "  </thead>\n",
              "  <tbody>\n",
              "    <tr>\n",
              "      <th>0</th>\n",
              "      <td>Dylan</td>\n",
              "      <td>27</td>\n",
              "    </tr>\n",
              "    <tr>\n",
              "      <th>1</th>\n",
              "      <td>Terrence</td>\n",
              "      <td>54</td>\n",
              "    </tr>\n",
              "    <tr>\n",
              "      <th>2</th>\n",
              "      <td>Mya</td>\n",
              "      <td>31</td>\n",
              "    </tr>\n",
              "  </tbody>\n",
              "</table>\n",
              "</div>\n",
              "    <div class=\"colab-df-buttons\">\n",
              "\n",
              "  <div class=\"colab-df-container\">\n",
              "    <button class=\"colab-df-convert\" onclick=\"convertToInteractive('df-903c1732-3e26-42f5-b6ad-9df385e77a32')\"\n",
              "            title=\"Convert this dataframe to an interactive table.\"\n",
              "            style=\"display:none;\">\n",
              "\n",
              "  <svg xmlns=\"http://www.w3.org/2000/svg\" height=\"24px\" viewBox=\"0 -960 960 960\">\n",
              "    <path d=\"M120-120v-720h720v720H120Zm60-500h600v-160H180v160Zm220 220h160v-160H400v160Zm0 220h160v-160H400v160ZM180-400h160v-160H180v160Zm440 0h160v-160H620v160ZM180-180h160v-160H180v160Zm440 0h160v-160H620v160Z\"/>\n",
              "  </svg>\n",
              "    </button>\n",
              "\n",
              "  <style>\n",
              "    .colab-df-container {\n",
              "      display:flex;\n",
              "      gap: 12px;\n",
              "    }\n",
              "\n",
              "    .colab-df-convert {\n",
              "      background-color: #E8F0FE;\n",
              "      border: none;\n",
              "      border-radius: 50%;\n",
              "      cursor: pointer;\n",
              "      display: none;\n",
              "      fill: #1967D2;\n",
              "      height: 32px;\n",
              "      padding: 0 0 0 0;\n",
              "      width: 32px;\n",
              "    }\n",
              "\n",
              "    .colab-df-convert:hover {\n",
              "      background-color: #E2EBFA;\n",
              "      box-shadow: 0px 1px 2px rgba(60, 64, 67, 0.3), 0px 1px 3px 1px rgba(60, 64, 67, 0.15);\n",
              "      fill: #174EA6;\n",
              "    }\n",
              "\n",
              "    .colab-df-buttons div {\n",
              "      margin-bottom: 4px;\n",
              "    }\n",
              "\n",
              "    [theme=dark] .colab-df-convert {\n",
              "      background-color: #3B4455;\n",
              "      fill: #D2E3FC;\n",
              "    }\n",
              "\n",
              "    [theme=dark] .colab-df-convert:hover {\n",
              "      background-color: #434B5C;\n",
              "      box-shadow: 0px 1px 3px 1px rgba(0, 0, 0, 0.15);\n",
              "      filter: drop-shadow(0px 1px 2px rgba(0, 0, 0, 0.3));\n",
              "      fill: #FFFFFF;\n",
              "    }\n",
              "  </style>\n",
              "\n",
              "    <script>\n",
              "      const buttonEl =\n",
              "        document.querySelector('#df-903c1732-3e26-42f5-b6ad-9df385e77a32 button.colab-df-convert');\n",
              "      buttonEl.style.display =\n",
              "        google.colab.kernel.accessAllowed ? 'block' : 'none';\n",
              "\n",
              "      async function convertToInteractive(key) {\n",
              "        const element = document.querySelector('#df-903c1732-3e26-42f5-b6ad-9df385e77a32');\n",
              "        const dataTable =\n",
              "          await google.colab.kernel.invokeFunction('convertToInteractive',\n",
              "                                                    [key], {});\n",
              "        if (!dataTable) return;\n",
              "\n",
              "        const docLinkHtml = 'Like what you see? Visit the ' +\n",
              "          '<a target=\"_blank\" href=https://colab.research.google.com/notebooks/data_table.ipynb>data table notebook</a>'\n",
              "          + ' to learn more about interactive tables.';\n",
              "        element.innerHTML = '';\n",
              "        dataTable['output_type'] = 'display_data';\n",
              "        await google.colab.output.renderOutput(dataTable, element);\n",
              "        const docLink = document.createElement('div');\n",
              "        docLink.innerHTML = docLinkHtml;\n",
              "        element.appendChild(docLink);\n",
              "      }\n",
              "    </script>\n",
              "  </div>\n",
              "\n",
              "\n",
              "<div id=\"df-db168d9a-f27c-4c46-8330-6387e3dd9eb6\">\n",
              "  <button class=\"colab-df-quickchart\" onclick=\"quickchart('df-db168d9a-f27c-4c46-8330-6387e3dd9eb6')\"\n",
              "            title=\"Suggest charts\"\n",
              "            style=\"display:none;\">\n",
              "\n",
              "<svg xmlns=\"http://www.w3.org/2000/svg\" height=\"24px\"viewBox=\"0 0 24 24\"\n",
              "     width=\"24px\">\n",
              "    <g>\n",
              "        <path d=\"M19 3H5c-1.1 0-2 .9-2 2v14c0 1.1.9 2 2 2h14c1.1 0 2-.9 2-2V5c0-1.1-.9-2-2-2zM9 17H7v-7h2v7zm4 0h-2V7h2v10zm4 0h-2v-4h2v4z\"/>\n",
              "    </g>\n",
              "</svg>\n",
              "  </button>\n",
              "\n",
              "<style>\n",
              "  .colab-df-quickchart {\n",
              "      --bg-color: #E8F0FE;\n",
              "      --fill-color: #1967D2;\n",
              "      --hover-bg-color: #E2EBFA;\n",
              "      --hover-fill-color: #174EA6;\n",
              "      --disabled-fill-color: #AAA;\n",
              "      --disabled-bg-color: #DDD;\n",
              "  }\n",
              "\n",
              "  [theme=dark] .colab-df-quickchart {\n",
              "      --bg-color: #3B4455;\n",
              "      --fill-color: #D2E3FC;\n",
              "      --hover-bg-color: #434B5C;\n",
              "      --hover-fill-color: #FFFFFF;\n",
              "      --disabled-bg-color: #3B4455;\n",
              "      --disabled-fill-color: #666;\n",
              "  }\n",
              "\n",
              "  .colab-df-quickchart {\n",
              "    background-color: var(--bg-color);\n",
              "    border: none;\n",
              "    border-radius: 50%;\n",
              "    cursor: pointer;\n",
              "    display: none;\n",
              "    fill: var(--fill-color);\n",
              "    height: 32px;\n",
              "    padding: 0;\n",
              "    width: 32px;\n",
              "  }\n",
              "\n",
              "  .colab-df-quickchart:hover {\n",
              "    background-color: var(--hover-bg-color);\n",
              "    box-shadow: 0 1px 2px rgba(60, 64, 67, 0.3), 0 1px 3px 1px rgba(60, 64, 67, 0.15);\n",
              "    fill: var(--button-hover-fill-color);\n",
              "  }\n",
              "\n",
              "  .colab-df-quickchart-complete:disabled,\n",
              "  .colab-df-quickchart-complete:disabled:hover {\n",
              "    background-color: var(--disabled-bg-color);\n",
              "    fill: var(--disabled-fill-color);\n",
              "    box-shadow: none;\n",
              "  }\n",
              "\n",
              "  .colab-df-spinner {\n",
              "    border: 2px solid var(--fill-color);\n",
              "    border-color: transparent;\n",
              "    border-bottom-color: var(--fill-color);\n",
              "    animation:\n",
              "      spin 1s steps(1) infinite;\n",
              "  }\n",
              "\n",
              "  @keyframes spin {\n",
              "    0% {\n",
              "      border-color: transparent;\n",
              "      border-bottom-color: var(--fill-color);\n",
              "      border-left-color: var(--fill-color);\n",
              "    }\n",
              "    20% {\n",
              "      border-color: transparent;\n",
              "      border-left-color: var(--fill-color);\n",
              "      border-top-color: var(--fill-color);\n",
              "    }\n",
              "    30% {\n",
              "      border-color: transparent;\n",
              "      border-left-color: var(--fill-color);\n",
              "      border-top-color: var(--fill-color);\n",
              "      border-right-color: var(--fill-color);\n",
              "    }\n",
              "    40% {\n",
              "      border-color: transparent;\n",
              "      border-right-color: var(--fill-color);\n",
              "      border-top-color: var(--fill-color);\n",
              "    }\n",
              "    60% {\n",
              "      border-color: transparent;\n",
              "      border-right-color: var(--fill-color);\n",
              "    }\n",
              "    80% {\n",
              "      border-color: transparent;\n",
              "      border-right-color: var(--fill-color);\n",
              "      border-bottom-color: var(--fill-color);\n",
              "    }\n",
              "    90% {\n",
              "      border-color: transparent;\n",
              "      border-bottom-color: var(--fill-color);\n",
              "    }\n",
              "  }\n",
              "</style>\n",
              "\n",
              "  <script>\n",
              "    async function quickchart(key) {\n",
              "      const quickchartButtonEl =\n",
              "        document.querySelector('#' + key + ' button');\n",
              "      quickchartButtonEl.disabled = true;  // To prevent multiple clicks.\n",
              "      quickchartButtonEl.classList.add('colab-df-spinner');\n",
              "      try {\n",
              "        const charts = await google.colab.kernel.invokeFunction(\n",
              "            'suggestCharts', [key], {});\n",
              "      } catch (error) {\n",
              "        console.error('Error during call to suggestCharts:', error);\n",
              "      }\n",
              "      quickchartButtonEl.classList.remove('colab-df-spinner');\n",
              "      quickchartButtonEl.classList.add('colab-df-quickchart-complete');\n",
              "    }\n",
              "    (() => {\n",
              "      let quickchartButtonEl =\n",
              "        document.querySelector('#df-db168d9a-f27c-4c46-8330-6387e3dd9eb6 button');\n",
              "      quickchartButtonEl.style.display =\n",
              "        google.colab.kernel.accessAllowed ? 'block' : 'none';\n",
              "    })();\n",
              "  </script>\n",
              "</div>\n",
              "\n",
              "  <div id=\"id_b3abcb41-5238-4d69-bc28-fd181bd1f6c4\">\n",
              "    <style>\n",
              "      .colab-df-generate {\n",
              "        background-color: #E8F0FE;\n",
              "        border: none;\n",
              "        border-radius: 50%;\n",
              "        cursor: pointer;\n",
              "        display: none;\n",
              "        fill: #1967D2;\n",
              "        height: 32px;\n",
              "        padding: 0 0 0 0;\n",
              "        width: 32px;\n",
              "      }\n",
              "\n",
              "      .colab-df-generate:hover {\n",
              "        background-color: #E2EBFA;\n",
              "        box-shadow: 0px 1px 2px rgba(60, 64, 67, 0.3), 0px 1px 3px 1px rgba(60, 64, 67, 0.15);\n",
              "        fill: #174EA6;\n",
              "      }\n",
              "\n",
              "      [theme=dark] .colab-df-generate {\n",
              "        background-color: #3B4455;\n",
              "        fill: #D2E3FC;\n",
              "      }\n",
              "\n",
              "      [theme=dark] .colab-df-generate:hover {\n",
              "        background-color: #434B5C;\n",
              "        box-shadow: 0px 1px 3px 1px rgba(0, 0, 0, 0.15);\n",
              "        filter: drop-shadow(0px 1px 2px rgba(0, 0, 0, 0.3));\n",
              "        fill: #FFFFFF;\n",
              "      }\n",
              "    </style>\n",
              "    <button class=\"colab-df-generate\" onclick=\"generateWithVariable('df')\"\n",
              "            title=\"Generate code using this dataframe.\"\n",
              "            style=\"display:none;\">\n",
              "\n",
              "  <svg xmlns=\"http://www.w3.org/2000/svg\" height=\"24px\"viewBox=\"0 0 24 24\"\n",
              "       width=\"24px\">\n",
              "    <path d=\"M7,19H8.4L18.45,9,17,7.55,7,17.6ZM5,21V16.75L18.45,3.32a2,2,0,0,1,2.83,0l1.4,1.43a1.91,1.91,0,0,1,.58,1.4,1.91,1.91,0,0,1-.58,1.4L9.25,21ZM18.45,9,17,7.55Zm-12,3A5.31,5.31,0,0,0,4.9,8.1,5.31,5.31,0,0,0,1,6.5,5.31,5.31,0,0,0,4.9,4.9,5.31,5.31,0,0,0,6.5,1,5.31,5.31,0,0,0,8.1,4.9,5.31,5.31,0,0,0,12,6.5,5.46,5.46,0,0,0,6.5,12Z\"/>\n",
              "  </svg>\n",
              "    </button>\n",
              "    <script>\n",
              "      (() => {\n",
              "      const buttonEl =\n",
              "        document.querySelector('#id_b3abcb41-5238-4d69-bc28-fd181bd1f6c4 button.colab-df-generate');\n",
              "      buttonEl.style.display =\n",
              "        google.colab.kernel.accessAllowed ? 'block' : 'none';\n",
              "\n",
              "      buttonEl.onclick = () => {\n",
              "        google.colab.notebook.generateWithVariable('df');\n",
              "      }\n",
              "      })();\n",
              "    </script>\n",
              "  </div>\n",
              "\n",
              "    </div>\n",
              "  </div>\n"
            ],
            "application/vnd.google.colaboratory.intrinsic+json": {
              "type": "dataframe",
              "variable_name": "df",
              "summary": "{\n  \"name\": \"df\",\n  \"rows\": 3,\n  \"fields\": [\n    {\n      \"column\": \"index\",\n      \"properties\": {\n        \"dtype\": \"number\",\n        \"std\": 1,\n        \"min\": 0,\n        \"max\": 2,\n        \"num_unique_values\": 3,\n        \"samples\": [\n          0,\n          1,\n          2\n        ],\n        \"semantic_type\": \"\",\n        \"description\": \"\"\n      }\n    },\n    {\n      \"column\": \"name\",\n      \"properties\": {\n        \"dtype\": \"string\",\n        \"num_unique_values\": 3,\n        \"samples\": [\n          \"Dylan\",\n          \"Terrence\",\n          \"Mya\"\n        ],\n        \"semantic_type\": \"\",\n        \"description\": \"\"\n      }\n    },\n    {\n      \"column\": \"age\",\n      \"properties\": {\n        \"dtype\": \"number\",\n        \"std\": 14,\n        \"min\": 27,\n        \"max\": 54,\n        \"num_unique_values\": 3,\n        \"samples\": [\n          27,\n          54,\n          31\n        ],\n        \"semantic_type\": \"\",\n        \"description\": \"\"\n      }\n    }\n  ]\n}"
            }
          },
          "metadata": {},
          "execution_count": 33
        }
      ],
      "source": [
        "import pandas as pd\n",
        "\n",
        "df = pd.read_csv('./data/csv_sample.txt', index_col=0)\n",
        "df"
      ]
    },
    {
      "cell_type": "markdown",
      "metadata": {
        "id": "1SMUDxfbav2Y"
      },
      "source": [
        "El método `read_csv` es muy flexible para manejar el formato de diferentes conjuntos de datos. Algunos conjuntos de datos incluirán encabezados de columna, mientras que otros no. Algunos conjuntos de datos incluirán un índice, mientras que otros no. Algunos conjuntos de datos pueden tener valores separados por tabulaciones, punto y coma u otros caracteres en lugar de comas. Hay opciones en el método `read_csv` para tratar con todos estos. Puede leer sobre ellos en la [documentación de Pandas en `read_csv`](https://pandas.pydata.org/pandas-docs/stable/generated/pandas.read_csv.html). También lo analizaremos más a fondo en el [Cuaderno de Pandas](08_Pandas.ipynb)."
      ]
    },
    {
      "cell_type": "code",
      "execution_count": null,
      "metadata": {
        "id": "dwOVLsNUav2Y",
        "outputId": "dd4d09a7-97da-4f35-d611-7217c30b42d9",
        "colab": {
          "base_uri": "https://localhost:8080/",
          "height": 325
        }
      },
      "outputs": [
        {
          "output_type": "execute_result",
          "data": {
            "text/plain": [
              "          Country  Area(sq km)  Birth rate(births/1000 population)  \\\n",
              "0     Afghanistan       647500                               47.02   \n",
              "1        Akrotiri          123                                 NaN   \n",
              "2         Albania        28748                               15.08   \n",
              "3         Algeria      2381740                               17.13   \n",
              "4  American Samoa          199                               23.13   \n",
              "\n",
              "   Current account balance  Death rate(deaths/1000 population)  \\\n",
              "0                      NaN                               20.75   \n",
              "1                      NaN                                 NaN   \n",
              "2            -5.040000e+08                                5.12   \n",
              "3             1.190000e+10                                4.60   \n",
              "4                      NaN                                3.33   \n",
              "\n",
              "   Debt - external  Electricity - consumption(kWh)  \\\n",
              "0     8.000000e+09                    6.522000e+08   \n",
              "1              NaN                             NaN   \n",
              "2     1.410000e+09                    6.760000e+09   \n",
              "3     2.190000e+10                    2.361000e+10   \n",
              "4              NaN                    1.209000e+08   \n",
              "\n",
              "   Electricity - production(kWh)       Exports           GDP  ...  \\\n",
              "0                   5.400000e+08  4.460000e+08  2.150000e+10  ...   \n",
              "1                            NaN           NaN           NaN  ...   \n",
              "2                   5.680000e+09  5.524000e+08  1.746000e+10  ...   \n",
              "3                   2.576000e+10  3.216000e+10  2.123000e+11  ...   \n",
              "4                   1.300000e+08  3.000000e+07  5.000000e+08  ...   \n",
              "\n",
              "   Oil - production(bbl/day)  Oil - proved reserves(bbl)  Population  \\\n",
              "0                        0.0                0.000000e+00  29928987.0   \n",
              "1                        NaN                         NaN         NaN   \n",
              "2                     2000.0                1.855000e+08   3563112.0   \n",
              "3                  1200000.0                1.187000e+10  32531853.0   \n",
              "4                        0.0                         NaN     57881.0   \n",
              "\n",
              "   Public debt(% of GDP)  Railways(km)  Reserves of foreign exchange & gold  \\\n",
              "0                    NaN           NaN                                  NaN   \n",
              "1                    NaN           NaN                                  NaN   \n",
              "2                    NaN         447.0                         1.206000e+09   \n",
              "3                   37.4        3973.0                         4.355000e+10   \n",
              "4                    NaN           NaN                                  NaN   \n",
              "\n",
              "   Telephones - main lines in use  Telephones - mobile cellular  \\\n",
              "0                         33100.0                       15000.0   \n",
              "1                             NaN                           NaN   \n",
              "2                        255000.0                     1100000.0   \n",
              "3                       2199600.0                     1447310.0   \n",
              "4                         15000.0                        2377.0   \n",
              "\n",
              "   Total fertility rate(children born/woman)  Unemployment rate(%)  \n",
              "0                                       6.75                   NaN  \n",
              "1                                        NaN                   NaN  \n",
              "2                                       2.04                  14.8  \n",
              "3                                       1.92                  25.4  \n",
              "4                                       3.25                   6.0  \n",
              "\n",
              "[5 rows x 45 columns]"
            ],
            "text/html": [
              "\n",
              "  <div id=\"df-1fb286ac-7fc1-4a55-b57a-3ea09ac9de93\" class=\"colab-df-container\">\n",
              "    <div>\n",
              "<style scoped>\n",
              "    .dataframe tbody tr th:only-of-type {\n",
              "        vertical-align: middle;\n",
              "    }\n",
              "\n",
              "    .dataframe tbody tr th {\n",
              "        vertical-align: top;\n",
              "    }\n",
              "\n",
              "    .dataframe thead th {\n",
              "        text-align: right;\n",
              "    }\n",
              "</style>\n",
              "<table border=\"1\" class=\"dataframe\">\n",
              "  <thead>\n",
              "    <tr style=\"text-align: right;\">\n",
              "      <th></th>\n",
              "      <th>Country</th>\n",
              "      <th>Area(sq km)</th>\n",
              "      <th>Birth rate(births/1000 population)</th>\n",
              "      <th>Current account balance</th>\n",
              "      <th>Death rate(deaths/1000 population)</th>\n",
              "      <th>Debt - external</th>\n",
              "      <th>Electricity - consumption(kWh)</th>\n",
              "      <th>Electricity - production(kWh)</th>\n",
              "      <th>Exports</th>\n",
              "      <th>GDP</th>\n",
              "      <th>...</th>\n",
              "      <th>Oil - production(bbl/day)</th>\n",
              "      <th>Oil - proved reserves(bbl)</th>\n",
              "      <th>Population</th>\n",
              "      <th>Public debt(% of GDP)</th>\n",
              "      <th>Railways(km)</th>\n",
              "      <th>Reserves of foreign exchange &amp; gold</th>\n",
              "      <th>Telephones - main lines in use</th>\n",
              "      <th>Telephones - mobile cellular</th>\n",
              "      <th>Total fertility rate(children born/woman)</th>\n",
              "      <th>Unemployment rate(%)</th>\n",
              "    </tr>\n",
              "  </thead>\n",
              "  <tbody>\n",
              "    <tr>\n",
              "      <th>0</th>\n",
              "      <td>Afghanistan</td>\n",
              "      <td>647500</td>\n",
              "      <td>47.02</td>\n",
              "      <td>NaN</td>\n",
              "      <td>20.75</td>\n",
              "      <td>8.000000e+09</td>\n",
              "      <td>6.522000e+08</td>\n",
              "      <td>5.400000e+08</td>\n",
              "      <td>4.460000e+08</td>\n",
              "      <td>2.150000e+10</td>\n",
              "      <td>...</td>\n",
              "      <td>0.0</td>\n",
              "      <td>0.000000e+00</td>\n",
              "      <td>29928987.0</td>\n",
              "      <td>NaN</td>\n",
              "      <td>NaN</td>\n",
              "      <td>NaN</td>\n",
              "      <td>33100.0</td>\n",
              "      <td>15000.0</td>\n",
              "      <td>6.75</td>\n",
              "      <td>NaN</td>\n",
              "    </tr>\n",
              "    <tr>\n",
              "      <th>1</th>\n",
              "      <td>Akrotiri</td>\n",
              "      <td>123</td>\n",
              "      <td>NaN</td>\n",
              "      <td>NaN</td>\n",
              "      <td>NaN</td>\n",
              "      <td>NaN</td>\n",
              "      <td>NaN</td>\n",
              "      <td>NaN</td>\n",
              "      <td>NaN</td>\n",
              "      <td>NaN</td>\n",
              "      <td>...</td>\n",
              "      <td>NaN</td>\n",
              "      <td>NaN</td>\n",
              "      <td>NaN</td>\n",
              "      <td>NaN</td>\n",
              "      <td>NaN</td>\n",
              "      <td>NaN</td>\n",
              "      <td>NaN</td>\n",
              "      <td>NaN</td>\n",
              "      <td>NaN</td>\n",
              "      <td>NaN</td>\n",
              "    </tr>\n",
              "    <tr>\n",
              "      <th>2</th>\n",
              "      <td>Albania</td>\n",
              "      <td>28748</td>\n",
              "      <td>15.08</td>\n",
              "      <td>-5.040000e+08</td>\n",
              "      <td>5.12</td>\n",
              "      <td>1.410000e+09</td>\n",
              "      <td>6.760000e+09</td>\n",
              "      <td>5.680000e+09</td>\n",
              "      <td>5.524000e+08</td>\n",
              "      <td>1.746000e+10</td>\n",
              "      <td>...</td>\n",
              "      <td>2000.0</td>\n",
              "      <td>1.855000e+08</td>\n",
              "      <td>3563112.0</td>\n",
              "      <td>NaN</td>\n",
              "      <td>447.0</td>\n",
              "      <td>1.206000e+09</td>\n",
              "      <td>255000.0</td>\n",
              "      <td>1100000.0</td>\n",
              "      <td>2.04</td>\n",
              "      <td>14.8</td>\n",
              "    </tr>\n",
              "    <tr>\n",
              "      <th>3</th>\n",
              "      <td>Algeria</td>\n",
              "      <td>2381740</td>\n",
              "      <td>17.13</td>\n",
              "      <td>1.190000e+10</td>\n",
              "      <td>4.60</td>\n",
              "      <td>2.190000e+10</td>\n",
              "      <td>2.361000e+10</td>\n",
              "      <td>2.576000e+10</td>\n",
              "      <td>3.216000e+10</td>\n",
              "      <td>2.123000e+11</td>\n",
              "      <td>...</td>\n",
              "      <td>1200000.0</td>\n",
              "      <td>1.187000e+10</td>\n",
              "      <td>32531853.0</td>\n",
              "      <td>37.4</td>\n",
              "      <td>3973.0</td>\n",
              "      <td>4.355000e+10</td>\n",
              "      <td>2199600.0</td>\n",
              "      <td>1447310.0</td>\n",
              "      <td>1.92</td>\n",
              "      <td>25.4</td>\n",
              "    </tr>\n",
              "    <tr>\n",
              "      <th>4</th>\n",
              "      <td>American Samoa</td>\n",
              "      <td>199</td>\n",
              "      <td>23.13</td>\n",
              "      <td>NaN</td>\n",
              "      <td>3.33</td>\n",
              "      <td>NaN</td>\n",
              "      <td>1.209000e+08</td>\n",
              "      <td>1.300000e+08</td>\n",
              "      <td>3.000000e+07</td>\n",
              "      <td>5.000000e+08</td>\n",
              "      <td>...</td>\n",
              "      <td>0.0</td>\n",
              "      <td>NaN</td>\n",
              "      <td>57881.0</td>\n",
              "      <td>NaN</td>\n",
              "      <td>NaN</td>\n",
              "      <td>NaN</td>\n",
              "      <td>15000.0</td>\n",
              "      <td>2377.0</td>\n",
              "      <td>3.25</td>\n",
              "      <td>6.0</td>\n",
              "    </tr>\n",
              "  </tbody>\n",
              "</table>\n",
              "<p>5 rows × 45 columns</p>\n",
              "</div>\n",
              "    <div class=\"colab-df-buttons\">\n",
              "\n",
              "  <div class=\"colab-df-container\">\n",
              "    <button class=\"colab-df-convert\" onclick=\"convertToInteractive('df-1fb286ac-7fc1-4a55-b57a-3ea09ac9de93')\"\n",
              "            title=\"Convert this dataframe to an interactive table.\"\n",
              "            style=\"display:none;\">\n",
              "\n",
              "  <svg xmlns=\"http://www.w3.org/2000/svg\" height=\"24px\" viewBox=\"0 -960 960 960\">\n",
              "    <path d=\"M120-120v-720h720v720H120Zm60-500h600v-160H180v160Zm220 220h160v-160H400v160Zm0 220h160v-160H400v160ZM180-400h160v-160H180v160Zm440 0h160v-160H620v160ZM180-180h160v-160H180v160Zm440 0h160v-160H620v160Z\"/>\n",
              "  </svg>\n",
              "    </button>\n",
              "\n",
              "  <style>\n",
              "    .colab-df-container {\n",
              "      display:flex;\n",
              "      gap: 12px;\n",
              "    }\n",
              "\n",
              "    .colab-df-convert {\n",
              "      background-color: #E8F0FE;\n",
              "      border: none;\n",
              "      border-radius: 50%;\n",
              "      cursor: pointer;\n",
              "      display: none;\n",
              "      fill: #1967D2;\n",
              "      height: 32px;\n",
              "      padding: 0 0 0 0;\n",
              "      width: 32px;\n",
              "    }\n",
              "\n",
              "    .colab-df-convert:hover {\n",
              "      background-color: #E2EBFA;\n",
              "      box-shadow: 0px 1px 2px rgba(60, 64, 67, 0.3), 0px 1px 3px 1px rgba(60, 64, 67, 0.15);\n",
              "      fill: #174EA6;\n",
              "    }\n",
              "\n",
              "    .colab-df-buttons div {\n",
              "      margin-bottom: 4px;\n",
              "    }\n",
              "\n",
              "    [theme=dark] .colab-df-convert {\n",
              "      background-color: #3B4455;\n",
              "      fill: #D2E3FC;\n",
              "    }\n",
              "\n",
              "    [theme=dark] .colab-df-convert:hover {\n",
              "      background-color: #434B5C;\n",
              "      box-shadow: 0px 1px 3px 1px rgba(0, 0, 0, 0.15);\n",
              "      filter: drop-shadow(0px 1px 2px rgba(0, 0, 0, 0.3));\n",
              "      fill: #FFFFFF;\n",
              "    }\n",
              "  </style>\n",
              "\n",
              "    <script>\n",
              "      const buttonEl =\n",
              "        document.querySelector('#df-1fb286ac-7fc1-4a55-b57a-3ea09ac9de93 button.colab-df-convert');\n",
              "      buttonEl.style.display =\n",
              "        google.colab.kernel.accessAllowed ? 'block' : 'none';\n",
              "\n",
              "      async function convertToInteractive(key) {\n",
              "        const element = document.querySelector('#df-1fb286ac-7fc1-4a55-b57a-3ea09ac9de93');\n",
              "        const dataTable =\n",
              "          await google.colab.kernel.invokeFunction('convertToInteractive',\n",
              "                                                    [key], {});\n",
              "        if (!dataTable) return;\n",
              "\n",
              "        const docLinkHtml = 'Like what you see? Visit the ' +\n",
              "          '<a target=\"_blank\" href=https://colab.research.google.com/notebooks/data_table.ipynb>data table notebook</a>'\n",
              "          + ' to learn more about interactive tables.';\n",
              "        element.innerHTML = '';\n",
              "        dataTable['output_type'] = 'display_data';\n",
              "        await google.colab.output.renderOutput(dataTable, element);\n",
              "        const docLink = document.createElement('div');\n",
              "        docLink.innerHTML = docLinkHtml;\n",
              "        element.appendChild(docLink);\n",
              "      }\n",
              "    </script>\n",
              "  </div>\n",
              "\n",
              "\n",
              "<div id=\"df-168048cf-9d39-43ac-816b-eb2712f58ee3\">\n",
              "  <button class=\"colab-df-quickchart\" onclick=\"quickchart('df-168048cf-9d39-43ac-816b-eb2712f58ee3')\"\n",
              "            title=\"Suggest charts\"\n",
              "            style=\"display:none;\">\n",
              "\n",
              "<svg xmlns=\"http://www.w3.org/2000/svg\" height=\"24px\"viewBox=\"0 0 24 24\"\n",
              "     width=\"24px\">\n",
              "    <g>\n",
              "        <path d=\"M19 3H5c-1.1 0-2 .9-2 2v14c0 1.1.9 2 2 2h14c1.1 0 2-.9 2-2V5c0-1.1-.9-2-2-2zM9 17H7v-7h2v7zm4 0h-2V7h2v10zm4 0h-2v-4h2v4z\"/>\n",
              "    </g>\n",
              "</svg>\n",
              "  </button>\n",
              "\n",
              "<style>\n",
              "  .colab-df-quickchart {\n",
              "      --bg-color: #E8F0FE;\n",
              "      --fill-color: #1967D2;\n",
              "      --hover-bg-color: #E2EBFA;\n",
              "      --hover-fill-color: #174EA6;\n",
              "      --disabled-fill-color: #AAA;\n",
              "      --disabled-bg-color: #DDD;\n",
              "  }\n",
              "\n",
              "  [theme=dark] .colab-df-quickchart {\n",
              "      --bg-color: #3B4455;\n",
              "      --fill-color: #D2E3FC;\n",
              "      --hover-bg-color: #434B5C;\n",
              "      --hover-fill-color: #FFFFFF;\n",
              "      --disabled-bg-color: #3B4455;\n",
              "      --disabled-fill-color: #666;\n",
              "  }\n",
              "\n",
              "  .colab-df-quickchart {\n",
              "    background-color: var(--bg-color);\n",
              "    border: none;\n",
              "    border-radius: 50%;\n",
              "    cursor: pointer;\n",
              "    display: none;\n",
              "    fill: var(--fill-color);\n",
              "    height: 32px;\n",
              "    padding: 0;\n",
              "    width: 32px;\n",
              "  }\n",
              "\n",
              "  .colab-df-quickchart:hover {\n",
              "    background-color: var(--hover-bg-color);\n",
              "    box-shadow: 0 1px 2px rgba(60, 64, 67, 0.3), 0 1px 3px 1px rgba(60, 64, 67, 0.15);\n",
              "    fill: var(--button-hover-fill-color);\n",
              "  }\n",
              "\n",
              "  .colab-df-quickchart-complete:disabled,\n",
              "  .colab-df-quickchart-complete:disabled:hover {\n",
              "    background-color: var(--disabled-bg-color);\n",
              "    fill: var(--disabled-fill-color);\n",
              "    box-shadow: none;\n",
              "  }\n",
              "\n",
              "  .colab-df-spinner {\n",
              "    border: 2px solid var(--fill-color);\n",
              "    border-color: transparent;\n",
              "    border-bottom-color: var(--fill-color);\n",
              "    animation:\n",
              "      spin 1s steps(1) infinite;\n",
              "  }\n",
              "\n",
              "  @keyframes spin {\n",
              "    0% {\n",
              "      border-color: transparent;\n",
              "      border-bottom-color: var(--fill-color);\n",
              "      border-left-color: var(--fill-color);\n",
              "    }\n",
              "    20% {\n",
              "      border-color: transparent;\n",
              "      border-left-color: var(--fill-color);\n",
              "      border-top-color: var(--fill-color);\n",
              "    }\n",
              "    30% {\n",
              "      border-color: transparent;\n",
              "      border-left-color: var(--fill-color);\n",
              "      border-top-color: var(--fill-color);\n",
              "      border-right-color: var(--fill-color);\n",
              "    }\n",
              "    40% {\n",
              "      border-color: transparent;\n",
              "      border-right-color: var(--fill-color);\n",
              "      border-top-color: var(--fill-color);\n",
              "    }\n",
              "    60% {\n",
              "      border-color: transparent;\n",
              "      border-right-color: var(--fill-color);\n",
              "    }\n",
              "    80% {\n",
              "      border-color: transparent;\n",
              "      border-right-color: var(--fill-color);\n",
              "      border-bottom-color: var(--fill-color);\n",
              "    }\n",
              "    90% {\n",
              "      border-color: transparent;\n",
              "      border-bottom-color: var(--fill-color);\n",
              "    }\n",
              "  }\n",
              "</style>\n",
              "\n",
              "  <script>\n",
              "    async function quickchart(key) {\n",
              "      const quickchartButtonEl =\n",
              "        document.querySelector('#' + key + ' button');\n",
              "      quickchartButtonEl.disabled = true;  // To prevent multiple clicks.\n",
              "      quickchartButtonEl.classList.add('colab-df-spinner');\n",
              "      try {\n",
              "        const charts = await google.colab.kernel.invokeFunction(\n",
              "            'suggestCharts', [key], {});\n",
              "      } catch (error) {\n",
              "        console.error('Error during call to suggestCharts:', error);\n",
              "      }\n",
              "      quickchartButtonEl.classList.remove('colab-df-spinner');\n",
              "      quickchartButtonEl.classList.add('colab-df-quickchart-complete');\n",
              "    }\n",
              "    (() => {\n",
              "      let quickchartButtonEl =\n",
              "        document.querySelector('#df-168048cf-9d39-43ac-816b-eb2712f58ee3 button');\n",
              "      quickchartButtonEl.style.display =\n",
              "        google.colab.kernel.accessAllowed ? 'block' : 'none';\n",
              "    })();\n",
              "  </script>\n",
              "</div>\n",
              "\n",
              "    </div>\n",
              "  </div>\n"
            ],
            "application/vnd.google.colaboratory.intrinsic+json": {
              "type": "dataframe",
              "variable_name": "countries"
            }
          },
          "metadata": {},
          "execution_count": 34
        }
      ],
      "source": [
        "# an example of downloading\n",
        "# and importing real data using `read_csv`\n",
        "\n",
        "if 'factbook.csv' not in os.listdir('./data/'):\n",
        "    !wget -P ./data/ https://perso.telecom-paristech.fr/eagan/class/igr204/data/factbook.csv\n",
        "\n",
        "countries = pd.read_csv('./data/factbook.csv', delimiter=';', skiprows=[1])\n",
        "countries.head()"
      ]
    },
    {
      "cell_type": "code",
      "execution_count": null,
      "metadata": {
        "id": "T1xun92uav2Y",
        "outputId": "11ab8a18-2e29-4429-9e2b-2fda68fc25e6",
        "colab": {
          "base_uri": "https://localhost:8080/",
          "height": 143
        }
      },
      "outputs": [
        {
          "output_type": "execute_result",
          "data": {
            "text/plain": [
              "    a      b\n",
              "0   0   True\n",
              "1   3   True\n",
              "2  10  False"
            ],
            "text/html": [
              "\n",
              "  <div id=\"df-2e783ea0-060a-44af-b367-f68ffe456982\" class=\"colab-df-container\">\n",
              "    <div>\n",
              "<style scoped>\n",
              "    .dataframe tbody tr th:only-of-type {\n",
              "        vertical-align: middle;\n",
              "    }\n",
              "\n",
              "    .dataframe tbody tr th {\n",
              "        vertical-align: top;\n",
              "    }\n",
              "\n",
              "    .dataframe thead th {\n",
              "        text-align: right;\n",
              "    }\n",
              "</style>\n",
              "<table border=\"1\" class=\"dataframe\">\n",
              "  <thead>\n",
              "    <tr style=\"text-align: right;\">\n",
              "      <th></th>\n",
              "      <th>a</th>\n",
              "      <th>b</th>\n",
              "    </tr>\n",
              "  </thead>\n",
              "  <tbody>\n",
              "    <tr>\n",
              "      <th>0</th>\n",
              "      <td>0</td>\n",
              "      <td>True</td>\n",
              "    </tr>\n",
              "    <tr>\n",
              "      <th>1</th>\n",
              "      <td>3</td>\n",
              "      <td>True</td>\n",
              "    </tr>\n",
              "    <tr>\n",
              "      <th>2</th>\n",
              "      <td>10</td>\n",
              "      <td>False</td>\n",
              "    </tr>\n",
              "  </tbody>\n",
              "</table>\n",
              "</div>\n",
              "    <div class=\"colab-df-buttons\">\n",
              "\n",
              "  <div class=\"colab-df-container\">\n",
              "    <button class=\"colab-df-convert\" onclick=\"convertToInteractive('df-2e783ea0-060a-44af-b367-f68ffe456982')\"\n",
              "            title=\"Convert this dataframe to an interactive table.\"\n",
              "            style=\"display:none;\">\n",
              "\n",
              "  <svg xmlns=\"http://www.w3.org/2000/svg\" height=\"24px\" viewBox=\"0 -960 960 960\">\n",
              "    <path d=\"M120-120v-720h720v720H120Zm60-500h600v-160H180v160Zm220 220h160v-160H400v160Zm0 220h160v-160H400v160ZM180-400h160v-160H180v160Zm440 0h160v-160H620v160ZM180-180h160v-160H180v160Zm440 0h160v-160H620v160Z\"/>\n",
              "  </svg>\n",
              "    </button>\n",
              "\n",
              "  <style>\n",
              "    .colab-df-container {\n",
              "      display:flex;\n",
              "      gap: 12px;\n",
              "    }\n",
              "\n",
              "    .colab-df-convert {\n",
              "      background-color: #E8F0FE;\n",
              "      border: none;\n",
              "      border-radius: 50%;\n",
              "      cursor: pointer;\n",
              "      display: none;\n",
              "      fill: #1967D2;\n",
              "      height: 32px;\n",
              "      padding: 0 0 0 0;\n",
              "      width: 32px;\n",
              "    }\n",
              "\n",
              "    .colab-df-convert:hover {\n",
              "      background-color: #E2EBFA;\n",
              "      box-shadow: 0px 1px 2px rgba(60, 64, 67, 0.3), 0px 1px 3px 1px rgba(60, 64, 67, 0.15);\n",
              "      fill: #174EA6;\n",
              "    }\n",
              "\n",
              "    .colab-df-buttons div {\n",
              "      margin-bottom: 4px;\n",
              "    }\n",
              "\n",
              "    [theme=dark] .colab-df-convert {\n",
              "      background-color: #3B4455;\n",
              "      fill: #D2E3FC;\n",
              "    }\n",
              "\n",
              "    [theme=dark] .colab-df-convert:hover {\n",
              "      background-color: #434B5C;\n",
              "      box-shadow: 0px 1px 3px 1px rgba(0, 0, 0, 0.15);\n",
              "      filter: drop-shadow(0px 1px 2px rgba(0, 0, 0, 0.3));\n",
              "      fill: #FFFFFF;\n",
              "    }\n",
              "  </style>\n",
              "\n",
              "    <script>\n",
              "      const buttonEl =\n",
              "        document.querySelector('#df-2e783ea0-060a-44af-b367-f68ffe456982 button.colab-df-convert');\n",
              "      buttonEl.style.display =\n",
              "        google.colab.kernel.accessAllowed ? 'block' : 'none';\n",
              "\n",
              "      async function convertToInteractive(key) {\n",
              "        const element = document.querySelector('#df-2e783ea0-060a-44af-b367-f68ffe456982');\n",
              "        const dataTable =\n",
              "          await google.colab.kernel.invokeFunction('convertToInteractive',\n",
              "                                                    [key], {});\n",
              "        if (!dataTable) return;\n",
              "\n",
              "        const docLinkHtml = 'Like what you see? Visit the ' +\n",
              "          '<a target=\"_blank\" href=https://colab.research.google.com/notebooks/data_table.ipynb>data table notebook</a>'\n",
              "          + ' to learn more about interactive tables.';\n",
              "        element.innerHTML = '';\n",
              "        dataTable['output_type'] = 'display_data';\n",
              "        await google.colab.output.renderOutput(dataTable, element);\n",
              "        const docLink = document.createElement('div');\n",
              "        docLink.innerHTML = docLinkHtml;\n",
              "        element.appendChild(docLink);\n",
              "      }\n",
              "    </script>\n",
              "  </div>\n",
              "\n",
              "\n",
              "<div id=\"df-29f8b8f9-dc74-4b09-afb7-4a6c5f512db2\">\n",
              "  <button class=\"colab-df-quickchart\" onclick=\"quickchart('df-29f8b8f9-dc74-4b09-afb7-4a6c5f512db2')\"\n",
              "            title=\"Suggest charts\"\n",
              "            style=\"display:none;\">\n",
              "\n",
              "<svg xmlns=\"http://www.w3.org/2000/svg\" height=\"24px\"viewBox=\"0 0 24 24\"\n",
              "     width=\"24px\">\n",
              "    <g>\n",
              "        <path d=\"M19 3H5c-1.1 0-2 .9-2 2v14c0 1.1.9 2 2 2h14c1.1 0 2-.9 2-2V5c0-1.1-.9-2-2-2zM9 17H7v-7h2v7zm4 0h-2V7h2v10zm4 0h-2v-4h2v4z\"/>\n",
              "    </g>\n",
              "</svg>\n",
              "  </button>\n",
              "\n",
              "<style>\n",
              "  .colab-df-quickchart {\n",
              "      --bg-color: #E8F0FE;\n",
              "      --fill-color: #1967D2;\n",
              "      --hover-bg-color: #E2EBFA;\n",
              "      --hover-fill-color: #174EA6;\n",
              "      --disabled-fill-color: #AAA;\n",
              "      --disabled-bg-color: #DDD;\n",
              "  }\n",
              "\n",
              "  [theme=dark] .colab-df-quickchart {\n",
              "      --bg-color: #3B4455;\n",
              "      --fill-color: #D2E3FC;\n",
              "      --hover-bg-color: #434B5C;\n",
              "      --hover-fill-color: #FFFFFF;\n",
              "      --disabled-bg-color: #3B4455;\n",
              "      --disabled-fill-color: #666;\n",
              "  }\n",
              "\n",
              "  .colab-df-quickchart {\n",
              "    background-color: var(--bg-color);\n",
              "    border: none;\n",
              "    border-radius: 50%;\n",
              "    cursor: pointer;\n",
              "    display: none;\n",
              "    fill: var(--fill-color);\n",
              "    height: 32px;\n",
              "    padding: 0;\n",
              "    width: 32px;\n",
              "  }\n",
              "\n",
              "  .colab-df-quickchart:hover {\n",
              "    background-color: var(--hover-bg-color);\n",
              "    box-shadow: 0 1px 2px rgba(60, 64, 67, 0.3), 0 1px 3px 1px rgba(60, 64, 67, 0.15);\n",
              "    fill: var(--button-hover-fill-color);\n",
              "  }\n",
              "\n",
              "  .colab-df-quickchart-complete:disabled,\n",
              "  .colab-df-quickchart-complete:disabled:hover {\n",
              "    background-color: var(--disabled-bg-color);\n",
              "    fill: var(--disabled-fill-color);\n",
              "    box-shadow: none;\n",
              "  }\n",
              "\n",
              "  .colab-df-spinner {\n",
              "    border: 2px solid var(--fill-color);\n",
              "    border-color: transparent;\n",
              "    border-bottom-color: var(--fill-color);\n",
              "    animation:\n",
              "      spin 1s steps(1) infinite;\n",
              "  }\n",
              "\n",
              "  @keyframes spin {\n",
              "    0% {\n",
              "      border-color: transparent;\n",
              "      border-bottom-color: var(--fill-color);\n",
              "      border-left-color: var(--fill-color);\n",
              "    }\n",
              "    20% {\n",
              "      border-color: transparent;\n",
              "      border-left-color: var(--fill-color);\n",
              "      border-top-color: var(--fill-color);\n",
              "    }\n",
              "    30% {\n",
              "      border-color: transparent;\n",
              "      border-left-color: var(--fill-color);\n",
              "      border-top-color: var(--fill-color);\n",
              "      border-right-color: var(--fill-color);\n",
              "    }\n",
              "    40% {\n",
              "      border-color: transparent;\n",
              "      border-right-color: var(--fill-color);\n",
              "      border-top-color: var(--fill-color);\n",
              "    }\n",
              "    60% {\n",
              "      border-color: transparent;\n",
              "      border-right-color: var(--fill-color);\n",
              "    }\n",
              "    80% {\n",
              "      border-color: transparent;\n",
              "      border-right-color: var(--fill-color);\n",
              "      border-bottom-color: var(--fill-color);\n",
              "    }\n",
              "    90% {\n",
              "      border-color: transparent;\n",
              "      border-bottom-color: var(--fill-color);\n",
              "    }\n",
              "  }\n",
              "</style>\n",
              "\n",
              "  <script>\n",
              "    async function quickchart(key) {\n",
              "      const quickchartButtonEl =\n",
              "        document.querySelector('#' + key + ' button');\n",
              "      quickchartButtonEl.disabled = true;  // To prevent multiple clicks.\n",
              "      quickchartButtonEl.classList.add('colab-df-spinner');\n",
              "      try {\n",
              "        const charts = await google.colab.kernel.invokeFunction(\n",
              "            'suggestCharts', [key], {});\n",
              "      } catch (error) {\n",
              "        console.error('Error during call to suggestCharts:', error);\n",
              "      }\n",
              "      quickchartButtonEl.classList.remove('colab-df-spinner');\n",
              "      quickchartButtonEl.classList.add('colab-df-quickchart-complete');\n",
              "    }\n",
              "    (() => {\n",
              "      let quickchartButtonEl =\n",
              "        document.querySelector('#df-29f8b8f9-dc74-4b09-afb7-4a6c5f512db2 button');\n",
              "      quickchartButtonEl.style.display =\n",
              "        google.colab.kernel.accessAllowed ? 'block' : 'none';\n",
              "    })();\n",
              "  </script>\n",
              "</div>\n",
              "\n",
              "    </div>\n",
              "  </div>\n"
            ],
            "application/vnd.google.colaboratory.intrinsic+json": {
              "type": "dataframe",
              "summary": "{\n  \"name\": \"pd\",\n  \"rows\": 3,\n  \"fields\": [\n    {\n      \"column\": \"a\",\n      \"properties\": {\n        \"dtype\": \"number\",\n        \"std\": 5,\n        \"min\": 0,\n        \"max\": 10,\n        \"num_unique_values\": 3,\n        \"samples\": [\n          0,\n          3,\n          10\n        ],\n        \"semantic_type\": \"\",\n        \"description\": \"\"\n      }\n    },\n    {\n      \"column\": \"b\",\n      \"properties\": {\n        \"dtype\": \"boolean\",\n        \"num_unique_values\": 2,\n        \"samples\": [\n          false,\n          true\n        ],\n        \"semantic_type\": \"\",\n        \"description\": \"\"\n      }\n    }\n  ]\n}"
            }
          },
          "metadata": {},
          "execution_count": 35
        }
      ],
      "source": [
        "# we can also use pandas to write CSV\n",
        "# using the DataFrame's to_csv method\n",
        "\n",
        "pd.DataFrame({'a': [0, 3, 10], 'b': [True, True, False]}).to_csv('./data/pd_write.csv')\n",
        "\n",
        "pd.read_csv('./data/pd_write.csv', index_col=0)"
      ]
    },
    {
      "cell_type": "markdown",
      "metadata": {
        "id": "S00OBWmJav2Z"
      },
      "source": [
        "A veces, un CSV no será perfecto. Por ejemplo, tal vez diferentes filas tengan diferentes números de comas. Esto dificulta la interpretación del contenido del archivo como una tabla."
      ]
    },
    {
      "cell_type": "code",
      "execution_count": null,
      "metadata": {
        "id": "RauiceVNav2Z",
        "outputId": "eb688e71-78bd-473d-e12e-b214354172ab",
        "colab": {
          "base_uri": "https://localhost:8080/"
        }
      },
      "outputs": [
        {
          "output_type": "stream",
          "name": "stdout",
          "text": [
            "index,name,age\n",
            "0,Dylan,27\n",
            "1,54\n",
            "2,Mya,31"
          ]
        }
      ],
      "source": [
        "# the 3rd line only has 2 \"columns\"\n",
        "\n",
        "!cat ./data/bad_csv.csv"
      ]
    },
    {
      "cell_type": "code",
      "execution_count": null,
      "metadata": {
        "id": "BLkO-Yq5av2Z",
        "outputId": "d76962dc-81ee-4c98-f329-0bfe3de5a374",
        "colab": {
          "base_uri": "https://localhost:8080/",
          "height": 175
        }
      },
      "outputs": [
        {
          "output_type": "execute_result",
          "data": {
            "text/plain": [
              "        name   age\n",
              "index             \n",
              "0      Dylan  27.0\n",
              "1         54   NaN\n",
              "2        Mya  31.0"
            ],
            "text/html": [
              "\n",
              "  <div id=\"df-d3c221a3-f354-452a-8880-1d25c3bc3c35\" class=\"colab-df-container\">\n",
              "    <div>\n",
              "<style scoped>\n",
              "    .dataframe tbody tr th:only-of-type {\n",
              "        vertical-align: middle;\n",
              "    }\n",
              "\n",
              "    .dataframe tbody tr th {\n",
              "        vertical-align: top;\n",
              "    }\n",
              "\n",
              "    .dataframe thead th {\n",
              "        text-align: right;\n",
              "    }\n",
              "</style>\n",
              "<table border=\"1\" class=\"dataframe\">\n",
              "  <thead>\n",
              "    <tr style=\"text-align: right;\">\n",
              "      <th></th>\n",
              "      <th>name</th>\n",
              "      <th>age</th>\n",
              "    </tr>\n",
              "    <tr>\n",
              "      <th>index</th>\n",
              "      <th></th>\n",
              "      <th></th>\n",
              "    </tr>\n",
              "  </thead>\n",
              "  <tbody>\n",
              "    <tr>\n",
              "      <th>0</th>\n",
              "      <td>Dylan</td>\n",
              "      <td>27.0</td>\n",
              "    </tr>\n",
              "    <tr>\n",
              "      <th>1</th>\n",
              "      <td>54</td>\n",
              "      <td>NaN</td>\n",
              "    </tr>\n",
              "    <tr>\n",
              "      <th>2</th>\n",
              "      <td>Mya</td>\n",
              "      <td>31.0</td>\n",
              "    </tr>\n",
              "  </tbody>\n",
              "</table>\n",
              "</div>\n",
              "    <div class=\"colab-df-buttons\">\n",
              "\n",
              "  <div class=\"colab-df-container\">\n",
              "    <button class=\"colab-df-convert\" onclick=\"convertToInteractive('df-d3c221a3-f354-452a-8880-1d25c3bc3c35')\"\n",
              "            title=\"Convert this dataframe to an interactive table.\"\n",
              "            style=\"display:none;\">\n",
              "\n",
              "  <svg xmlns=\"http://www.w3.org/2000/svg\" height=\"24px\" viewBox=\"0 -960 960 960\">\n",
              "    <path d=\"M120-120v-720h720v720H120Zm60-500h600v-160H180v160Zm220 220h160v-160H400v160Zm0 220h160v-160H400v160ZM180-400h160v-160H180v160Zm440 0h160v-160H620v160ZM180-180h160v-160H180v160Zm440 0h160v-160H620v160Z\"/>\n",
              "  </svg>\n",
              "    </button>\n",
              "\n",
              "  <style>\n",
              "    .colab-df-container {\n",
              "      display:flex;\n",
              "      gap: 12px;\n",
              "    }\n",
              "\n",
              "    .colab-df-convert {\n",
              "      background-color: #E8F0FE;\n",
              "      border: none;\n",
              "      border-radius: 50%;\n",
              "      cursor: pointer;\n",
              "      display: none;\n",
              "      fill: #1967D2;\n",
              "      height: 32px;\n",
              "      padding: 0 0 0 0;\n",
              "      width: 32px;\n",
              "    }\n",
              "\n",
              "    .colab-df-convert:hover {\n",
              "      background-color: #E2EBFA;\n",
              "      box-shadow: 0px 1px 2px rgba(60, 64, 67, 0.3), 0px 1px 3px 1px rgba(60, 64, 67, 0.15);\n",
              "      fill: #174EA6;\n",
              "    }\n",
              "\n",
              "    .colab-df-buttons div {\n",
              "      margin-bottom: 4px;\n",
              "    }\n",
              "\n",
              "    [theme=dark] .colab-df-convert {\n",
              "      background-color: #3B4455;\n",
              "      fill: #D2E3FC;\n",
              "    }\n",
              "\n",
              "    [theme=dark] .colab-df-convert:hover {\n",
              "      background-color: #434B5C;\n",
              "      box-shadow: 0px 1px 3px 1px rgba(0, 0, 0, 0.15);\n",
              "      filter: drop-shadow(0px 1px 2px rgba(0, 0, 0, 0.3));\n",
              "      fill: #FFFFFF;\n",
              "    }\n",
              "  </style>\n",
              "\n",
              "    <script>\n",
              "      const buttonEl =\n",
              "        document.querySelector('#df-d3c221a3-f354-452a-8880-1d25c3bc3c35 button.colab-df-convert');\n",
              "      buttonEl.style.display =\n",
              "        google.colab.kernel.accessAllowed ? 'block' : 'none';\n",
              "\n",
              "      async function convertToInteractive(key) {\n",
              "        const element = document.querySelector('#df-d3c221a3-f354-452a-8880-1d25c3bc3c35');\n",
              "        const dataTable =\n",
              "          await google.colab.kernel.invokeFunction('convertToInteractive',\n",
              "                                                    [key], {});\n",
              "        if (!dataTable) return;\n",
              "\n",
              "        const docLinkHtml = 'Like what you see? Visit the ' +\n",
              "          '<a target=\"_blank\" href=https://colab.research.google.com/notebooks/data_table.ipynb>data table notebook</a>'\n",
              "          + ' to learn more about interactive tables.';\n",
              "        element.innerHTML = '';\n",
              "        dataTable['output_type'] = 'display_data';\n",
              "        await google.colab.output.renderOutput(dataTable, element);\n",
              "        const docLink = document.createElement('div');\n",
              "        docLink.innerHTML = docLinkHtml;\n",
              "        element.appendChild(docLink);\n",
              "      }\n",
              "    </script>\n",
              "  </div>\n",
              "\n",
              "\n",
              "<div id=\"df-26daa3bf-e31e-4a45-8b73-868c1c4c2f72\">\n",
              "  <button class=\"colab-df-quickchart\" onclick=\"quickchart('df-26daa3bf-e31e-4a45-8b73-868c1c4c2f72')\"\n",
              "            title=\"Suggest charts\"\n",
              "            style=\"display:none;\">\n",
              "\n",
              "<svg xmlns=\"http://www.w3.org/2000/svg\" height=\"24px\"viewBox=\"0 0 24 24\"\n",
              "     width=\"24px\">\n",
              "    <g>\n",
              "        <path d=\"M19 3H5c-1.1 0-2 .9-2 2v14c0 1.1.9 2 2 2h14c1.1 0 2-.9 2-2V5c0-1.1-.9-2-2-2zM9 17H7v-7h2v7zm4 0h-2V7h2v10zm4 0h-2v-4h2v4z\"/>\n",
              "    </g>\n",
              "</svg>\n",
              "  </button>\n",
              "\n",
              "<style>\n",
              "  .colab-df-quickchart {\n",
              "      --bg-color: #E8F0FE;\n",
              "      --fill-color: #1967D2;\n",
              "      --hover-bg-color: #E2EBFA;\n",
              "      --hover-fill-color: #174EA6;\n",
              "      --disabled-fill-color: #AAA;\n",
              "      --disabled-bg-color: #DDD;\n",
              "  }\n",
              "\n",
              "  [theme=dark] .colab-df-quickchart {\n",
              "      --bg-color: #3B4455;\n",
              "      --fill-color: #D2E3FC;\n",
              "      --hover-bg-color: #434B5C;\n",
              "      --hover-fill-color: #FFFFFF;\n",
              "      --disabled-bg-color: #3B4455;\n",
              "      --disabled-fill-color: #666;\n",
              "  }\n",
              "\n",
              "  .colab-df-quickchart {\n",
              "    background-color: var(--bg-color);\n",
              "    border: none;\n",
              "    border-radius: 50%;\n",
              "    cursor: pointer;\n",
              "    display: none;\n",
              "    fill: var(--fill-color);\n",
              "    height: 32px;\n",
              "    padding: 0;\n",
              "    width: 32px;\n",
              "  }\n",
              "\n",
              "  .colab-df-quickchart:hover {\n",
              "    background-color: var(--hover-bg-color);\n",
              "    box-shadow: 0 1px 2px rgba(60, 64, 67, 0.3), 0 1px 3px 1px rgba(60, 64, 67, 0.15);\n",
              "    fill: var(--button-hover-fill-color);\n",
              "  }\n",
              "\n",
              "  .colab-df-quickchart-complete:disabled,\n",
              "  .colab-df-quickchart-complete:disabled:hover {\n",
              "    background-color: var(--disabled-bg-color);\n",
              "    fill: var(--disabled-fill-color);\n",
              "    box-shadow: none;\n",
              "  }\n",
              "\n",
              "  .colab-df-spinner {\n",
              "    border: 2px solid var(--fill-color);\n",
              "    border-color: transparent;\n",
              "    border-bottom-color: var(--fill-color);\n",
              "    animation:\n",
              "      spin 1s steps(1) infinite;\n",
              "  }\n",
              "\n",
              "  @keyframes spin {\n",
              "    0% {\n",
              "      border-color: transparent;\n",
              "      border-bottom-color: var(--fill-color);\n",
              "      border-left-color: var(--fill-color);\n",
              "    }\n",
              "    20% {\n",
              "      border-color: transparent;\n",
              "      border-left-color: var(--fill-color);\n",
              "      border-top-color: var(--fill-color);\n",
              "    }\n",
              "    30% {\n",
              "      border-color: transparent;\n",
              "      border-left-color: var(--fill-color);\n",
              "      border-top-color: var(--fill-color);\n",
              "      border-right-color: var(--fill-color);\n",
              "    }\n",
              "    40% {\n",
              "      border-color: transparent;\n",
              "      border-right-color: var(--fill-color);\n",
              "      border-top-color: var(--fill-color);\n",
              "    }\n",
              "    60% {\n",
              "      border-color: transparent;\n",
              "      border-right-color: var(--fill-color);\n",
              "    }\n",
              "    80% {\n",
              "      border-color: transparent;\n",
              "      border-right-color: var(--fill-color);\n",
              "      border-bottom-color: var(--fill-color);\n",
              "    }\n",
              "    90% {\n",
              "      border-color: transparent;\n",
              "      border-bottom-color: var(--fill-color);\n",
              "    }\n",
              "  }\n",
              "</style>\n",
              "\n",
              "  <script>\n",
              "    async function quickchart(key) {\n",
              "      const quickchartButtonEl =\n",
              "        document.querySelector('#' + key + ' button');\n",
              "      quickchartButtonEl.disabled = true;  // To prevent multiple clicks.\n",
              "      quickchartButtonEl.classList.add('colab-df-spinner');\n",
              "      try {\n",
              "        const charts = await google.colab.kernel.invokeFunction(\n",
              "            'suggestCharts', [key], {});\n",
              "      } catch (error) {\n",
              "        console.error('Error during call to suggestCharts:', error);\n",
              "      }\n",
              "      quickchartButtonEl.classList.remove('colab-df-spinner');\n",
              "      quickchartButtonEl.classList.add('colab-df-quickchart-complete');\n",
              "    }\n",
              "    (() => {\n",
              "      let quickchartButtonEl =\n",
              "        document.querySelector('#df-26daa3bf-e31e-4a45-8b73-868c1c4c2f72 button');\n",
              "      quickchartButtonEl.style.display =\n",
              "        google.colab.kernel.accessAllowed ? 'block' : 'none';\n",
              "    })();\n",
              "  </script>\n",
              "</div>\n",
              "\n",
              "    </div>\n",
              "  </div>\n"
            ],
            "application/vnd.google.colaboratory.intrinsic+json": {
              "type": "dataframe",
              "summary": "{\n  \"name\": \"pd\",\n  \"rows\": 3,\n  \"fields\": [\n    {\n      \"column\": \"index\",\n      \"properties\": {\n        \"dtype\": \"number\",\n        \"std\": 1,\n        \"min\": 0,\n        \"max\": 2,\n        \"num_unique_values\": 3,\n        \"samples\": [\n          0,\n          1,\n          2\n        ],\n        \"semantic_type\": \"\",\n        \"description\": \"\"\n      }\n    },\n    {\n      \"column\": \"name\",\n      \"properties\": {\n        \"dtype\": \"string\",\n        \"num_unique_values\": 3,\n        \"samples\": [\n          \"Dylan\",\n          \"54\",\n          \"Mya\"\n        ],\n        \"semantic_type\": \"\",\n        \"description\": \"\"\n      }\n    },\n    {\n      \"column\": \"age\",\n      \"properties\": {\n        \"dtype\": \"number\",\n        \"std\": 2.8284271247461903,\n        \"min\": 27.0,\n        \"max\": 31.0,\n        \"num_unique_values\": 2,\n        \"samples\": [\n          31.0,\n          27.0\n        ],\n        \"semantic_type\": \"\",\n        \"description\": \"\"\n      }\n    }\n  ]\n}"
            }
          },
          "metadata": {},
          "execution_count": 37
        }
      ],
      "source": [
        "# what happens if we try to read this\n",
        "# into a DataFrame using read_csv?\n",
        "\n",
        "pd.read_csv('./data/bad_csv.csv', index_col = 0)"
      ]
    },
    {
      "cell_type": "markdown",
      "metadata": {
        "id": "fXF3W5Rgav2Z"
      },
      "source": [
        "El método `read_csv` de Pandas hará todo lo posible para construir una tabla a partir de un CSV mal formateado, pero puede cometer errores. Por ejemplo, 54 se interpretó como un nombre en lugar de una edad, porque solo había 2 columnas en esa línea del archivo. Los conjuntos de datos a menudo contienen errores como formato incorrecto, datos faltantes o errores tipográficos.\n",
        "\n",
        "**Pregunta:** ¿Cómo podríamos arreglar el CSV mal formateado para que funcione con `read_csv`?"
      ]
    },
    {
      "cell_type": "markdown",
      "metadata": {
        "id": "DlfFdSI5av2Z"
      },
      "source": [
        "##JSON\n",
        "\n",
        "JSON significa notación de objetos JavaScript. JavaScript es un lenguaje común para crear aplicaciones web y los archivos JSON se utilizan para recopilar y transmitir información entre aplicaciones JavaScript. Como resultado, existe una gran cantidad de datos en Internet en formato de archivo JSON. Por ejemplo, Twitter y Google Maps utilizan JSON.\n",
        "\n",
        "Un archivo JSON es esencialmente una estructura de datos construida a partir de listas y diccionarios anidados. Hagamos nuestro propio ejemplo y luego examinaremos un ejemplo descargado de Internet."
      ]
    },
    {
      "cell_type": "code",
      "execution_count": null,
      "metadata": {
        "id": "MK93eATKav2Z",
        "outputId": "362883b0-87dd-4d02-c76f-0856f0fe24ac",
        "colab": {
          "base_uri": "https://localhost:8080/"
        }
      },
      "outputs": [
        {
          "output_type": "execute_result",
          "data": {
            "text/plain": [
              "[{'title': 'The Prophet',\n",
              "  'author': 'Khalil Gibran',\n",
              "  'genre': 'poetry',\n",
              "  'tags': ['religion',\n",
              "   'spirituality',\n",
              "   'philosophy',\n",
              "   'Lebanon',\n",
              "   'Arabic',\n",
              "   'Middle East'],\n",
              "  'book_id': '811.19',\n",
              "  'copies': [{'edition_year': 1996, 'checkouts': 486, 'borrowed': False},\n",
              "   {'edition_year': 1996, 'checkouts': 443, 'borrowed': False}]},\n",
              " {'title': 'The Little Prince',\n",
              "  'author': 'Antoine de Saint-Exupery',\n",
              "  'genre': 'children',\n",
              "  'tags': ['fantasy', 'France', 'philosophy', 'illustrated', 'fable'],\n",
              "  'id': '843.912',\n",
              "  'copies': [{'edition_year': 1983,\n",
              "    'checkouts': 634,\n",
              "    'borrowed': True,\n",
              "    'due_date': '2017/02/02'},\n",
              "   {'edition_year': 2015, 'checkouts': 41, 'borrowed': False}]}]"
            ]
          },
          "metadata": {},
          "execution_count": 38
        }
      ],
      "source": [
        "book1 = {'title': 'The Prophet',\n",
        "         'author': 'Khalil Gibran',\n",
        "         'genre': 'poetry',\n",
        "         'tags': ['religion', 'spirituality', 'philosophy', 'Lebanon', 'Arabic', 'Middle East'],\n",
        "         'book_id': '811.19',\n",
        "         'copies': [{'edition_year': 1996,\n",
        "                     'checkouts': 486,\n",
        "                     'borrowed': False},\n",
        "                    {'edition_year': 1996,\n",
        "                     'checkouts': 443,\n",
        "                     'borrowed': False}]\n",
        "         }\n",
        "\n",
        "book2 = {'title': 'The Little Prince',\n",
        "         'author': 'Antoine de Saint-Exupery',\n",
        "         'genre': 'children',\n",
        "         'tags': ['fantasy', 'France', 'philosophy', 'illustrated', 'fable'],\n",
        "         'id': '843.912',\n",
        "         'copies': [{'edition_year': 1983,\n",
        "                     'checkouts': 634,\n",
        "                     'borrowed': True,\n",
        "                     'due_date': '2017/02/02'},\n",
        "                    {'edition_year': 2015,\n",
        "                     'checkouts': 41,\n",
        "                     'borrowed': False}]\n",
        "         }\n",
        "\n",
        "library = [book1, book2]\n",
        "library"
      ]
    },
    {
      "cell_type": "markdown",
      "metadata": {
        "id": "qrRrCY7jav2Z"
      },
      "source": [
        "Tenemos dos libros en nuestra \"biblioteca\". Ambos libros tienen algunas propiedades comunes: título, autor, identificación y etiquetas. Cada libro puede tener varias etiquetas, por lo que almacenamos esos datos como una lista. Además, puede haber varias copias de cada libro y cada copia también tiene información única, como el año en que se imprimió y cuántas veces se sacó prestado. Tenga en cuenta que si un libro está prestado, también tiene una fecha de vencimiento. Es conveniente almacenar la información sobre las copias múltiples como una lista de diccionarios dentro del diccionario sobre el libro, porque cada copia comparte el mismo título, autor, etc.\n",
        "\n",
        "Esta estructura es típica de los archivos JSON. Tiene la ventaja de reducir la redundancia de datos. Solo almacenamos el autor y el título una vez, aunque haya varias copias del libro. Además, no almacenamos una fecha de vencimiento para las copias que no están prestadas.\n",
        "\n",
        "Si tuviéramos que poner estos datos en una tabla, tendríamos que duplicar mucha información. Además, dado que solo se ha prestado una copia de nuestra biblioteca, también tenemos una columna con muchos datos faltantes.    \n",
        "\n",
        "| index |        title        |          author          |    id    |  genre   |                           tags                            | edition_year | checkouts | borrowed |  due_date  |\n",
        "|:-----:|:-------------------:|:------------------------:|:--------:|:--------:|:--------------------------------------------------------:|:------------:|:---------:|:--------:|:----------:|\n",
        "|   0   |     The Prophet     |     Khalil Gibran        |  811.19  |  poetry  | religion, spirituality, philosophy, Lebanon, Arabic, Middle East |     1996     |    486    |   False  |    Null    |\n",
        "|   1   |     The Prophet     |     Khalil Gibran        |  811.19  |  poetry  | religion, spirituality, philosophy, Lebanon, Arabic, Middle East |     1996     |    443    |   False  |    Null    |\n",
        "|   2   | The Little Prince   | Antoine de Saint-Exupery | 843.912  | children |     fantasy, France, philosophy, illustrated, fable      |     1983     |    634    |   True   | 2017/02/02 |\n",
        "|   3   | The Little Prince   | Antoine de Saint-Exupery | 843.912  | children |     fantasy, France, philosophy, illustrated, fable      |     2015     |     41    |   False  |    Null    |\n",
        "\n",
        "\n",
        "Esto es un gran desperdicio. Dado que los archivos JSON están destinados a compartirse rápidamente a través de Internet, es importante que sean pequeños para reducir la cantidad de recursos necesarios para almacenarlos y transmitirlos.\n",
        "\n",
        "Podemos escribir nuestra `biblioteca` en el disco usando el módulo `json`."
      ]
    },
    {
      "cell_type": "code",
      "execution_count": null,
      "metadata": {
        "id": "14iIP1lUav2e"
      },
      "outputs": [],
      "source": [
        "import json\n",
        "\n",
        "with open('./data/library.json', 'w') as f:\n",
        "    json.dump(library, f, indent=2)"
      ]
    },
    {
      "cell_type": "code",
      "execution_count": null,
      "metadata": {
        "id": "4JtOXh7Aav2e",
        "outputId": "89b2a6cc-10fe-4193-8786-4b2efdb44049",
        "colab": {
          "base_uri": "https://localhost:8080/"
        }
      },
      "outputs": [
        {
          "output_type": "stream",
          "name": "stdout",
          "text": [
            "[\n",
            "  {\n",
            "    \"title\": \"The Prophet\",\n",
            "    \"author\": \"Khalil Gibran\",\n",
            "    \"genre\": \"poetry\",\n",
            "    \"tags\": [\n",
            "      \"religion\",\n",
            "      \"spirituality\",\n",
            "      \"philosophy\",\n",
            "      \"Lebanon\",\n",
            "      \"Arabic\",\n",
            "      \"Middle East\"\n",
            "    ],\n",
            "    \"book_id\": \"811.19\",\n",
            "    \"copies\": [\n",
            "      {\n",
            "        \"edition_year\": 1996,\n",
            "        \"checkouts\": 486,\n",
            "        \"borrowed\": false\n",
            "      },\n",
            "      {\n",
            "        \"edition_year\": 1996,\n",
            "        \"checkouts\": 443,\n",
            "        \"borrowed\": false\n",
            "      }\n",
            "    ]\n",
            "  },\n",
            "  {\n",
            "    \"title\": \"The Little Prince\",\n",
            "    \"author\": \"Antoine de Saint-Exupery\",\n",
            "    \"genre\": \"children\",\n",
            "    \"tags\": [\n",
            "      \"fantasy\",\n",
            "      \"France\",\n",
            "      \"philosophy\",\n",
            "      \"illustrated\",\n",
            "      \"fable\"\n",
            "    ],\n",
            "    \"id\": \"843.912\",\n",
            "    \"copies\": [\n",
            "      {\n",
            "        \"edition_year\": 1983,\n",
            "        \"checkouts\": 634,\n",
            "        \"borrowed\": true,\n",
            "        \"due_date\": \"2017/02/02\"\n",
            "      },\n",
            "      {\n",
            "        \"edition_year\": 2015,\n",
            "        \"checkouts\": 41,\n",
            "        \"borrowed\": false\n",
            "      }\n",
            "    ]\n",
            "  }\n",
            "]"
          ]
        }
      ],
      "source": [
        "!cat ./data/library.json"
      ]
    },
    {
      "cell_type": "code",
      "execution_count": null,
      "metadata": {
        "id": "4LRjOudSav2e",
        "outputId": "19da2500-55bf-4ff8-be73-451aad5163c8",
        "colab": {
          "base_uri": "https://localhost:8080/"
        }
      },
      "outputs": [
        {
          "output_type": "execute_result",
          "data": {
            "text/plain": [
              "[{'title': 'The Prophet',\n",
              "  'author': 'Khalil Gibran',\n",
              "  'genre': 'poetry',\n",
              "  'tags': ['religion',\n",
              "   'spirituality',\n",
              "   'philosophy',\n",
              "   'Lebanon',\n",
              "   'Arabic',\n",
              "   'Middle East'],\n",
              "  'book_id': '811.19',\n",
              "  'copies': [{'edition_year': 1996, 'checkouts': 486, 'borrowed': False},\n",
              "   {'edition_year': 1996, 'checkouts': 443, 'borrowed': False}]},\n",
              " {'title': 'The Little Prince',\n",
              "  'author': 'Antoine de Saint-Exupery',\n",
              "  'genre': 'children',\n",
              "  'tags': ['fantasy', 'France', 'philosophy', 'illustrated', 'fable'],\n",
              "  'id': '843.912',\n",
              "  'copies': [{'edition_year': 1983,\n",
              "    'checkouts': 634,\n",
              "    'borrowed': True,\n",
              "    'due_date': '2017/02/02'},\n",
              "   {'edition_year': 2015, 'checkouts': 41, 'borrowed': False}]}]"
            ]
          },
          "metadata": {},
          "execution_count": 43
        }
      ],
      "source": [
        "with open('./data/library.json', 'r') as f:\n",
        "    reloaded_library = json.load(f)\n",
        "\n",
        "reloaded_library"
      ]
    },
    {
      "cell_type": "code",
      "execution_count": null,
      "metadata": {
        "id": "j6zTthR8av2e",
        "outputId": "23b10999-5374-4fce-beeb-95729d470963",
        "colab": {
          "base_uri": "https://localhost:8080/",
          "height": 123
        }
      },
      "outputs": [
        {
          "output_type": "execute_result",
          "data": {
            "text/plain": [
              "'[\\n  {\\n    \"title\": \"The Prophet\",\\n    \"author\": \"Khalil Gibran\",\\n    \"genre\": \"poetry\",\\n    \"tags\": [\\n      \"religion\",\\n      \"spirituality\",\\n      \"philosophy\",\\n      \"Lebanon\",\\n      \"Arabic\",\\n      \"Middle East\"\\n    ],\\n    \"book_id\": \"811.19\",\\n    \"copies\": [\\n      {\\n        \"edition_year\": 1996,\\n        \"checkouts\": 486,\\n        \"borrowed\": false\\n      },\\n      {\\n        \"edition_year\": 1996,\\n        \"checkouts\": 443,\\n        \"borrowed\": false\\n      }\\n    ]\\n  },\\n  {\\n    \"title\": \"The Little Prince\",\\n    \"author\": \"Antoine de Saint-Exupery\",\\n    \"genre\": \"children\",\\n    \"tags\": [\\n      \"fantasy\",\\n      \"France\",\\n      \"philosophy\",\\n      \"illustrated\",\\n      \"fable\"\\n    ],\\n    \"id\": \"843.912\",\\n    \"copies\": [\\n      {\\n        \"edition_year\": 1983,\\n        \"checkouts\": 634,\\n        \"borrowed\": true,\\n        \"due_date\": \"2017/02/02\"\\n      },\\n      {\\n        \"edition_year\": 2015,\\n        \"checkouts\": 41,\\n        \"borrowed\": false\\n      }\\n    ]\\n  }\\n]'"
            ],
            "application/vnd.google.colaboratory.intrinsic+json": {
              "type": "string"
            }
          },
          "metadata": {},
          "execution_count": 44
        }
      ],
      "source": [
        "# note that if we loaded it in without JSON\n",
        "# the file would be interpreted as plain text\n",
        "\n",
        "with open('./data/library.json', 'r') as f:\n",
        "    library_string = f.read()\n",
        "\n",
        "# this isn't what we want\n",
        "library_string"
      ]
    },
    {
      "cell_type": "code",
      "execution_count": null,
      "metadata": {
        "id": "wiEiU21sav2e",
        "outputId": "dbed463b-f5de-4feb-b564-80ccf0357387",
        "colab": {
          "base_uri": "https://localhost:8080/",
          "height": 112
        }
      },
      "outputs": [
        {
          "output_type": "execute_result",
          "data": {
            "text/plain": [
              "               title                    author     genre  \\\n",
              "0        The Prophet             Khalil Gibran    poetry   \n",
              "1  The Little Prince  Antoine de Saint-Exupery  children   \n",
              "\n",
              "                                                tags  book_id  \\\n",
              "0  [religion, spirituality, philosophy, Lebanon, ...   811.19   \n",
              "1  [fantasy, France, philosophy, illustrated, fable]      NaN   \n",
              "\n",
              "                                              copies       id  \n",
              "0  [{'edition_year': 1996, 'checkouts': 486, 'bor...      NaN  \n",
              "1  [{'edition_year': 1983, 'checkouts': 634, 'bor...  843.912  "
            ],
            "text/html": [
              "\n",
              "  <div id=\"df-0fc826bd-7b7d-4809-8d82-68296bb27bf1\" class=\"colab-df-container\">\n",
              "    <div>\n",
              "<style scoped>\n",
              "    .dataframe tbody tr th:only-of-type {\n",
              "        vertical-align: middle;\n",
              "    }\n",
              "\n",
              "    .dataframe tbody tr th {\n",
              "        vertical-align: top;\n",
              "    }\n",
              "\n",
              "    .dataframe thead th {\n",
              "        text-align: right;\n",
              "    }\n",
              "</style>\n",
              "<table border=\"1\" class=\"dataframe\">\n",
              "  <thead>\n",
              "    <tr style=\"text-align: right;\">\n",
              "      <th></th>\n",
              "      <th>title</th>\n",
              "      <th>author</th>\n",
              "      <th>genre</th>\n",
              "      <th>tags</th>\n",
              "      <th>book_id</th>\n",
              "      <th>copies</th>\n",
              "      <th>id</th>\n",
              "    </tr>\n",
              "  </thead>\n",
              "  <tbody>\n",
              "    <tr>\n",
              "      <th>0</th>\n",
              "      <td>The Prophet</td>\n",
              "      <td>Khalil Gibran</td>\n",
              "      <td>poetry</td>\n",
              "      <td>[religion, spirituality, philosophy, Lebanon, ...</td>\n",
              "      <td>811.19</td>\n",
              "      <td>[{'edition_year': 1996, 'checkouts': 486, 'bor...</td>\n",
              "      <td>NaN</td>\n",
              "    </tr>\n",
              "    <tr>\n",
              "      <th>1</th>\n",
              "      <td>The Little Prince</td>\n",
              "      <td>Antoine de Saint-Exupery</td>\n",
              "      <td>children</td>\n",
              "      <td>[fantasy, France, philosophy, illustrated, fable]</td>\n",
              "      <td>NaN</td>\n",
              "      <td>[{'edition_year': 1983, 'checkouts': 634, 'bor...</td>\n",
              "      <td>843.912</td>\n",
              "    </tr>\n",
              "  </tbody>\n",
              "</table>\n",
              "</div>\n",
              "    <div class=\"colab-df-buttons\">\n",
              "\n",
              "  <div class=\"colab-df-container\">\n",
              "    <button class=\"colab-df-convert\" onclick=\"convertToInteractive('df-0fc826bd-7b7d-4809-8d82-68296bb27bf1')\"\n",
              "            title=\"Convert this dataframe to an interactive table.\"\n",
              "            style=\"display:none;\">\n",
              "\n",
              "  <svg xmlns=\"http://www.w3.org/2000/svg\" height=\"24px\" viewBox=\"0 -960 960 960\">\n",
              "    <path d=\"M120-120v-720h720v720H120Zm60-500h600v-160H180v160Zm220 220h160v-160H400v160Zm0 220h160v-160H400v160ZM180-400h160v-160H180v160Zm440 0h160v-160H620v160ZM180-180h160v-160H180v160Zm440 0h160v-160H620v160Z\"/>\n",
              "  </svg>\n",
              "    </button>\n",
              "\n",
              "  <style>\n",
              "    .colab-df-container {\n",
              "      display:flex;\n",
              "      gap: 12px;\n",
              "    }\n",
              "\n",
              "    .colab-df-convert {\n",
              "      background-color: #E8F0FE;\n",
              "      border: none;\n",
              "      border-radius: 50%;\n",
              "      cursor: pointer;\n",
              "      display: none;\n",
              "      fill: #1967D2;\n",
              "      height: 32px;\n",
              "      padding: 0 0 0 0;\n",
              "      width: 32px;\n",
              "    }\n",
              "\n",
              "    .colab-df-convert:hover {\n",
              "      background-color: #E2EBFA;\n",
              "      box-shadow: 0px 1px 2px rgba(60, 64, 67, 0.3), 0px 1px 3px 1px rgba(60, 64, 67, 0.15);\n",
              "      fill: #174EA6;\n",
              "    }\n",
              "\n",
              "    .colab-df-buttons div {\n",
              "      margin-bottom: 4px;\n",
              "    }\n",
              "\n",
              "    [theme=dark] .colab-df-convert {\n",
              "      background-color: #3B4455;\n",
              "      fill: #D2E3FC;\n",
              "    }\n",
              "\n",
              "    [theme=dark] .colab-df-convert:hover {\n",
              "      background-color: #434B5C;\n",
              "      box-shadow: 0px 1px 3px 1px rgba(0, 0, 0, 0.15);\n",
              "      filter: drop-shadow(0px 1px 2px rgba(0, 0, 0, 0.3));\n",
              "      fill: #FFFFFF;\n",
              "    }\n",
              "  </style>\n",
              "\n",
              "    <script>\n",
              "      const buttonEl =\n",
              "        document.querySelector('#df-0fc826bd-7b7d-4809-8d82-68296bb27bf1 button.colab-df-convert');\n",
              "      buttonEl.style.display =\n",
              "        google.colab.kernel.accessAllowed ? 'block' : 'none';\n",
              "\n",
              "      async function convertToInteractive(key) {\n",
              "        const element = document.querySelector('#df-0fc826bd-7b7d-4809-8d82-68296bb27bf1');\n",
              "        const dataTable =\n",
              "          await google.colab.kernel.invokeFunction('convertToInteractive',\n",
              "                                                    [key], {});\n",
              "        if (!dataTable) return;\n",
              "\n",
              "        const docLinkHtml = 'Like what you see? Visit the ' +\n",
              "          '<a target=\"_blank\" href=https://colab.research.google.com/notebooks/data_table.ipynb>data table notebook</a>'\n",
              "          + ' to learn more about interactive tables.';\n",
              "        element.innerHTML = '';\n",
              "        dataTable['output_type'] = 'display_data';\n",
              "        await google.colab.output.renderOutput(dataTable, element);\n",
              "        const docLink = document.createElement('div');\n",
              "        docLink.innerHTML = docLinkHtml;\n",
              "        element.appendChild(docLink);\n",
              "      }\n",
              "    </script>\n",
              "  </div>\n",
              "\n",
              "\n",
              "<div id=\"df-6b12df10-d97c-43e9-8751-9f1627b8f7c4\">\n",
              "  <button class=\"colab-df-quickchart\" onclick=\"quickchart('df-6b12df10-d97c-43e9-8751-9f1627b8f7c4')\"\n",
              "            title=\"Suggest charts\"\n",
              "            style=\"display:none;\">\n",
              "\n",
              "<svg xmlns=\"http://www.w3.org/2000/svg\" height=\"24px\"viewBox=\"0 0 24 24\"\n",
              "     width=\"24px\">\n",
              "    <g>\n",
              "        <path d=\"M19 3H5c-1.1 0-2 .9-2 2v14c0 1.1.9 2 2 2h14c1.1 0 2-.9 2-2V5c0-1.1-.9-2-2-2zM9 17H7v-7h2v7zm4 0h-2V7h2v10zm4 0h-2v-4h2v4z\"/>\n",
              "    </g>\n",
              "</svg>\n",
              "  </button>\n",
              "\n",
              "<style>\n",
              "  .colab-df-quickchart {\n",
              "      --bg-color: #E8F0FE;\n",
              "      --fill-color: #1967D2;\n",
              "      --hover-bg-color: #E2EBFA;\n",
              "      --hover-fill-color: #174EA6;\n",
              "      --disabled-fill-color: #AAA;\n",
              "      --disabled-bg-color: #DDD;\n",
              "  }\n",
              "\n",
              "  [theme=dark] .colab-df-quickchart {\n",
              "      --bg-color: #3B4455;\n",
              "      --fill-color: #D2E3FC;\n",
              "      --hover-bg-color: #434B5C;\n",
              "      --hover-fill-color: #FFFFFF;\n",
              "      --disabled-bg-color: #3B4455;\n",
              "      --disabled-fill-color: #666;\n",
              "  }\n",
              "\n",
              "  .colab-df-quickchart {\n",
              "    background-color: var(--bg-color);\n",
              "    border: none;\n",
              "    border-radius: 50%;\n",
              "    cursor: pointer;\n",
              "    display: none;\n",
              "    fill: var(--fill-color);\n",
              "    height: 32px;\n",
              "    padding: 0;\n",
              "    width: 32px;\n",
              "  }\n",
              "\n",
              "  .colab-df-quickchart:hover {\n",
              "    background-color: var(--hover-bg-color);\n",
              "    box-shadow: 0 1px 2px rgba(60, 64, 67, 0.3), 0 1px 3px 1px rgba(60, 64, 67, 0.15);\n",
              "    fill: var(--button-hover-fill-color);\n",
              "  }\n",
              "\n",
              "  .colab-df-quickchart-complete:disabled,\n",
              "  .colab-df-quickchart-complete:disabled:hover {\n",
              "    background-color: var(--disabled-bg-color);\n",
              "    fill: var(--disabled-fill-color);\n",
              "    box-shadow: none;\n",
              "  }\n",
              "\n",
              "  .colab-df-spinner {\n",
              "    border: 2px solid var(--fill-color);\n",
              "    border-color: transparent;\n",
              "    border-bottom-color: var(--fill-color);\n",
              "    animation:\n",
              "      spin 1s steps(1) infinite;\n",
              "  }\n",
              "\n",
              "  @keyframes spin {\n",
              "    0% {\n",
              "      border-color: transparent;\n",
              "      border-bottom-color: var(--fill-color);\n",
              "      border-left-color: var(--fill-color);\n",
              "    }\n",
              "    20% {\n",
              "      border-color: transparent;\n",
              "      border-left-color: var(--fill-color);\n",
              "      border-top-color: var(--fill-color);\n",
              "    }\n",
              "    30% {\n",
              "      border-color: transparent;\n",
              "      border-left-color: var(--fill-color);\n",
              "      border-top-color: var(--fill-color);\n",
              "      border-right-color: var(--fill-color);\n",
              "    }\n",
              "    40% {\n",
              "      border-color: transparent;\n",
              "      border-right-color: var(--fill-color);\n",
              "      border-top-color: var(--fill-color);\n",
              "    }\n",
              "    60% {\n",
              "      border-color: transparent;\n",
              "      border-right-color: var(--fill-color);\n",
              "    }\n",
              "    80% {\n",
              "      border-color: transparent;\n",
              "      border-right-color: var(--fill-color);\n",
              "      border-bottom-color: var(--fill-color);\n",
              "    }\n",
              "    90% {\n",
              "      border-color: transparent;\n",
              "      border-bottom-color: var(--fill-color);\n",
              "    }\n",
              "  }\n",
              "</style>\n",
              "\n",
              "  <script>\n",
              "    async function quickchart(key) {\n",
              "      const quickchartButtonEl =\n",
              "        document.querySelector('#' + key + ' button');\n",
              "      quickchartButtonEl.disabled = true;  // To prevent multiple clicks.\n",
              "      quickchartButtonEl.classList.add('colab-df-spinner');\n",
              "      try {\n",
              "        const charts = await google.colab.kernel.invokeFunction(\n",
              "            'suggestCharts', [key], {});\n",
              "      } catch (error) {\n",
              "        console.error('Error during call to suggestCharts:', error);\n",
              "      }\n",
              "      quickchartButtonEl.classList.remove('colab-df-spinner');\n",
              "      quickchartButtonEl.classList.add('colab-df-quickchart-complete');\n",
              "    }\n",
              "    (() => {\n",
              "      let quickchartButtonEl =\n",
              "        document.querySelector('#df-6b12df10-d97c-43e9-8751-9f1627b8f7c4 button');\n",
              "      quickchartButtonEl.style.display =\n",
              "        google.colab.kernel.accessAllowed ? 'block' : 'none';\n",
              "    })();\n",
              "  </script>\n",
              "</div>\n",
              "\n",
              "    </div>\n",
              "  </div>\n"
            ],
            "application/vnd.google.colaboratory.intrinsic+json": {
              "type": "dataframe",
              "summary": "{\n  \"name\": \"pd\",\n  \"rows\": 2,\n  \"fields\": [\n    {\n      \"column\": \"title\",\n      \"properties\": {\n        \"dtype\": \"string\",\n        \"num_unique_values\": 2,\n        \"samples\": [\n          \"The Little Prince\",\n          \"The Prophet\"\n        ],\n        \"semantic_type\": \"\",\n        \"description\": \"\"\n      }\n    },\n    {\n      \"column\": \"author\",\n      \"properties\": {\n        \"dtype\": \"string\",\n        \"num_unique_values\": 2,\n        \"samples\": [\n          \"Antoine de Saint-Exupery\",\n          \"Khalil Gibran\"\n        ],\n        \"semantic_type\": \"\",\n        \"description\": \"\"\n      }\n    },\n    {\n      \"column\": \"genre\",\n      \"properties\": {\n        \"dtype\": \"string\",\n        \"num_unique_values\": 2,\n        \"samples\": [\n          \"children\",\n          \"poetry\"\n        ],\n        \"semantic_type\": \"\",\n        \"description\": \"\"\n      }\n    },\n    {\n      \"column\": \"tags\",\n      \"properties\": {\n        \"dtype\": \"object\",\n        \"semantic_type\": \"\",\n        \"description\": \"\"\n      }\n    },\n    {\n      \"column\": \"book_id\",\n      \"properties\": {\n        \"dtype\": \"number\",\n        \"std\": null,\n        \"min\": 811.19,\n        \"max\": 811.19,\n        \"num_unique_values\": 1,\n        \"samples\": [\n          811.19\n        ],\n        \"semantic_type\": \"\",\n        \"description\": \"\"\n      }\n    },\n    {\n      \"column\": \"copies\",\n      \"properties\": {\n        \"dtype\": \"object\",\n        \"semantic_type\": \"\",\n        \"description\": \"\"\n      }\n    },\n    {\n      \"column\": \"id\",\n      \"properties\": {\n        \"dtype\": \"number\",\n        \"std\": null,\n        \"min\": 843.912,\n        \"max\": 843.912,\n        \"num_unique_values\": 1,\n        \"samples\": [\n          843.912\n        ],\n        \"semantic_type\": \"\",\n        \"description\": \"\"\n      }\n    }\n  ]\n}"
            }
          },
          "metadata": {},
          "execution_count": 45
        }
      ],
      "source": [
        "# Pandas can also read_json\n",
        "# notice how it constructs the table\n",
        "# does it represent the data well?\n",
        "\n",
        "pd.read_json('./data/library.json')"
      ]
    },
    {
      "cell_type": "code",
      "execution_count": null,
      "metadata": {
        "id": "sayVvBuTav2e",
        "outputId": "8f73aa6e-bdde-4e65-e51e-75a6baff65f5",
        "colab": {
          "base_uri": "https://localhost:8080/"
        }
      },
      "outputs": [
        {
          "output_type": "stream",
          "name": "stdout",
          "text": [
            "{\"name\":{\"0\":\"Dylan\",\"1\":\"Terrence\",\"2\":\"Mya\"},\"age\":{\"0\":27,\"1\":54,\"2\":31}}"
          ]
        }
      ],
      "source": [
        "# and to_json\n",
        "df.to_json('./data/example_df.json')\n",
        "\n",
        "!head ./data/example_df.json"
      ]
    },
    {
      "cell_type": "markdown",
      "metadata": {
        "id": "si4FQjdsav2f"
      },
      "source": [
        "Podemos descargar archivos JSON de muchas formas. A veces lo descargaremos manualmente, pero también podemos usar `wget` como hicimos en el ejemplo CSV. A menudo nos conectaremos a la API de un sitio web que responderá utilizando JSON.\n",
        "\n",
        "El método `read_json` de Panda es capaz de conectarse directamente a una URL (ya sea la dirección de un archivo JSON o una conexión API) y leer el JSON sin guardar el archivo en nuestro ordenador."
      ]
    },
    {
      "cell_type": "code",
      "execution_count": null,
      "metadata": {
        "id": "AJOUYbYqav2f",
        "outputId": "25e6a15c-8c79-4a81-d0e3-d67958bc6fba",
        "colab": {
          "base_uri": "https://localhost:8080/",
          "height": 550
        }
      },
      "outputs": [
        {
          "output_type": "execute_result",
          "data": {
            "text/plain": [
              "                                                 url  \\\n",
              "0  https://api.github.com/repos/pandas-dev/pandas...   \n",
              "1  https://api.github.com/repos/pandas-dev/pandas...   \n",
              "2  https://api.github.com/repos/pandas-dev/pandas...   \n",
              "3  https://api.github.com/repos/pandas-dev/pandas...   \n",
              "4  https://api.github.com/repos/pandas-dev/pandas...   \n",
              "\n",
              "                                   repository_url  \\\n",
              "0  https://api.github.com/repos/pandas-dev/pandas   \n",
              "1  https://api.github.com/repos/pandas-dev/pandas   \n",
              "2  https://api.github.com/repos/pandas-dev/pandas   \n",
              "3  https://api.github.com/repos/pandas-dev/pandas   \n",
              "4  https://api.github.com/repos/pandas-dev/pandas   \n",
              "\n",
              "                                          labels_url  \\\n",
              "0  https://api.github.com/repos/pandas-dev/pandas...   \n",
              "1  https://api.github.com/repos/pandas-dev/pandas...   \n",
              "2  https://api.github.com/repos/pandas-dev/pandas...   \n",
              "3  https://api.github.com/repos/pandas-dev/pandas...   \n",
              "4  https://api.github.com/repos/pandas-dev/pandas...   \n",
              "\n",
              "                                        comments_url  \\\n",
              "0  https://api.github.com/repos/pandas-dev/pandas...   \n",
              "1  https://api.github.com/repos/pandas-dev/pandas...   \n",
              "2  https://api.github.com/repos/pandas-dev/pandas...   \n",
              "3  https://api.github.com/repos/pandas-dev/pandas...   \n",
              "4  https://api.github.com/repos/pandas-dev/pandas...   \n",
              "\n",
              "                                          events_url  \\\n",
              "0  https://api.github.com/repos/pandas-dev/pandas...   \n",
              "1  https://api.github.com/repos/pandas-dev/pandas...   \n",
              "2  https://api.github.com/repos/pandas-dev/pandas...   \n",
              "3  https://api.github.com/repos/pandas-dev/pandas...   \n",
              "4  https://api.github.com/repos/pandas-dev/pandas...   \n",
              "\n",
              "                                            html_url          id  \\\n",
              "0    https://github.com/pandas-dev/pandas/pull/59672  2498165411   \n",
              "1  https://github.com/pandas-dev/pandas/issues/59671  2498100264   \n",
              "2  https://github.com/pandas-dev/pandas/issues/59670  2498053335   \n",
              "3  https://github.com/pandas-dev/pandas/issues/59667  2497714925   \n",
              "4  https://github.com/pandas-dev/pandas/issues/59666  2497329948   \n",
              "\n",
              "               node_id  number  \\\n",
              "0  PR_kwDOAA0YD856BeDO   59672   \n",
              "1   I_kwDOAA0YD86U5fwo   59671   \n",
              "2   I_kwDOAA0YD86U5UTX   59670   \n",
              "3   I_kwDOAA0YD86U4Brt   59667   \n",
              "4   I_kwDOAA0YD86U2jsc   59666   \n",
              "\n",
              "                                               title  ... closed_at  \\\n",
              "0         REF: Use numpy methods instead of np.array  ...       NaT   \n",
              "1      DOC: Clarify existence Series.dt.to_timestamp  ...       NaT   \n",
              "2  DOC: Document that DataFrame.from_records()'s ...  ...       NaT   \n",
              "3  BUG: `df.groupby().aggregate()` doesn't preser...  ...       NaT   \n",
              "4  BUG: rolling with method='table' and apply sor...  ...       NaT   \n",
              "\n",
              "  author_association active_lock_reason  draft  \\\n",
              "0             MEMBER                NaN    0.0   \n",
              "1               NONE                NaN    NaN   \n",
              "2               NONE                NaN    NaN   \n",
              "3               NONE                NaN    NaN   \n",
              "4               NONE                NaN    NaN   \n",
              "\n",
              "                                        pull_request  \\\n",
              "0  {'url': 'https://api.github.com/repos/pandas-d...   \n",
              "1                                                NaN   \n",
              "2                                                NaN   \n",
              "3                                                NaN   \n",
              "4                                                NaN   \n",
              "\n",
              "                                                body  \\\n",
              "0  Minor, but avoid a call to `np.array` when we ...   \n",
              "1  ### Pandas version checks\\n\\n- [X] I have chec...   \n",
              "2  ### Pandas version checks\\r\\n\\r\\n- [X] I have ...   \n",
              "3  ### Pandas version checks\\r\\n\\r\\n- [X] I have ...   \n",
              "4  ### Pandas version checks\\n\\n- [X] I have chec...   \n",
              "\n",
              "                                           reactions  \\\n",
              "0  {'url': 'https://api.github.com/repos/pandas-d...   \n",
              "1  {'url': 'https://api.github.com/repos/pandas-d...   \n",
              "2  {'url': 'https://api.github.com/repos/pandas-d...   \n",
              "3  {'url': 'https://api.github.com/repos/pandas-d...   \n",
              "4  {'url': 'https://api.github.com/repos/pandas-d...   \n",
              "\n",
              "                                        timeline_url performed_via_github_app  \\\n",
              "0  https://api.github.com/repos/pandas-dev/pandas...                      NaN   \n",
              "1  https://api.github.com/repos/pandas-dev/pandas...                      NaN   \n",
              "2  https://api.github.com/repos/pandas-dev/pandas...                      NaN   \n",
              "3  https://api.github.com/repos/pandas-dev/pandas...                      NaN   \n",
              "4  https://api.github.com/repos/pandas-dev/pandas...                      NaN   \n",
              "\n",
              "  state_reason  \n",
              "0          NaN  \n",
              "1          NaN  \n",
              "2          NaN  \n",
              "3          NaN  \n",
              "4          NaN  \n",
              "\n",
              "[5 rows x 30 columns]"
            ],
            "text/html": [
              "\n",
              "  <div id=\"df-02958ffa-a032-412f-9f98-ffc77243d1a5\" class=\"colab-df-container\">\n",
              "    <div>\n",
              "<style scoped>\n",
              "    .dataframe tbody tr th:only-of-type {\n",
              "        vertical-align: middle;\n",
              "    }\n",
              "\n",
              "    .dataframe tbody tr th {\n",
              "        vertical-align: top;\n",
              "    }\n",
              "\n",
              "    .dataframe thead th {\n",
              "        text-align: right;\n",
              "    }\n",
              "</style>\n",
              "<table border=\"1\" class=\"dataframe\">\n",
              "  <thead>\n",
              "    <tr style=\"text-align: right;\">\n",
              "      <th></th>\n",
              "      <th>url</th>\n",
              "      <th>repository_url</th>\n",
              "      <th>labels_url</th>\n",
              "      <th>comments_url</th>\n",
              "      <th>events_url</th>\n",
              "      <th>html_url</th>\n",
              "      <th>id</th>\n",
              "      <th>node_id</th>\n",
              "      <th>number</th>\n",
              "      <th>title</th>\n",
              "      <th>...</th>\n",
              "      <th>closed_at</th>\n",
              "      <th>author_association</th>\n",
              "      <th>active_lock_reason</th>\n",
              "      <th>draft</th>\n",
              "      <th>pull_request</th>\n",
              "      <th>body</th>\n",
              "      <th>reactions</th>\n",
              "      <th>timeline_url</th>\n",
              "      <th>performed_via_github_app</th>\n",
              "      <th>state_reason</th>\n",
              "    </tr>\n",
              "  </thead>\n",
              "  <tbody>\n",
              "    <tr>\n",
              "      <th>0</th>\n",
              "      <td>https://api.github.com/repos/pandas-dev/pandas...</td>\n",
              "      <td>https://api.github.com/repos/pandas-dev/pandas</td>\n",
              "      <td>https://api.github.com/repos/pandas-dev/pandas...</td>\n",
              "      <td>https://api.github.com/repos/pandas-dev/pandas...</td>\n",
              "      <td>https://api.github.com/repos/pandas-dev/pandas...</td>\n",
              "      <td>https://github.com/pandas-dev/pandas/pull/59672</td>\n",
              "      <td>2498165411</td>\n",
              "      <td>PR_kwDOAA0YD856BeDO</td>\n",
              "      <td>59672</td>\n",
              "      <td>REF: Use numpy methods instead of np.array</td>\n",
              "      <td>...</td>\n",
              "      <td>NaT</td>\n",
              "      <td>MEMBER</td>\n",
              "      <td>NaN</td>\n",
              "      <td>0.0</td>\n",
              "      <td>{'url': 'https://api.github.com/repos/pandas-d...</td>\n",
              "      <td>Minor, but avoid a call to `np.array` when we ...</td>\n",
              "      <td>{'url': 'https://api.github.com/repos/pandas-d...</td>\n",
              "      <td>https://api.github.com/repos/pandas-dev/pandas...</td>\n",
              "      <td>NaN</td>\n",
              "      <td>NaN</td>\n",
              "    </tr>\n",
              "    <tr>\n",
              "      <th>1</th>\n",
              "      <td>https://api.github.com/repos/pandas-dev/pandas...</td>\n",
              "      <td>https://api.github.com/repos/pandas-dev/pandas</td>\n",
              "      <td>https://api.github.com/repos/pandas-dev/pandas...</td>\n",
              "      <td>https://api.github.com/repos/pandas-dev/pandas...</td>\n",
              "      <td>https://api.github.com/repos/pandas-dev/pandas...</td>\n",
              "      <td>https://github.com/pandas-dev/pandas/issues/59671</td>\n",
              "      <td>2498100264</td>\n",
              "      <td>I_kwDOAA0YD86U5fwo</td>\n",
              "      <td>59671</td>\n",
              "      <td>DOC: Clarify existence Series.dt.to_timestamp</td>\n",
              "      <td>...</td>\n",
              "      <td>NaT</td>\n",
              "      <td>NONE</td>\n",
              "      <td>NaN</td>\n",
              "      <td>NaN</td>\n",
              "      <td>NaN</td>\n",
              "      <td>### Pandas version checks\\n\\n- [X] I have chec...</td>\n",
              "      <td>{'url': 'https://api.github.com/repos/pandas-d...</td>\n",
              "      <td>https://api.github.com/repos/pandas-dev/pandas...</td>\n",
              "      <td>NaN</td>\n",
              "      <td>NaN</td>\n",
              "    </tr>\n",
              "    <tr>\n",
              "      <th>2</th>\n",
              "      <td>https://api.github.com/repos/pandas-dev/pandas...</td>\n",
              "      <td>https://api.github.com/repos/pandas-dev/pandas</td>\n",
              "      <td>https://api.github.com/repos/pandas-dev/pandas...</td>\n",
              "      <td>https://api.github.com/repos/pandas-dev/pandas...</td>\n",
              "      <td>https://api.github.com/repos/pandas-dev/pandas...</td>\n",
              "      <td>https://github.com/pandas-dev/pandas/issues/59670</td>\n",
              "      <td>2498053335</td>\n",
              "      <td>I_kwDOAA0YD86U5UTX</td>\n",
              "      <td>59670</td>\n",
              "      <td>DOC: Document that DataFrame.from_records()'s ...</td>\n",
              "      <td>...</td>\n",
              "      <td>NaT</td>\n",
              "      <td>NONE</td>\n",
              "      <td>NaN</td>\n",
              "      <td>NaN</td>\n",
              "      <td>NaN</td>\n",
              "      <td>### Pandas version checks\\r\\n\\r\\n- [X] I have ...</td>\n",
              "      <td>{'url': 'https://api.github.com/repos/pandas-d...</td>\n",
              "      <td>https://api.github.com/repos/pandas-dev/pandas...</td>\n",
              "      <td>NaN</td>\n",
              "      <td>NaN</td>\n",
              "    </tr>\n",
              "    <tr>\n",
              "      <th>3</th>\n",
              "      <td>https://api.github.com/repos/pandas-dev/pandas...</td>\n",
              "      <td>https://api.github.com/repos/pandas-dev/pandas</td>\n",
              "      <td>https://api.github.com/repos/pandas-dev/pandas...</td>\n",
              "      <td>https://api.github.com/repos/pandas-dev/pandas...</td>\n",
              "      <td>https://api.github.com/repos/pandas-dev/pandas...</td>\n",
              "      <td>https://github.com/pandas-dev/pandas/issues/59667</td>\n",
              "      <td>2497714925</td>\n",
              "      <td>I_kwDOAA0YD86U4Brt</td>\n",
              "      <td>59667</td>\n",
              "      <td>BUG: `df.groupby().aggregate()` doesn't preser...</td>\n",
              "      <td>...</td>\n",
              "      <td>NaT</td>\n",
              "      <td>NONE</td>\n",
              "      <td>NaN</td>\n",
              "      <td>NaN</td>\n",
              "      <td>NaN</td>\n",
              "      <td>### Pandas version checks\\r\\n\\r\\n- [X] I have ...</td>\n",
              "      <td>{'url': 'https://api.github.com/repos/pandas-d...</td>\n",
              "      <td>https://api.github.com/repos/pandas-dev/pandas...</td>\n",
              "      <td>NaN</td>\n",
              "      <td>NaN</td>\n",
              "    </tr>\n",
              "    <tr>\n",
              "      <th>4</th>\n",
              "      <td>https://api.github.com/repos/pandas-dev/pandas...</td>\n",
              "      <td>https://api.github.com/repos/pandas-dev/pandas</td>\n",
              "      <td>https://api.github.com/repos/pandas-dev/pandas...</td>\n",
              "      <td>https://api.github.com/repos/pandas-dev/pandas...</td>\n",
              "      <td>https://api.github.com/repos/pandas-dev/pandas...</td>\n",
              "      <td>https://github.com/pandas-dev/pandas/issues/59666</td>\n",
              "      <td>2497329948</td>\n",
              "      <td>I_kwDOAA0YD86U2jsc</td>\n",
              "      <td>59666</td>\n",
              "      <td>BUG: rolling with method='table' and apply sor...</td>\n",
              "      <td>...</td>\n",
              "      <td>NaT</td>\n",
              "      <td>NONE</td>\n",
              "      <td>NaN</td>\n",
              "      <td>NaN</td>\n",
              "      <td>NaN</td>\n",
              "      <td>### Pandas version checks\\n\\n- [X] I have chec...</td>\n",
              "      <td>{'url': 'https://api.github.com/repos/pandas-d...</td>\n",
              "      <td>https://api.github.com/repos/pandas-dev/pandas...</td>\n",
              "      <td>NaN</td>\n",
              "      <td>NaN</td>\n",
              "    </tr>\n",
              "  </tbody>\n",
              "</table>\n",
              "<p>5 rows × 30 columns</p>\n",
              "</div>\n",
              "    <div class=\"colab-df-buttons\">\n",
              "\n",
              "  <div class=\"colab-df-container\">\n",
              "    <button class=\"colab-df-convert\" onclick=\"convertToInteractive('df-02958ffa-a032-412f-9f98-ffc77243d1a5')\"\n",
              "            title=\"Convert this dataframe to an interactive table.\"\n",
              "            style=\"display:none;\">\n",
              "\n",
              "  <svg xmlns=\"http://www.w3.org/2000/svg\" height=\"24px\" viewBox=\"0 -960 960 960\">\n",
              "    <path d=\"M120-120v-720h720v720H120Zm60-500h600v-160H180v160Zm220 220h160v-160H400v160Zm0 220h160v-160H400v160ZM180-400h160v-160H180v160Zm440 0h160v-160H620v160ZM180-180h160v-160H180v160Zm440 0h160v-160H620v160Z\"/>\n",
              "  </svg>\n",
              "    </button>\n",
              "\n",
              "  <style>\n",
              "    .colab-df-container {\n",
              "      display:flex;\n",
              "      gap: 12px;\n",
              "    }\n",
              "\n",
              "    .colab-df-convert {\n",
              "      background-color: #E8F0FE;\n",
              "      border: none;\n",
              "      border-radius: 50%;\n",
              "      cursor: pointer;\n",
              "      display: none;\n",
              "      fill: #1967D2;\n",
              "      height: 32px;\n",
              "      padding: 0 0 0 0;\n",
              "      width: 32px;\n",
              "    }\n",
              "\n",
              "    .colab-df-convert:hover {\n",
              "      background-color: #E2EBFA;\n",
              "      box-shadow: 0px 1px 2px rgba(60, 64, 67, 0.3), 0px 1px 3px 1px rgba(60, 64, 67, 0.15);\n",
              "      fill: #174EA6;\n",
              "    }\n",
              "\n",
              "    .colab-df-buttons div {\n",
              "      margin-bottom: 4px;\n",
              "    }\n",
              "\n",
              "    [theme=dark] .colab-df-convert {\n",
              "      background-color: #3B4455;\n",
              "      fill: #D2E3FC;\n",
              "    }\n",
              "\n",
              "    [theme=dark] .colab-df-convert:hover {\n",
              "      background-color: #434B5C;\n",
              "      box-shadow: 0px 1px 3px 1px rgba(0, 0, 0, 0.15);\n",
              "      filter: drop-shadow(0px 1px 2px rgba(0, 0, 0, 0.3));\n",
              "      fill: #FFFFFF;\n",
              "    }\n",
              "  </style>\n",
              "\n",
              "    <script>\n",
              "      const buttonEl =\n",
              "        document.querySelector('#df-02958ffa-a032-412f-9f98-ffc77243d1a5 button.colab-df-convert');\n",
              "      buttonEl.style.display =\n",
              "        google.colab.kernel.accessAllowed ? 'block' : 'none';\n",
              "\n",
              "      async function convertToInteractive(key) {\n",
              "        const element = document.querySelector('#df-02958ffa-a032-412f-9f98-ffc77243d1a5');\n",
              "        const dataTable =\n",
              "          await google.colab.kernel.invokeFunction('convertToInteractive',\n",
              "                                                    [key], {});\n",
              "        if (!dataTable) return;\n",
              "\n",
              "        const docLinkHtml = 'Like what you see? Visit the ' +\n",
              "          '<a target=\"_blank\" href=https://colab.research.google.com/notebooks/data_table.ipynb>data table notebook</a>'\n",
              "          + ' to learn more about interactive tables.';\n",
              "        element.innerHTML = '';\n",
              "        dataTable['output_type'] = 'display_data';\n",
              "        await google.colab.output.renderOutput(dataTable, element);\n",
              "        const docLink = document.createElement('div');\n",
              "        docLink.innerHTML = docLinkHtml;\n",
              "        element.appendChild(docLink);\n",
              "      }\n",
              "    </script>\n",
              "  </div>\n",
              "\n",
              "\n",
              "<div id=\"df-12a9c718-61de-4abc-b78e-dc7acaaf85ff\">\n",
              "  <button class=\"colab-df-quickchart\" onclick=\"quickchart('df-12a9c718-61de-4abc-b78e-dc7acaaf85ff')\"\n",
              "            title=\"Suggest charts\"\n",
              "            style=\"display:none;\">\n",
              "\n",
              "<svg xmlns=\"http://www.w3.org/2000/svg\" height=\"24px\"viewBox=\"0 0 24 24\"\n",
              "     width=\"24px\">\n",
              "    <g>\n",
              "        <path d=\"M19 3H5c-1.1 0-2 .9-2 2v14c0 1.1.9 2 2 2h14c1.1 0 2-.9 2-2V5c0-1.1-.9-2-2-2zM9 17H7v-7h2v7zm4 0h-2V7h2v10zm4 0h-2v-4h2v4z\"/>\n",
              "    </g>\n",
              "</svg>\n",
              "  </button>\n",
              "\n",
              "<style>\n",
              "  .colab-df-quickchart {\n",
              "      --bg-color: #E8F0FE;\n",
              "      --fill-color: #1967D2;\n",
              "      --hover-bg-color: #E2EBFA;\n",
              "      --hover-fill-color: #174EA6;\n",
              "      --disabled-fill-color: #AAA;\n",
              "      --disabled-bg-color: #DDD;\n",
              "  }\n",
              "\n",
              "  [theme=dark] .colab-df-quickchart {\n",
              "      --bg-color: #3B4455;\n",
              "      --fill-color: #D2E3FC;\n",
              "      --hover-bg-color: #434B5C;\n",
              "      --hover-fill-color: #FFFFFF;\n",
              "      --disabled-bg-color: #3B4455;\n",
              "      --disabled-fill-color: #666;\n",
              "  }\n",
              "\n",
              "  .colab-df-quickchart {\n",
              "    background-color: var(--bg-color);\n",
              "    border: none;\n",
              "    border-radius: 50%;\n",
              "    cursor: pointer;\n",
              "    display: none;\n",
              "    fill: var(--fill-color);\n",
              "    height: 32px;\n",
              "    padding: 0;\n",
              "    width: 32px;\n",
              "  }\n",
              "\n",
              "  .colab-df-quickchart:hover {\n",
              "    background-color: var(--hover-bg-color);\n",
              "    box-shadow: 0 1px 2px rgba(60, 64, 67, 0.3), 0 1px 3px 1px rgba(60, 64, 67, 0.15);\n",
              "    fill: var(--button-hover-fill-color);\n",
              "  }\n",
              "\n",
              "  .colab-df-quickchart-complete:disabled,\n",
              "  .colab-df-quickchart-complete:disabled:hover {\n",
              "    background-color: var(--disabled-bg-color);\n",
              "    fill: var(--disabled-fill-color);\n",
              "    box-shadow: none;\n",
              "  }\n",
              "\n",
              "  .colab-df-spinner {\n",
              "    border: 2px solid var(--fill-color);\n",
              "    border-color: transparent;\n",
              "    border-bottom-color: var(--fill-color);\n",
              "    animation:\n",
              "      spin 1s steps(1) infinite;\n",
              "  }\n",
              "\n",
              "  @keyframes spin {\n",
              "    0% {\n",
              "      border-color: transparent;\n",
              "      border-bottom-color: var(--fill-color);\n",
              "      border-left-color: var(--fill-color);\n",
              "    }\n",
              "    20% {\n",
              "      border-color: transparent;\n",
              "      border-left-color: var(--fill-color);\n",
              "      border-top-color: var(--fill-color);\n",
              "    }\n",
              "    30% {\n",
              "      border-color: transparent;\n",
              "      border-left-color: var(--fill-color);\n",
              "      border-top-color: var(--fill-color);\n",
              "      border-right-color: var(--fill-color);\n",
              "    }\n",
              "    40% {\n",
              "      border-color: transparent;\n",
              "      border-right-color: var(--fill-color);\n",
              "      border-top-color: var(--fill-color);\n",
              "    }\n",
              "    60% {\n",
              "      border-color: transparent;\n",
              "      border-right-color: var(--fill-color);\n",
              "    }\n",
              "    80% {\n",
              "      border-color: transparent;\n",
              "      border-right-color: var(--fill-color);\n",
              "      border-bottom-color: var(--fill-color);\n",
              "    }\n",
              "    90% {\n",
              "      border-color: transparent;\n",
              "      border-bottom-color: var(--fill-color);\n",
              "    }\n",
              "  }\n",
              "</style>\n",
              "\n",
              "  <script>\n",
              "    async function quickchart(key) {\n",
              "      const quickchartButtonEl =\n",
              "        document.querySelector('#' + key + ' button');\n",
              "      quickchartButtonEl.disabled = true;  // To prevent multiple clicks.\n",
              "      quickchartButtonEl.classList.add('colab-df-spinner');\n",
              "      try {\n",
              "        const charts = await google.colab.kernel.invokeFunction(\n",
              "            'suggestCharts', [key], {});\n",
              "      } catch (error) {\n",
              "        console.error('Error during call to suggestCharts:', error);\n",
              "      }\n",
              "      quickchartButtonEl.classList.remove('colab-df-spinner');\n",
              "      quickchartButtonEl.classList.add('colab-df-quickchart-complete');\n",
              "    }\n",
              "    (() => {\n",
              "      let quickchartButtonEl =\n",
              "        document.querySelector('#df-12a9c718-61de-4abc-b78e-dc7acaaf85ff button');\n",
              "      quickchartButtonEl.style.display =\n",
              "        google.colab.kernel.accessAllowed ? 'block' : 'none';\n",
              "    })();\n",
              "  </script>\n",
              "</div>\n",
              "\n",
              "    </div>\n",
              "  </div>\n"
            ],
            "application/vnd.google.colaboratory.intrinsic+json": {
              "type": "dataframe"
            }
          },
          "metadata": {},
          "execution_count": 47
        }
      ],
      "source": [
        "pd.read_json('https://api.github.com/repos/pydata/pandas/issues?per_page=5')"
      ]
    },
    {
      "cell_type": "markdown",
      "metadata": {
        "id": "2HXzYrq0av2f"
      },
      "source": [
        "## Archivos comprimidos (Gzip)\n",
        "\n",
        "Otra forma de ahorrar almacenamiento y recursos de red es mediante el uso de **compresión**. Muchas veces los conjuntos de datos contendrán patrones que pueden usarse para reducir la cantidad de espacio necesario para almacenar la información.\n",
        "\n",
        "Un ejemplo sencillo es la siguiente lista de números: 10, 10, 10, 2, 3, 3, 3, 3, 3, 50, 50, 1, 1, 50, 10, 10, 10, 10\n",
        "\n",
        "En lugar de escribir la lista completa de números (18 enteros), podemos representar la misma información con sólo 14 números: (3, 10), (1, 2), (5, 3), (2, 50), ( 2, 1), (1, 50), (4, 10)\n",
        "\n",
        "Aquí el primer número de cada par es el número de repeticiones y el segundo número del par es el valor real. Hemos reducido con éxito la cantidad de números que necesitamos para representar los mismos datos. La mayoría de las formas de compresión utilizan una idea similar, aunque las implementaciones reales suelen ser más complejas.\n",
        "\n",
        "En el mundo de la ciencia de datos, la compresión más común es Gzip (que utiliza el [algoritmo deflate](http://www.infinitepartitions.com/art001.html)). Los archivos gzip terminan con la extensión `.gz`."
      ]
    },
    {
      "cell_type": "code",
      "execution_count": null,
      "metadata": {
        "id": "8lUDyK6jav2f",
        "outputId": "273d6f97-f52e-47d4-a6c4-79b3a56a521a",
        "colab": {
          "base_uri": "https://localhost:8080/"
        }
      },
      "outputs": [
        {
          "output_type": "stream",
          "name": "stdout",
          "text": [
            "--2024-08-30 23:27:23--  https://archive.org/stream/TheEpicofGilgamesh_201606/eog_djvu.txt\n",
            "Resolving archive.org (archive.org)... 207.241.224.2\n",
            "Connecting to archive.org (archive.org)|207.241.224.2|:443... connected.\n",
            "HTTP request sent, awaiting response... 200 OK\n",
            "Length: unspecified [text/html]\n",
            "Saving to: ‘./data/eog_djvu.txt’\n",
            "\n",
            "eog_djvu.txt            [ <=>                ] 238.23K  --.-KB/s    in 0.1s    \n",
            "\n",
            "2024-08-30 23:27:24 (2.26 MB/s) - ‘./data/eog_djvu.txt’ saved [243949]\n",
            "\n"
          ]
        }
      ],
      "source": [
        "!wget -P ./data/ https://archive.org/stream/TheEpicofGilgamesh_201606/eog_djvu.txt"
      ]
    },
    {
      "cell_type": "code",
      "execution_count": null,
      "metadata": {
        "id": "a-iaF28dav2f",
        "outputId": "a836c8fb-667e-4a09-9b20-6873ef8c1464",
        "colab": {
          "base_uri": "https://localhost:8080/"
        }
      },
      "outputs": [
        {
          "output_type": "stream",
          "name": "stdout",
          "text": [
            "-rw-r--r-- 1 root root 239K Aug 30 23:27 ./data/eog_djvu.txt\n",
            "-rw-r--r-- 1 root root  67K Aug 30 23:27 ./data/eog_djvu.txt.gz\n"
          ]
        }
      ],
      "source": [
        "import gzip\n",
        "\n",
        "with open('./data/eog_djvu.txt', 'r') as f:\n",
        "    text = f.read()\n",
        "\n",
        "with gzip.open('./data/eog_djvu.txt.gz', 'wb') as f:\n",
        "    f.write(bytes(text, encoding = 'utf-8'))\n",
        "\n",
        "!ls -lh ./data/eog*"
      ]
    },
    {
      "cell_type": "markdown",
      "metadata": {
        "id": "CmsJGDeZav2f"
      },
      "source": [
        "¡Pudimos comprimir el texto de La Epopeya de Gilgamesh a un tercio de su tamaño original! Recuerde que la compresión depende de los patrones de los datos. El lenguaje tiene muchos patrones, pero ¿qué pasaría si mezclamos todas las letras del texto?"
      ]
    },
    {
      "cell_type": "code",
      "execution_count": null,
      "metadata": {
        "id": "qlHBrBKxav2f",
        "outputId": "e00d3935-1461-462d-cdfa-da7ab80d3eb2",
        "colab": {
          "base_uri": "https://localhost:8080/"
        }
      },
      "outputs": [
        {
          "output_type": "stream",
          "name": "stdout",
          "text": [
            "-rw-r--r-- 1 root root 227K Aug 30 23:27 ./data/eog_djvu_scrambled.txt.gz\n",
            "-rw-r--r-- 1 root root 239K Aug 30 23:27 ./data/eog_djvu.txt\n",
            "-rw-r--r-- 1 root root  67K Aug 30 23:27 ./data/eog_djvu.txt.gz\n"
          ]
        }
      ],
      "source": [
        "import numpy as np\n",
        "\n",
        "with gzip.open('./data/eog_djvu_scrambled.txt.gz', 'wb') as f:\n",
        "    f.write(np.random.permutation(list(text)))\n",
        "\n",
        "!ls -lh ./data/eog*"
      ]
    },
    {
      "cell_type": "markdown",
      "metadata": {
        "id": "A6uq-ZnAav2g"
      },
      "source": [
        "La versión codificada sólo se comprimió a dos tercios del tamaño del original. La compresión no funcionará muy bien en datos aleatorios. La compresión tampoco funciona muy bien en datos que ya son pequeños."
      ]
    },
    {
      "cell_type": "code",
      "execution_count": null,
      "metadata": {
        "id": "_j1LDIBbav2g",
        "outputId": "fd7df93e-2dfc-4e37-93ff-189683f61613",
        "colab": {
          "base_uri": "https://localhost:8080/"
        }
      },
      "outputs": [
        {
          "output_type": "stream",
          "name": "stdout",
          "text": [
            "-rw-r--r-- 1 root root  5 Aug 30 23:27 ./data/short_text.txt\n",
            "-rw-r--r-- 1 root root 40 Aug 30 23:27 ./data/short_text.txt.gz\n"
          ]
        }
      ],
      "source": [
        "short_text = 'Hello'\n",
        "\n",
        "with open('./data/short_text.txt', 'w') as f:\n",
        "    f.write(short_text)\n",
        "\n",
        "with gzip.open('./data/short_text.txt.gz', 'wb') as f:\n",
        "    f.write(bytes(short_text, encoding='utf-8'))\n",
        "\n",
        "!ls -lh ./data/short_text*"
      ]
    },
    {
      "cell_type": "markdown",
      "metadata": {
        "id": "eww9rOlCav2g"
      },
      "source": [
        "¡El archivo comprimido es más grande que el texto sin formato! Esto se debe a que el archivo comprimido incluye un encabezado, que ocupa una pequeña cantidad de espacio adicional. Además, dado que el texto es tan corto, no es posible utilizar patrones para representar el texto de manera más eficiente. Por lo tanto, normalmente reservamos la compresión para archivos grandes.\n",
        "\n",
        "Es posible que hayas notado que cuando escribimos archivos Gzip, hemos estado usando una bandera `'wb'` en lugar de una bandera simple `'w'`. Esto se debe a que Gzip no es texto sin formato. Al comprimir el archivo escribimos archivos _binarios_. Los archivos no se pueden leer como texto sin formato."
      ]
    },
    {
      "cell_type": "code",
      "execution_count": null,
      "metadata": {
        "id": "79pyVBB-av2g",
        "outputId": "8a936adb-df12-4aab-9735-579b0f924980",
        "colab": {
          "base_uri": "https://localhost:8080/"
        }
      },
      "outputs": [
        {
          "output_type": "stream",
          "name": "stdout",
          "text": [
            "\u001f�\b\bxU�f\u0002�short_text.txt\u0000�H���\u0007\u0000����\u0005\u0000\u0000\u0000"
          ]
        }
      ],
      "source": [
        "# we have to uncompress the file\n",
        "# before we can read it\n",
        "\n",
        "!cat ./data/short_text.txt.gz"
      ]
    },
    {
      "cell_type": "markdown",
      "metadata": {
        "id": "LzocoXEjav2g"
      },
      "source": [
        "Sólo debemos usar `'w'` para archivos de texto sin formato (que incluyen CSV y JSON). El uso de `'w'` en lugar de `'wb'` para archivos Gzip u otros archivos que no sean texto plano (por ejemplo, imágenes) podría dañar el archivo."
      ]
    },
    {
      "cell_type": "markdown",
      "metadata": {
        "id": "XEQ8wIzAav2h"
      },
      "source": [
        "## Serialización (`pickle`)\n",
        "\n",
        "A menudo querremos guardar nuestro trabajo en Python y volver a él más tarde. Sin embargo, ese trabajo podría ser un modelo de aprendizaje automático o algún otro objeto complejo en Python. ¿Cómo guardamos objetos complejos de Python? Python tiene un módulo para este propósito llamado `pickle`. Podemos usar `pickle` para escribir un archivo binario que contenga toda la información sobre un objeto Python. Luego podemos cargar ese archivo pickle y reconstruir el objeto en Python."
      ]
    },
    {
      "cell_type": "code",
      "execution_count": null,
      "metadata": {
        "id": "7yi_3BBfav2i"
      },
      "outputs": [],
      "source": [
        "pickle_example = ['hello', {'a': 23, 'b': True}, (1, 2, 3), [['dogs', 'cats'], None]]"
      ]
    },
    {
      "cell_type": "code",
      "execution_count": null,
      "metadata": {
        "id": "mBjcC1jZav2i",
        "outputId": "831c55d6-42fa-4f19-9322-623245c0186d",
        "colab": {
          "base_uri": "https://localhost:8080/"
        }
      },
      "outputs": [
        {
          "output_type": "stream",
          "name": "stdout",
          "text": [
            "\u001b[0;31m---------------------------------------------------------------------------\u001b[0m\n",
            "\u001b[0;31mTypeError\u001b[0m                                 Traceback (most recent call last)\n",
            "\u001b[0;32m<ipython-input-54-a9c72e388869>\u001b[0m in \u001b[0;36m<cell line: 2>\u001b[0;34m()\u001b[0m\n",
            "\u001b[1;32m      1\u001b[0m \u001b[0;31m# we can't save this as text\u001b[0m\u001b[0;34m\u001b[0m\u001b[0;34m\u001b[0m\u001b[0m\n",
            "\u001b[1;32m      2\u001b[0m \u001b[0;32mwith\u001b[0m \u001b[0mopen\u001b[0m\u001b[0;34m(\u001b[0m\u001b[0;34m'./data/pickle_example.txt'\u001b[0m\u001b[0;34m,\u001b[0m \u001b[0;34m'w'\u001b[0m\u001b[0;34m)\u001b[0m \u001b[0;32mas\u001b[0m \u001b[0mf\u001b[0m\u001b[0;34m:\u001b[0m\u001b[0;34m\u001b[0m\u001b[0;34m\u001b[0m\u001b[0m\n",
            "\u001b[0;32m----> 3\u001b[0;31m     \u001b[0mf\u001b[0m\u001b[0;34m.\u001b[0m\u001b[0mwrite\u001b[0m\u001b[0;34m(\u001b[0m\u001b[0mpickle_example\u001b[0m\u001b[0;34m)\u001b[0m\u001b[0;34m\u001b[0m\u001b[0;34m\u001b[0m\u001b[0m\n",
            "\u001b[0m\n",
            "\u001b[0;31mTypeError\u001b[0m: write() argument must be str, not list\n"
          ]
        }
      ],
      "source": [
        "%%expect_exception TypeError\n",
        "\n",
        "# we can't save this as text\n",
        "with open('./data/pickle_example.txt', 'w') as f:\n",
        "    f.write(pickle_example)"
      ]
    },
    {
      "cell_type": "code",
      "execution_count": null,
      "metadata": {
        "id": "JRuJFnwZav2i",
        "outputId": "27b47882-31b5-4edf-a750-2755fb531425",
        "colab": {
          "base_uri": "https://localhost:8080/"
        }
      },
      "outputs": [
        {
          "output_type": "execute_result",
          "data": {
            "text/plain": [
              "['hello', {'a': 23, 'b': True}, (1, 2, 3), [['dogs', 'cats'], None]]"
            ]
          },
          "metadata": {},
          "execution_count": 55
        }
      ],
      "source": [
        "import pickle\n",
        "\n",
        "# we can save it as a pickle\n",
        "with open('./data/pickle_example.pkl', 'wb') as f:\n",
        "    pickle.dump(pickle_example, f)\n",
        "\n",
        "with open('./data/pickle_example.pkl', 'rb') as f:\n",
        "    reloaded_example = pickle.load(f)\n",
        "\n",
        "reloaded_example"
      ]
    },
    {
      "cell_type": "code",
      "execution_count": null,
      "metadata": {
        "id": "g08MAa5Vav2i",
        "outputId": "17b20926-8f1b-4e12-ed92-f97459ba2b80",
        "colab": {
          "base_uri": "https://localhost:8080/"
        }
      },
      "outputs": [
        {
          "output_type": "execute_result",
          "data": {
            "text/plain": [
              "True"
            ]
          },
          "metadata": {},
          "execution_count": 56
        }
      ],
      "source": [
        "# the reloaded example is the same as the original\n",
        "\n",
        "reloaded_example == pickle_example"
      ]
    },
    {
      "cell_type": "markdown",
      "metadata": {
        "id": "cceABNhlav2i"
      },
      "source": [
        "Pickle es una herramienta importante para los científicos de datos. El procesamiento de datos y el entrenamiento de modelos de aprendizaje automático pueden llevar mucho tiempo y es útil para guardar puntos de control.\n",
        "\n",
        "Pandas también tiene métodos `to_pickle` y `read_pickle`."
      ]
    },
    {
      "cell_type": "markdown",
      "metadata": {
        "id": "SsDzkgMEav2j"
      },
      "source": [
        "## Formatos de archivo NumPy\n",
        "\n",
        "NumPy también tiene métodos para guardar y cargar datos. Son fáciles de usar. Puede encontrar estos cuando trabaje con ciertas bibliotecas de aprendizaje automático que requieren que los datos se almacenen en matrices NumPy. Las matrices NumPy también se utilizan a menudo cuando se trabaja con datos de imágenes."
      ]
    },
    {
      "cell_type": "code",
      "execution_count": null,
      "metadata": {
        "id": "C3y17RgRav2j",
        "outputId": "21f7534e-cd07-4724-95ad-f794023ddb2c",
        "colab": {
          "base_uri": "https://localhost:8080/"
        }
      },
      "outputs": [
        {
          "output_type": "stream",
          "name": "stdout",
          "text": [
            "[[0.50428832 0.42048536 0.82037995 0.26713178]\n",
            " [0.90286734 0.50192632 0.59086466 0.25845086]\n",
            " [0.4250637  0.98470707 0.21660398 0.29447387]\n",
            " [0.44309641 0.33720282 0.42715837 0.24273877]]\n"
          ]
        }
      ],
      "source": [
        "sample_array = np.random.random((4, 4))\n",
        "print(sample_array)"
      ]
    },
    {
      "cell_type": "code",
      "execution_count": null,
      "metadata": {
        "id": "gefb-jB9av2j"
      },
      "outputs": [],
      "source": [
        "# to save as plain text\n",
        "np.savetxt('./data/sample_array.txt', sample_array)"
      ]
    },
    {
      "cell_type": "code",
      "execution_count": null,
      "metadata": {
        "id": "nK2ZyNuEav2j",
        "outputId": "18252e4f-1c62-44e5-9921-8d1a2550c621",
        "colab": {
          "base_uri": "https://localhost:8080/"
        }
      },
      "outputs": [
        {
          "output_type": "stream",
          "name": "stdout",
          "text": [
            "5.042883182891242377e-01 4.204853606568160762e-01 8.203799456397364853e-01 2.671317754328689231e-01\n",
            "9.028673404625816579e-01 5.019263150245170113e-01 5.908646551934101376e-01 2.584508639079771131e-01\n",
            "4.250637036945377201e-01 9.847070719390087490e-01 2.166039770573527923e-01 2.944738683757304187e-01\n",
            "4.430964081147682476e-01 3.372028170449066220e-01 4.271583695080233278e-01 2.427387729516962134e-01\n"
          ]
        }
      ],
      "source": [
        "!cat ./data/sample_array.txt"
      ]
    },
    {
      "cell_type": "code",
      "execution_count": null,
      "metadata": {
        "id": "DEHXwBmFav2j",
        "outputId": "8880f51e-6e38-4906-8a62-c425c70d2884",
        "colab": {
          "base_uri": "https://localhost:8080/"
        }
      },
      "outputs": [
        {
          "output_type": "stream",
          "name": "stdout",
          "text": [
            "[[0.50428832 0.42048536 0.82037995 0.26713178]\n",
            " [0.90286734 0.50192632 0.59086466 0.25845086]\n",
            " [0.4250637  0.98470707 0.21660398 0.29447387]\n",
            " [0.44309641 0.33720282 0.42715837 0.24273877]]\n"
          ]
        }
      ],
      "source": [
        "print(np.loadtxt('./data/sample_array.txt'))"
      ]
    },
    {
      "cell_type": "code",
      "execution_count": null,
      "metadata": {
        "id": "KmKHGkmEav2j"
      },
      "outputs": [],
      "source": [
        "# to save as compressed binary\n",
        "np.save('./data/sample_array.npy', sample_array)"
      ]
    },
    {
      "cell_type": "code",
      "execution_count": null,
      "metadata": {
        "id": "hQ76xkEGav2j",
        "outputId": "085cb301-2c94-476b-9e91-057f4d44bfcf",
        "colab": {
          "base_uri": "https://localhost:8080/"
        }
      },
      "outputs": [
        {
          "output_type": "stream",
          "name": "stdout",
          "text": [
            "�NUMPY\u0001\u0000v\u0000{'descr': '<f8', 'fortran_order': False, 'shape': (4, 4), }                                                          \n",
            "��YA!#�?F�\u001dn;��?B$�q�@�?�8�߯\u0018�?�9}\fJ��?�\u0006���\u000f�?]`M�\\��?��\u0006~u��?Lk�d>4�?X��g���?��ڭ��?�Ҍ���?��t\t�[�?���\u001f���?*��\u000e�V�?�;�i\u0010\u0012�?"
          ]
        }
      ],
      "source": [
        "!cat ./data/sample_array.npy"
      ]
    },
    {
      "cell_type": "code",
      "execution_count": null,
      "metadata": {
        "id": "4OSNQcchav2k",
        "outputId": "403853ce-2a9b-44b0-f569-85f45616faba",
        "colab": {
          "base_uri": "https://localhost:8080/"
        }
      },
      "outputs": [
        {
          "output_type": "stream",
          "name": "stdout",
          "text": [
            "[[0.50428832 0.42048536 0.82037995 0.26713178]\n",
            " [0.90286734 0.50192632 0.59086466 0.25845086]\n",
            " [0.4250637  0.98470707 0.21660398 0.29447387]\n",
            " [0.44309641 0.33720282 0.42715837 0.24273877]]\n"
          ]
        }
      ],
      "source": [
        "print(np.load('./data/sample_array.npy'))"
      ]
    },
    {
      "cell_type": "markdown",
      "metadata": {
        "id": "1_r8CZUCav2k"
      },
      "source": [
        "## Temas utilizados por no discutidos:\n",
        "- Comandos BASH (!)\n",
        "-`wget`\n",
        "- `str.split()`\n",
        "- API"
      ]
    },
    {
      "cell_type": "markdown",
      "metadata": {
        "id": "XPWPsyhAav2k"
      },
      "source": []
    }
  ],
  "metadata": {
    "kernelspec": {
      "display_name": "Python 3 (ipykernel)",
      "language": "python",
      "name": "python3"
    },
    "language_info": {
      "codemirror_mode": {
        "name": "ipython",
        "version": 3
      },
      "file_extension": ".py",
      "mimetype": "text/x-python",
      "name": "python",
      "nbconvert_exporter": "python",
      "pygments_lexer": "ipython3",
      "version": "3.10.14"
    },
    "nbclean": true,
    "varInspector": {
      "cols": {
        "lenName": 16,
        "lenType": 16,
        "lenVar": 40
      },
      "kernels_config": {
        "python": {
          "delete_cmd_postfix": "",
          "delete_cmd_prefix": "del ",
          "library": "var_list.py",
          "varRefreshCmd": "print(var_dic_list())"
        },
        "r": {
          "delete_cmd_postfix": ") ",
          "delete_cmd_prefix": "rm(",
          "library": "var_list.r",
          "varRefreshCmd": "cat(var_dic_list()) "
        }
      },
      "types_to_exclude": [
        "module",
        "function",
        "builtin_function_or_method",
        "instance",
        "_Feature"
      ],
      "window_display": false
    },
    "colab": {
      "provenance": [],
      "include_colab_link": true
    }
  },
  "nbformat": 4,
  "nbformat_minor": 0
}
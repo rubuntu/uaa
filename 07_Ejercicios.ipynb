{
  "cells": [
    {
      "cell_type": "markdown",
      "metadata": {
        "id": "view-in-github",
        "colab_type": "text"
      },
      "source": [
        "<a href=\"https://colab.research.google.com/github/rubuntu/uaa/blob/main/07_Ejercicios.ipynb\" target=\"_parent\"><img src=\"https://colab.research.google.com/assets/colab-badge.svg\" alt=\"Open In Colab\"/></a>"
      ]
    },
    {
      "cell_type": "markdown",
      "metadata": {
        "id": "pCMCog3S1aIu"
      },
      "source": [
        "# Ejercicios\n"
      ]
    },
    {
      "cell_type": "markdown",
      "metadata": {
        "id": "9_2L0LKb1aIv"
      },
      "source": [
        "## Problema 1\n",
        "\n",
        "Calcular los 5 primeros números pares"
      ]
    },
    {
      "cell_type": "code",
      "execution_count": null,
      "metadata": {
        "id": "9Yb0KyPX1aIw"
      },
      "outputs": [],
      "source": [
        "numeros_pares = ..."
      ]
    },
    {
      "cell_type": "code",
      "execution_count": null,
      "metadata": {
        "id": "eoShFYB11aIw"
      },
      "outputs": [],
      "source": [
        "def pares():\n",
        "    return numeros_pares"
      ]
    },
    {
      "cell_type": "markdown",
      "metadata": {
        "id": "amL0JNhw1aIw"
      },
      "source": [
        "## Problema 2\n",
        "Toma la lista del **Problema 1** y retorna cada elemento de la lista multiplicado por 5."
      ]
    },
    {
      "cell_type": "code",
      "execution_count": null,
      "metadata": {
        "id": "DBna8NBC1aIx"
      },
      "outputs": [],
      "source": [
        "def mult(x):\n",
        "    ..."
      ]
    },
    {
      "cell_type": "markdown",
      "metadata": {
        "id": "1ItApzbZ1aIx"
      },
      "source": [
        "## Criba de Eratóstenes\n",
        "\n",
        "La criba de Eratóstenes es un algoritmo que permite hallar todos los números primos menores que un número natural dado n.  \n",
        "Definición del algoritmo en [Wikipedia](https://es.wikipedia.org/wiki/Criba_de_Erat%C3%B3stenes \"Criba de Eratóstenes\")  \n",
        "\n",
        "![Criba de Eratóstenes](https://upload.wikimedia.org/wikipedia/commons/b/b9/Sieve_of_Eratosthenes_animation.gif \"Criba de Eratóstenes\")  \n",
        "\n",
        "Con la **Criba de Eratóstenes** hallar la lista de numeros primos menores o iguales a 120.   "
      ]
    },
    {
      "cell_type": "code",
      "execution_count": null,
      "metadata": {
        "id": "i4cCCUIs1aIx"
      },
      "outputs": [],
      "source": [
        "def criba(n):\n",
        "    ..."
      ]
    }
  ],
  "metadata": {
    "jupytext": {
      "text_representation": {
        "extension": ".Rmd",
        "format_name": "rmarkdown",
        "format_version": "1.0",
        "jupytext_version": "0.8.6"
      }
    },
    "kernelspec": {
      "display_name": "Python 3",
      "language": "python",
      "name": "python3"
    },
    "language_info": {
      "codemirror_mode": {
        "name": "ipython",
        "version": 3
      },
      "file_extension": ".py",
      "mimetype": "text/x-python",
      "name": "python",
      "nbconvert_exporter": "python",
      "pygments_lexer": "ipython3",
      "version": "3.6.6"
    },
    "varInspector": {
      "cols": {
        "lenName": 16,
        "lenType": 16,
        "lenVar": 40
      },
      "kernels_config": {
        "python": {
          "delete_cmd_postfix": "",
          "delete_cmd_prefix": "del ",
          "library": "var_list.py",
          "varRefreshCmd": "print(var_dic_list())"
        },
        "r": {
          "delete_cmd_postfix": ") ",
          "delete_cmd_prefix": "rm(",
          "library": "var_list.r",
          "varRefreshCmd": "cat(var_dic_list()) "
        }
      },
      "types_to_exclude": [
        "module",
        "function",
        "builtin_function_or_method",
        "instance",
        "_Feature"
      ],
      "window_display": false
    },
    "colab": {
      "provenance": [],
      "include_colab_link": true
    }
  },
  "nbformat": 4,
  "nbformat_minor": 0
}
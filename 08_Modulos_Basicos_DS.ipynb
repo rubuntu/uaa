{
 "cells": [
  {
   "cell_type": "markdown",
   "metadata": {
    "colab_type": "text",
    "id": "view-in-github"
   },
   "source": [
    "<a href=\"https://colab.research.google.com/github/rubuntu/uaa-417-sistemas-de-gestion-de-bases-de-datos-avanzados/blob/main/07_Modulos_Basicos_DS.ipynb\" target=\"_parent\"><img src=\"https://colab.research.google.com/assets/colab-badge.svg\" alt=\"Open In Colab\"/></a>"
   ]
  },
  {
   "cell_type": "code",
   "execution_count": null,
   "metadata": {
    "id": "bPXOH6rmDE0R"
   },
   "outputs": [],
   "source": [
    "%matplotlib inline\n",
    "import matplotlib\n",
    "import seaborn as sns\n",
    "matplotlib.rcParams['savefig.dpi'] = 144"
   ]
  },
  {
   "cell_type": "code",
   "execution_count": null,
   "metadata": {
    "id": "9oArG3MyDE0S"
   },
   "outputs": [],
   "source": [
    "%%capture\n",
    "!pip install expectexception\n",
    "import expectexception"
   ]
  },
  {
   "cell_type": "markdown",
   "metadata": {
    "id": "3oX7ZNnXDE0S"
   },
   "source": [
    "# Herramientas de datos básicas: NumPy, Matplotlib, Pandas\n",
    "\n",
    "Python es un lenguaje de programación potente y flexible, pero no tiene herramientas integradas para análisis matemático o visualización de datos. Para la mayoría de los análisis de datos, confiaremos en algunas bibliotecas útiles. Exploraremos tres bibliotecas que son muy comunes para el análisis y la visualización de datos."
   ]
  },
  {
   "cell_type": "markdown",
   "metadata": {
    "id": "PAeur3C0DE0T"
   },
   "source": [
    "## NumPy\n",
    "\n",
    "El primero de ellos es NumPy. Las características principales de NumPy son tres: sus funciones matemáticas (por ejemplo, `sin`, `log`, `floor`), su submódulo `random` (útil para muestreo aleatorio) y el objeto NumPy `ndarray`.\n",
    "\n",
    "Una matriz NumPy es similar a una matriz matemática de n dimensiones. Por ejemplo,\n",
    "\n",
    "$$\\begin{bmatrix}\n",
    "    x_{11} & x_{12} & x_{13} & \\dots  & x_{1n} \\\\\n",
    "    x_{21} & x_{22} & x_{23} & \\dots  & x_{2n} \\\\\n",
    "    \\vdots & \\vdots & \\vdots & \\ddots & \\vdots \\\\\n",
    "    x_{d1} & x_{d2} & x_{d3} & \\dots  & x_{dn}\n",
    "\\end{bmatrix}$$\n",
    "\n",
    "Una matriz NumPy podría ser unidimensional (por ejemplo, [1, 5, 20, 34, ...]), bidimensional (como arriba) o muchas dimensiones. Es importante tener en cuenta que todas las filas y columnas de la matriz bidimensional tienen la misma longitud. Esto será válido para todas las dimensiones de las matrices.\n",
    "\n",
    "Comparemos esto con las listas."
   ]
  },
  {
   "cell_type": "code",
   "execution_count": null,
   "metadata": {
    "id": "mH9KgY1IDE0T"
   },
   "outputs": [],
   "source": [
    "# to access NumPy, we have to import it\n",
    "import numpy as np"
   ]
  },
  {
   "cell_type": "code",
   "execution_count": null,
   "metadata": {
    "id": "VawnMHpkDE0T"
   },
   "outputs": [],
   "source": [
    "list_of_lists = [[1, 2, 3], [4, 5, 6], [7, 8, 9]]\n",
    "print(list_of_lists)"
   ]
  },
  {
   "cell_type": "code",
   "execution_count": null,
   "metadata": {
    "id": "QSsJhJtQDE0T"
   },
   "outputs": [],
   "source": [
    "an_array = np.array(list_of_lists)\n",
    "print(an_array)"
   ]
  },
  {
   "cell_type": "code",
   "execution_count": null,
   "metadata": {
    "id": "u2fIdR3xDE0U"
   },
   "outputs": [],
   "source": [
    "non_rectangular = [[1, 2], [3, 4, 5], [6, 7, 8, 9]]\n",
    "print(non_rectangular)"
   ]
  },
  {
   "cell_type": "code",
   "execution_count": null,
   "metadata": {
    "id": "CMVEBU-ADE0U"
   },
   "outputs": [],
   "source": [
    "non_rectangular_array = np.array(non_rectangular, dtype=object)\n",
    "print(non_rectangular_array)\n"
   ]
  },
  {
   "cell_type": "markdown",
   "metadata": {
    "id": "Ll2siQ62DE0U"
   },
   "source": [
    "¿Por qué se imprimieron de manera diferente? Investiguemos su _forma_ y _tipo de datos_ (`dtype`)."
   ]
  },
  {
   "cell_type": "code",
   "execution_count": null,
   "metadata": {
    "id": "H4z5nAvRDE0U"
   },
   "outputs": [],
   "source": [
    "print(an_array.shape, an_array.dtype)\n",
    "print(non_rectangular_array.shape, non_rectangular_array.dtype)"
   ]
  },
  {
   "cell_type": "markdown",
   "metadata": {
    "id": "8m5QT_3uDE0U"
   },
   "source": [
    "El primer caso, `an_array`, es una matriz bidimensional de 3x3 (de números enteros). Por el contrario, `non_rectangular_array` es una matriz unidimensional de longitud 3 (de _objetos_, es decir, objetos de `lista`).\n",
    "\n",
    "También podemos crear una variedad de matrices con las funciones convenientes de NumPy."
   ]
  },
  {
   "cell_type": "code",
   "execution_count": null,
   "metadata": {
    "id": "NXTsFkUbDE0V"
   },
   "outputs": [],
   "source": [
    "np.linspace(1, 10, 10)"
   ]
  },
  {
   "cell_type": "code",
   "execution_count": null,
   "metadata": {
    "id": "jT_LEeGzDE0V"
   },
   "outputs": [],
   "source": [
    "np.arange(1, 10, 1)"
   ]
  },
  {
   "cell_type": "code",
   "execution_count": null,
   "metadata": {
    "id": "u6WDOYilDE0V"
   },
   "outputs": [],
   "source": [
    "np.logspace(1, 10, 10)"
   ]
  },
  {
   "cell_type": "code",
   "execution_count": null,
   "metadata": {
    "id": "EEYR5CFcDE0V"
   },
   "outputs": [],
   "source": [
    "np.zeros(10)"
   ]
  },
  {
   "cell_type": "code",
   "execution_count": null,
   "metadata": {
    "id": "WpXvSVmxDE0V"
   },
   "outputs": [],
   "source": [
    "np.diag([1,2,3,4])"
   ]
  },
  {
   "cell_type": "code",
   "execution_count": null,
   "metadata": {
    "id": "sQyfe2v2DE0V"
   },
   "outputs": [],
   "source": [
    "np.eye(5)"
   ]
  },
  {
   "cell_type": "markdown",
   "metadata": {
    "id": "TgZanZm2DE0V"
   },
   "source": [
    "También podemos convertir el `dtype` de una matriz después de su creación."
   ]
  },
  {
   "cell_type": "code",
   "execution_count": null,
   "metadata": {
    "id": "5a-TJas2DE0V"
   },
   "outputs": [],
   "source": [
    "print(np.logspace(1, 10, 10).dtype)\n",
    "print(np.logspace(1, 10, 10).astype(int).dtype)"
   ]
  },
  {
   "cell_type": "markdown",
   "metadata": {
    "id": "_aahQATnDE0V"
   },
   "source": [
    "¿Por qué importa todo esto?\n",
    "\n",
    "Las matrices suelen ser más eficientes en términos de código y recursos computacionales para ciertos cálculos. Computacionalmente, esta eficiencia proviene del hecho de que preasignamos un bloque de memoria contiguo para los resultados de nuestro cálculo.\n",
    "\n",
    "Para explorar las ventajas del código, intentemos hacer algunos cálculos con estos números.\n",
    "\n",
    "Primero, simplemente calculemos la suma de todos los números y observemos las diferencias en el código necesario para `list_of_lists`, `an_array` y `non_rectangular_array`."
   ]
  },
  {
   "cell_type": "code",
   "execution_count": null,
   "metadata": {
    "id": "dWiVmAPIDE0W"
   },
   "outputs": [],
   "source": [
    "print(sum([sum(inner_list) for inner_list in list_of_lists]))\n",
    "print(an_array.sum())"
   ]
  },
  {
   "cell_type": "markdown",
   "metadata": {
    "id": "6xUDi6CMDE0W"
   },
   "source": [
    "Sumar los números en una matriz es mucho más fácil que en una lista de listas. No tenemos que profundizar en una jerarquía de listas, simplemente usamos el método \"suma\" de \"ndarray\". ¿Esto todavía funciona para `non_rectangular_array`?"
   ]
  },
  {
   "cell_type": "code",
   "execution_count": null,
   "metadata": {
    "id": "uusGqf22DE0W"
   },
   "outputs": [],
   "source": [
    "# what happens here?\n",
    "print(non_rectangular_array.sum())"
   ]
  },
  {
   "cell_type": "markdown",
   "metadata": {
    "id": "iHm_1zaaDE0W"
   },
   "source": [
    "Recuerde que `non_rectangular_array` es una matriz unidimensional de objetos de `lista`. El método `suma` intenta sumarlos: primera lista + segunda lista + tercera lista. La adición de listas da como resultado una _concatenación_."
   ]
  },
  {
   "cell_type": "code",
   "execution_count": null,
   "metadata": {
    "id": "I_DjDF2DDE0W"
   },
   "outputs": [],
   "source": [
    "# concatenate three lists\n",
    "print([1, 2] + [3, 4, 5] + [6, 7, 8, 9])"
   ]
  },
  {
   "cell_type": "markdown",
   "metadata": {
    "id": "oj4TVPlVDE0W"
   },
   "source": [
    "El contraste se vuelve aún más claro cuando intentamos sumar filas o columnas individualmente."
   ]
  },
  {
   "cell_type": "code",
   "execution_count": null,
   "metadata": {
    "id": "--rN7_xpDE0W"
   },
   "outputs": [],
   "source": [
    "print('Array row sums: ', an_array.sum(axis=1))\n",
    "print('Array column sums: ', an_array.sum(axis=0))"
   ]
  },
  {
   "cell_type": "code",
   "execution_count": null,
   "metadata": {
    "id": "6P1G2jUmDE0W"
   },
   "outputs": [],
   "source": [
    "print('List of list row sums: ', [sum(inner_list) for inner_list in list_of_lists])\n",
    "\n",
    "def column_sum(list_of_lists):\n",
    "    running_sums = [0] * len(list_of_lists[0])\n",
    "    for inner_list in list_of_lists:\n",
    "        for i, number in enumerate(inner_list):\n",
    "            running_sums[i] += number\n",
    "\n",
    "    return running_sums\n",
    "\n",
    "print('List of list column sums: ', column_sum(list_of_lists))"
   ]
  },
  {
   "cell_type": "markdown",
   "metadata": {
    "id": "ADFM4hFQDE0X"
   },
   "source": [
    "Generalmente es mucho más natural hacer operaciones matemáticas con matrices que con listas."
   ]
  },
  {
   "cell_type": "code",
   "execution_count": null,
   "metadata": {
    "id": "xKEpXLByDE0X"
   },
   "outputs": [],
   "source": [
    "a = np.array([1, 2, 3, 4, 5])\n",
    "print(a + 5) # add a scalar\n",
    "print(a * 5) # multiply by a scalar\n",
    "print(a / 5.) # divide by a scalar (note the float!)"
   ]
  },
  {
   "cell_type": "code",
   "execution_count": null,
   "metadata": {
    "id": "2ZpsRLepDE0X"
   },
   "outputs": [],
   "source": [
    "b = a + 1\n",
    "print(a + b) # add together two arrays\n",
    "print(a * b) # multiply two arrays (element-wise)\n",
    "print(a / b.astype(float)) # divide two arrays (element-wise)"
   ]
  },
  {
   "cell_type": "markdown",
   "metadata": {
    "id": "mT56YJrsDE0X"
   },
   "source": [
    "Las matrices también se pueden utilizar para álgebra lineal, actuando como vectores, matrices, tensores, etc."
   ]
  },
  {
   "cell_type": "code",
   "execution_count": null,
   "metadata": {
    "id": "E4uPkC4dDE0X"
   },
   "outputs": [],
   "source": [
    "print(np.dot(a, b)) # inner product of two arrays\n",
    "print(np.outer(a, b)) # outer product of two arrays"
   ]
  },
  {
   "cell_type": "markdown",
   "metadata": {
    "id": "n-lj7FkeDE0X"
   },
   "source": [
    "Los arrays tienen mucho que ofrecernos en términos de representación y análisis de datos, ya que podemos aplicar fácilmente funciones matemáticas a conjuntos de datos o secciones de conjuntos de datos. La mayoría de las veces no tendremos ningún problema al usar matrices, pero es bueno tener en cuenta las restricciones en torno a la forma y el tipo de datos.\n",
    "\n",
    "Estas restricciones en torno a `shape` y `dtype` permiten que los objetos `ndarray` tengan un rendimiento mucho mayor en comparación con una `list` general de Python.  Hay algunas razones para esto, pero las dos principales resultan de la naturaleza escrita de `ndarray`, ya que esto permite el almacenamiento de memoria contigua y la búsqueda de funciones consistente.  Cuando se suma una \"lista\" de Python, Python necesita descubrir en tiempo de ejecución la forma correcta de agregar cada elemento de la lista.  Cuando se suma un `ndarray`, `NumPy` ya conoce el tipo de cada elemento (y son consistentes), por lo que puede sumarlos sin verificar la función de suma correcta para cada elemento.\n",
    "\n",
    "Veamos esto en acción haciendo algunos perfiles básicos.  Primero crearemos una lista de 100000 elementos aleatorios y luego cronometramos la función de suma."
   ]
  },
  {
   "cell_type": "code",
   "execution_count": null,
   "metadata": {
    "id": "Z2EDUSLaDE0X"
   },
   "outputs": [],
   "source": [
    "time_list = [np.random.random() for _ in range(100000)]\n",
    "time_arr = np.array(time_list)"
   ]
  },
  {
   "cell_type": "code",
   "execution_count": null,
   "metadata": {
    "id": "-7DtYUhzDE0X"
   },
   "outputs": [],
   "source": [
    "%%timeit\n",
    "sum(time_list)"
   ]
  },
  {
   "cell_type": "code",
   "execution_count": null,
   "metadata": {
    "id": "tBk9un3eDE0X"
   },
   "outputs": [],
   "source": [
    "%%timeit\n",
    "np.sum(time_arr)"
   ]
  },
  {
   "cell_type": "markdown",
   "metadata": {
    "id": "n0doHKONDE0Y"
   },
   "source": [
    "### Agregación de datos básicos\n",
    "\n",
    "Exploremos algunos ejemplos más del uso de matrices, esta vez usando el submódulo \"aleatorio\" de NumPy para crear algunos \"datos falsos\"."
   ]
  },
  {
   "cell_type": "code",
   "execution_count": null,
   "metadata": {
    "id": "gJvlxQQ9DE0c"
   },
   "outputs": [],
   "source": [
    "jan_coffee_sales = np.random.randint(25, 200, size=(4, 7))\n",
    "print(jan_coffee_sales)"
   ]
  },
  {
   "cell_type": "code",
   "execution_count": null,
   "metadata": {
    "id": "pEtbLGUrDE0c"
   },
   "outputs": [],
   "source": [
    "# mean sales\n",
    "print('Mean coffees sold per day in January: %d' % jan_coffee_sales.mean())"
   ]
  },
  {
   "cell_type": "code",
   "execution_count": null,
   "metadata": {
    "id": "2436eCfiDE0c"
   },
   "outputs": [],
   "source": [
    "# mean sales for Monday\n",
    "print('Mean coffees sold on Monday in January: %d' % jan_coffee_sales[:, 1].mean())"
   ]
  },
  {
   "cell_type": "code",
   "execution_count": null,
   "metadata": {
    "id": "1NtdfSJbDE0d"
   },
   "outputs": [],
   "source": [
    "# day with most sales\n",
    "# remember we count dates from 1, not 0!\n",
    "print('Day with highest sales was January %d' % (jan_coffee_sales.argmax() + 1))"
   ]
  },
  {
   "cell_type": "code",
   "execution_count": null,
   "metadata": {
    "id": "1zxZna8pDE0d"
   },
   "outputs": [],
   "source": [
    "# is there a weekly periodicity?\n",
    "normalized_sales = (jan_coffee_sales - jan_coffee_sales.mean()) / abs(jan_coffee_sales - jan_coffee_sales.mean()).max()\n",
    "print(np.mean(np.arccos(normalized_sales) / (2 * np.pi) * 7, axis=0))"
   ]
  },
  {
   "cell_type": "markdown",
   "metadata": {
    "id": "b4UxDDa2DE0d"
   },
   "source": [
    "Algunas de las funciones (`arccos` y `argmax`) que usamos anteriormente no existen en Python estándar y nos las proporciona NumPy. Además, vemos que podemos usar la forma de una matriz para ayudarnos a calcular estadísticas sobre un subconjunto de nuestros datos (por ejemplo, la cantidad media de cafés vendidos los lunes). Pero una de las cosas más poderosas que podemos hacer para explorar datos es simplemente visualizarlos."
   ]
  },
  {
   "cell_type": "markdown",
   "metadata": {
    "id": "UgpDf9CMDE0d"
   },
   "source": [
    "### Cambiando de forma\n",
    "\n",
    "A menudo querremos tomar matrices que tengan una forma y transformarlas en una forma diferente que sea más adecuada para una operación específica."
   ]
  },
  {
   "cell_type": "code",
   "execution_count": null,
   "metadata": {
    "id": "nD-OGorkDE0d"
   },
   "outputs": [],
   "source": [
    "mat = np.random.rand(20, 10)"
   ]
  },
  {
   "cell_type": "code",
   "execution_count": null,
   "metadata": {
    "id": "0tx9zMUHDE0d"
   },
   "outputs": [],
   "source": [
    "mat.reshape(40, 5).shape"
   ]
  },
  {
   "cell_type": "code",
   "execution_count": null,
   "metadata": {
    "id": "WR3ci0N-DE0d"
   },
   "outputs": [],
   "source": [
    "%%expect_exception ValueError\n",
    "\n",
    "mat.reshape(30, 5)"
   ]
  },
  {
   "cell_type": "code",
   "execution_count": null,
   "metadata": {
    "id": "TRTDe626DE0d"
   },
   "outputs": [],
   "source": [
    "mat.ravel().shape"
   ]
  },
  {
   "cell_type": "code",
   "execution_count": null,
   "metadata": {
    "id": "vko0yFo-DE0e"
   },
   "outputs": [],
   "source": [
    "mat.transpose().shape"
   ]
  },
  {
   "cell_type": "markdown",
   "metadata": {
    "id": "-1nIoC61DE0e"
   },
   "source": [
    "### Combinando matrices"
   ]
  },
  {
   "cell_type": "code",
   "execution_count": null,
   "metadata": {
    "id": "DoIYynYoDE0e"
   },
   "outputs": [],
   "source": [
    "print(a)\n",
    "print(b)"
   ]
  },
  {
   "cell_type": "code",
   "execution_count": null,
   "metadata": {
    "id": "ial1Xy2vDE0e"
   },
   "outputs": [],
   "source": [
    "np.hstack((a, b))"
   ]
  },
  {
   "cell_type": "code",
   "execution_count": null,
   "metadata": {
    "id": "HX2KK1ltDE0e"
   },
   "outputs": [],
   "source": [
    "np.vstack((a, b))"
   ]
  },
  {
   "cell_type": "code",
   "execution_count": null,
   "metadata": {
    "id": "b-OD4gXODE0e"
   },
   "outputs": [],
   "source": [
    "np.dstack((a, b))"
   ]
  },
  {
   "cell_type": "markdown",
   "metadata": {
    "id": "CQTl9QdKDE0e"
   },
   "source": [
    "### Funciones universales\n",
    "\n",
    "`NumPy` define un `ufunc` que le permite ejecutar funciones de manera eficiente sobre matrices.  Muchas de estas funciones están integradas, como `np.cos`, y se implementan en código `C` compilado de alto rendimiento.  Estas funciones pueden realizar \"difusión\", lo que les permite manejar automáticamente operaciones entre matrices de diferentes formas, por ejemplo, dos matrices con la misma forma, o una matriz y un escalar."
   ]
  },
  {
   "cell_type": "markdown",
   "metadata": {
    "id": "L3MMN7-8DE0f"
   },
   "source": [
    "## Matplotlib\n",
    "\n",
    "Matplotlib es la biblioteca de trazado de Python más popular. Nos permite visualizar datos rápidamente al proporcionar una variedad de tipos de gráficos (por ejemplo, de barras, de dispersión, de líneas, etc.). También proporciona herramientas útiles para organizar múltiples imágenes o componentes de imágenes dentro de una figura, lo que nos permite crear visualizaciones más complejas según sea necesario.\n",
    "\n",
    "¡Visualicemos algunos datos! En las siguientes celdas, generaremos algunos datos. Por ahora nos centraremos en cómo se producen los gráficos en lugar de cómo se generan los datos."
   ]
  },
  {
   "cell_type": "code",
   "execution_count": null,
   "metadata": {
    "id": "XsZkQKG2DE0f"
   },
   "outputs": [],
   "source": [
    "import matplotlib.pyplot as plt"
   ]
  },
  {
   "cell_type": "code",
   "execution_count": null,
   "metadata": {
    "id": "IFN2QQryDE0f"
   },
   "outputs": [],
   "source": [
    "def gen_stock_price(days, initial_price):\n",
    "    # stock price grows or shrinks linearly\n",
    "    # not exceeding 10% per year (heuristic)\n",
    "    trend = initial_price * (np.arange(days) * .1 / 365 * np.random.rand() * np.random.choice([1, -1]) + 1)\n",
    "    # noise will be about 2%\n",
    "    noise = .02 * np.random.randn(len(trend)) * trend\n",
    "    return trend + noise\n",
    "\n",
    "days = 365\n",
    "initial_prices = [80, 70, 65]\n",
    "for price in initial_prices:\n",
    "    plt.plot(np.arange(-days, 0), gen_stock_price(days, price))\n",
    "plt.title('Stock price history for last %d days' % days)\n",
    "plt.xlabel('Time (days)')\n",
    "plt.ylabel('Price (USD)')\n",
    "plt.legend(['Company A', 'Company B', 'Company C'])"
   ]
  },
  {
   "cell_type": "code",
   "execution_count": null,
   "metadata": {
    "id": "QQ4mG9iLDE0f"
   },
   "outputs": [],
   "source": [
    "from scipy.stats import linregress\n",
    "\n",
    "def gen_football_team(n_players, mean_shoe, mean_jersey):\n",
    "    shoe_sizes = np.random.normal(size=n_players, loc=mean_shoe, scale=.15 * mean_shoe)\n",
    "    jersey_sizes = mean_jersey / mean_shoe * shoe_sizes + np.random.normal(size=n_players, scale=.05 * mean_jersey)\n",
    "\n",
    "    return shoe_sizes, jersey_sizes\n",
    "\n",
    "shoes, jerseys = gen_football_team(16, 11, 100)\n",
    "\n",
    "fig = plt.figure(figsize=(12, 6))\n",
    "fig.suptitle('Football team equipment profile')\n",
    "\n",
    "ax1 = plt.subplot(221)\n",
    "ax1.hist(shoes)\n",
    "ax1.set_xlabel('Shoe size')\n",
    "ax1.set_ylabel('Counts')\n",
    "\n",
    "ax2 = plt.subplot(223)\n",
    "ax2.hist(jerseys)\n",
    "ax2.set_xlabel('Chest size (cm)')\n",
    "ax2.set_ylabel('Counts')\n",
    "\n",
    "ax3 = plt.subplot(122)\n",
    "ax3.scatter(shoes, jerseys, label='Data')\n",
    "ax3.set_xlabel('Shoe size')\n",
    "ax3.set_ylabel('Chest size (cm)')\n",
    "\n",
    "fit_line = linregress(shoes, jerseys)\n",
    "ax3.plot(shoes, fit_line[1] + fit_line[0] * shoes, 'r', label='Line of best fit')\n",
    "\n",
    "handles, labels = ax3.get_legend_handles_labels()\n",
    "ax3.legend(handles[::-1], labels[::-1])"
   ]
  },
  {
   "cell_type": "code",
   "execution_count": null,
   "metadata": {
    "id": "HaJl-aJIDE0f"
   },
   "outputs": [],
   "source": [
    "def gen_hourly_temps(days):\n",
    "    ndays = len(days)\n",
    "    seasonality = (-15 * np.cos((np.array(days) - 30) * 2.0 * np.pi / 365)).repeat(24) + 10\n",
    "    solar = -3 * np.cos(np.arange(24 * ndays) * 2.0 * np.pi / 24)\n",
    "    weather = np.interp(list(range(len(days) * 24)), list(range(0, 24 * len(days), 24 * 2)), 3 * np.random.randn(np.ceil(float(len(days)) / 2).astype(int)))\n",
    "    noise = .5 * np.random.randn(24 * len(days))\n",
    "\n",
    "    return seasonality + solar + weather + noise\n",
    "\n",
    "days = np.arange(365)\n",
    "hours = np.arange(days[0] * 24, (days[-1] + 1) * 24)\n",
    "plt.plot(hours, gen_hourly_temps(days))\n",
    "plt.title('Hourly temperatures')\n",
    "plt.xlabel('Time (hours since Jan. 1)')\n",
    "plt.ylabel('Temperature (C)')"
   ]
  },
  {
   "cell_type": "markdown",
   "metadata": {
    "id": "VAAAEfuMDE0f"
   },
   "source": [
    "En los ejemplos anteriores hemos utilizado el omnipresente comando `plot`, `subplot` para organizar múltiples gráficos en una imagen y `hist` para crear histogramas. También hemos utilizado paradigmas de trazado tanto de \"máquina de estados\" (es decir, usando una secuencia de comandos `plt.method`) como \"orientados a objetos\" (es decir, creando objetos de figuras y mutándolos). El paquete Matplotlib es muy flexible y las posibilidades de visualizar datos están limitadas en su mayoría por la imaginación. Una excelente manera de explorar Matplotlib y otros paquetes de visualización de datos es consultando sus [páginas de galería](https://matplotlib.org/gallery.html)."
   ]
  },
  {
   "cell_type": "markdown",
   "metadata": {
    "id": "no7lGGpgDE0f"
   },
   "source": [
    "# Pandas\n",
    "\n",
    "NumPy es útil para manejar datos, ya que nos permite aplicar funciones de manera eficiente a conjuntos de datos completos o seleccionar partes de ellos. Sin embargo, puede resultar difícil realizar un seguimiento de los datos relacionados que pueden estar almacenados en diferentes matrices, o del significado de los datos almacenados en diferentes filas o columnas de la misma matriz.\n",
    "\n",
    "Por ejemplo, en la sección anterior teníamos una matriz unidimensional para tallas de zapatos y otra matriz unidimensional para tallas de camisetas. Si quisiéramos buscar la talla de calzado y camiseta de un jugador en particular, tendríamos que recordar su posición en cada conjunto.\n",
    "\n",
    "Alternativamente, podríamos combinar las dos matrices unidimensionales para crear una matriz bidimensional con filas `n_players` y dos columnas (una para la talla de zapato, otra para la talla de camiseta). Pero una vez que combinamos los datos, ahora tenemos que recordar qué columna es la talla de zapato y qué columna es la talla de camiseta.\n",
    "\n",
    "El paquete Pandas presenta una herramienta muy poderosa para trabajar con datos en Python: el DataFrame. Un DataFrame es una tabla. Cada columna representa un tipo diferente de datos (a veces llamado **campo**). Las columnas tienen nombre, por lo que podría tener una columna llamada `'shoe_size'` y una columna llamada `'jersey_size'`. No tengo que recordar qué columna es cuál, porque puedo referirme a ellas por su nombre. Cada fila representa un **registro** o **entidad** diferente (por ejemplo, jugador). También puedo nombrar las filas, de modo que en lugar de recordar qué fila de mi matriz corresponde a Ronaldinho, puedo nombrar la fila 'Ronaldinho' y buscar su talla de zapato y su talla de camiseta por nombre."
   ]
  },
  {
   "cell_type": "code",
   "execution_count": null,
   "metadata": {
    "id": "DKC_BL_sDE0g"
   },
   "outputs": [],
   "source": [
    "import pandas as pd\n",
    "\n",
    "players = ['Ronaldinho', 'Pele', 'Lionel Messi', 'Zinedine Zidane', 'Didier Drogba', 'Ronaldo', 'Yaya Toure',\n",
    "           'Frank Rijkaard', 'Diego Maradona', 'Mohamed Aboutrika', \"Samuel Eto'o\", 'George Best', 'George Weah',\n",
    "           'Roberto Donadoni']\n",
    "shoes, jerseys = gen_football_team(len(players), 10, 100)\n",
    "\n",
    "df = pd.DataFrame({'shoe_size': shoes, 'jersey_size': jerseys}, index = players)\n",
    "\n",
    "df"
   ]
  },
  {
   "cell_type": "code",
   "execution_count": null,
   "metadata": {
    "id": "I0WvXSwxDE0g"
   },
   "outputs": [],
   "source": [
    "# we can also make a dataframe using zip\n",
    "\n",
    "df = pd.DataFrame(list(zip(shoes, jerseys)), columns = ['shoe_size', 'jersey_size'], index = players)\n",
    "\n",
    "df"
   ]
  },
  {
   "cell_type": "markdown",
   "metadata": {
    "id": "L_egRelkDE0g"
   },
   "source": [
    "El DataFrame tiene similitudes tanto con un \"dict\" como con un \"ndarray\" de NumPy. Por ejemplo, podemos recuperar una columna del DataFrame usando su nombre, tal como recuperaríamos un elemento de un \"dict\" usando su clave."
   ]
  },
  {
   "cell_type": "code",
   "execution_count": null,
   "metadata": {
    "id": "nE5a1hv6DE0g"
   },
   "outputs": [],
   "source": [
    "df['shoe_size']"
   ]
  },
  {
   "cell_type": "markdown",
   "metadata": {
    "id": "kw7PgSdJDE0g"
   },
   "source": [
    "Y podemos aplicar funciones fácilmente al DataFrame, tal como lo haríamos con una matriz NumPy."
   ]
  },
  {
   "cell_type": "code",
   "execution_count": null,
   "metadata": {
    "id": "aREqASDsDE0g"
   },
   "outputs": [],
   "source": [
    "np.log(df)"
   ]
  },
  {
   "cell_type": "code",
   "execution_count": null,
   "metadata": {
    "id": "bxBTHuS6DE0h"
   },
   "outputs": [],
   "source": [
    "df.mean()"
   ]
  },
  {
   "cell_type": "markdown",
   "metadata": {
    "id": "zVwiiC9BDE0h"
   },
   "source": [
    "Exploraremos la aplicación de funciones y el análisis de datos en un DataFrame con más profundidad más adelante. Primero necesitamos saber cómo recuperar, agregar y eliminar datos de un DataFrame.\n",
    "\n",
    "Ya hemos visto cómo recuperar una columna, ¿qué pasa con recuperar una fila? La sintaxis más flexible es utilizar el método `loc` del DataFrame."
   ]
  },
  {
   "cell_type": "code",
   "execution_count": null,
   "metadata": {
    "id": "k_SajZUoDE0h"
   },
   "outputs": [],
   "source": [
    "df.loc['Ronaldo']"
   ]
  },
  {
   "cell_type": "code",
   "execution_count": null,
   "metadata": {
    "id": "v5GuLxFCDE0h"
   },
   "outputs": [],
   "source": [
    "df.loc[['Ronaldo', 'George Best'], 'shoe_size']"
   ]
  },
  {
   "cell_type": "code",
   "execution_count": null,
   "metadata": {
    "id": "VXd9KAuCDE0h"
   },
   "outputs": [],
   "source": [
    "# can also select position-based slices of data\n",
    "df.loc['Ronaldo':'George Best', 'shoe_size']"
   ]
  },
  {
   "cell_type": "code",
   "execution_count": null,
   "metadata": {
    "id": "pdY63ELKDE0h"
   },
   "outputs": [],
   "source": [
    "# for position-based indexing, we will typically use iloc\n",
    "df.iloc[:5]"
   ]
  },
  {
   "cell_type": "code",
   "execution_count": null,
   "metadata": {
    "id": "cC9EYFuuDE0h"
   },
   "outputs": [],
   "source": [
    "df.iloc[2:4, 0]"
   ]
  },
  {
   "cell_type": "code",
   "execution_count": null,
   "metadata": {
    "id": "q2HC-ZXXDE0h"
   },
   "outputs": [],
   "source": [
    "# to see just the top of the DataFrame, use head\n",
    "df.head()"
   ]
  },
  {
   "cell_type": "code",
   "execution_count": null,
   "metadata": {
    "id": "BjLWjz4FDE0i"
   },
   "outputs": [],
   "source": [
    "# of for the bottom use tail\n",
    "df.tail()"
   ]
  },
  {
   "cell_type": "markdown",
   "metadata": {
    "id": "2VX_cQxKDE0i"
   },
   "source": [
    "Al igual que con un `dict`, podemos agregar datos a nuestro DataFrame simplemente usando la misma sintaxis que usaríamos para recuperar datos, pero combinándolos con una asignación."
   ]
  },
  {
   "cell_type": "code",
   "execution_count": null,
   "metadata": {
    "id": "wNWzK_y6DE0i"
   },
   "outputs": [],
   "source": [
    "# adding a new column\n",
    "df['position'] = np.random.choice(['goaltender', 'defense', 'midfield', 'attack'], size=len(df))\n",
    "df.head()"
   ]
  },
  {
   "cell_type": "code",
   "execution_count": null,
   "metadata": {
    "id": "KrNdQuyZDE0i"
   },
   "outputs": [],
   "source": [
    "# adding a new row\n",
    "df.loc['Dylan'] = {'jersey_size': 91, 'shoe_size': 9, 'position': 'midfield'}\n",
    "df.loc['Dylan']"
   ]
  },
  {
   "cell_type": "markdown",
   "metadata": {
    "id": "zjthIWd2DE0i"
   },
   "source": [
    "Para eliminar datos, podemos usar el método `drop` del DataFrame."
   ]
  },
  {
   "cell_type": "code",
   "execution_count": null,
   "metadata": {
    "id": "NIEjFX8EDE0i"
   },
   "outputs": [],
   "source": [
    "df.drop('Dylan')"
   ]
  },
  {
   "cell_type": "code",
   "execution_count": null,
   "metadata": {
    "id": "8YHEqoyfDE0i"
   },
   "outputs": [],
   "source": [
    "df.drop('position', axis=1)"
   ]
  },
  {
   "cell_type": "markdown",
   "metadata": {
    "id": "VeyEZNlqDE0j"
   },
   "source": [
    "Observe que cuando ejecutamos `df.drop('position', axis=1)`, había una entrada para `Dylan` aunque acabábamos de ejecutar `df.drop('Dylan')`. Tenemos que tener cuidado al usar `drop`; muchas funciones de DataFrame devuelven una _copia_ del DataFrame. Para que el cambio sea permanente, necesitamos reasignar `df` a la copia devuelta por `df.drop()` o tenemos que usar la palabra clave `inplace`."
   ]
  },
  {
   "cell_type": "code",
   "execution_count": null,
   "metadata": {
    "id": "nkEG7zs5DE0j"
   },
   "outputs": [],
   "source": [
    "df = df.drop('Dylan')\n",
    "df"
   ]
  },
  {
   "cell_type": "code",
   "execution_count": null,
   "metadata": {
    "id": "XrgEVndpDE0j"
   },
   "outputs": [],
   "source": [
    "df.drop('position', axis=1, inplace=True)\n",
    "df"
   ]
  },
  {
   "cell_type": "markdown",
   "metadata": {
    "id": "hHsirJUqDE0j"
   },
   "source": [
    "Exploraremos Pandas con mucho más detalle más adelante en el curso, ya que tiene muchas herramientas poderosas para el análisis de datos. Sin embargo, incluso con estas herramientas ya puedes empezar a descubrir patrones en los datos y sacar conclusiones interesantes."
   ]
  }
 ],
 "metadata": {
  "colab": {
   "include_colab_link": true,
   "provenance": []
  },
  "kernelspec": {
   "display_name": "Python 3 (ipykernel)",
   "language": "python",
   "name": "python3"
  },
  "language_info": {
   "codemirror_mode": {
    "name": "ipython",
    "version": 3
   },
   "file_extension": ".py",
   "mimetype": "text/x-python",
   "name": "python",
   "nbconvert_exporter": "python",
   "pygments_lexer": "ipython3",
   "version": "3.12.5"
  },
  "nbclean": true,
  "varInspector": {
   "cols": {
    "lenName": 16,
    "lenType": 16,
    "lenVar": 40
   },
   "kernels_config": {
    "python": {
     "delete_cmd_postfix": "",
     "delete_cmd_prefix": "del ",
     "library": "var_list.py",
     "varRefreshCmd": "print(var_dic_list())"
    },
    "r": {
     "delete_cmd_postfix": ") ",
     "delete_cmd_prefix": "rm(",
     "library": "var_list.r",
     "varRefreshCmd": "cat(var_dic_list()) "
    }
   },
   "types_to_exclude": [
    "module",
    "function",
    "builtin_function_or_method",
    "instance",
    "_Feature"
   ],
   "window_display": false
  }
 },
 "nbformat": 4,
 "nbformat_minor": 4
}
